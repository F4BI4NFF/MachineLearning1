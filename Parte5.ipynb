{
 "cells": [
  {
   "cell_type": "markdown",
   "metadata": {},
   "source": [
    "# Parte 5"
   ]
  },
  {
   "cell_type": "markdown",
   "metadata": {},
   "source": [
    "En este ejercicio se predicirá si un paciente presenta una enfermedad cardiaca a partir de ciertos indicadores mediante una regresión lineal. La variable a predecir será el máximo ritmo cardíaco alcanzado y se comprobará que tan distante es el valor real con el predecido para así poder clasificar el paciente como que posee una enfermedad o no."
   ]
  },
  {
   "cell_type": "markdown",
   "metadata": {},
   "source": [
    "   ## a) Carga de datos"
   ]
  },
  {
   "cell_type": "markdown",
   "metadata": {},
   "source": [
    "Se realiza la lectura del archivo de datos y se divide el dataframe en dos, un dataframe de entrenamiento con el 70% de los datos y uno de prueba con el restante 30%."
   ]
  },
  {
   "cell_type": "code",
   "execution_count": 36,
   "metadata": {},
   "outputs": [
    {
     "name": "stdout",
     "output_type": "stream",
     "text": [
      "Forma: (270, 14)\n",
      "<class 'pandas.core.frame.DataFrame'>\n",
      "RangeIndex: 270 entries, 0 to 269\n",
      "Data columns (total 14 columns):\n",
      "age           270 non-null float64\n",
      "sex           270 non-null float64\n",
      "chest_pain    270 non-null float64\n",
      "blood_p       270 non-null float64\n",
      "serum         270 non-null float64\n",
      "blood_s       270 non-null float64\n",
      "electro       270 non-null float64\n",
      "max_heart     270 non-null float64\n",
      "angina        270 non-null float64\n",
      "oldpeak       270 non-null float64\n",
      "slope         270 non-null float64\n",
      "vessel        270 non-null float64\n",
      "thal          270 non-null float64\n",
      "normal        270 non-null int64\n",
      "dtypes: float64(13), int64(1)\n",
      "memory usage: 29.6 KB\n",
      "Cantidad de datos de entrenamiento: 189\n",
      "Cantidad de datos de prueba: 81\n"
     ]
    }
   ],
   "source": [
    "import pandas as pd\n",
    "from sklearn.preprocessing import StandardScaler\n",
    "import sklearn.linear_model as lm\n",
    "import numpy as np\n",
    "\n",
    "headers = ['age','sex','chest_pain','blood_p','serum',\n",
    "'blood_s','electro','max_heart','angina','oldpeak','slope','vessel','thal','normal']\n",
    "df = pd.read_csv('heart.dat', header=None, names=headers, sep=' ')\n",
    "print\"Forma:\",df.shape\n",
    "df.info()\n",
    "df.describe()\n",
    "scaler = StandardScaler()\n",
    "df_scaled = pd.DataFrame(scaler.fit_transform(df), columns=df.columns)\n",
    "X = df_scaled.iloc[:,1:]\n",
    "N = X.shape[0]\n",
    "X.insert(X.shape[1], 'intercept', np.ones(N))\n",
    "y = df_scaled['max_heart']\n",
    "mascara = np.zeros(len(X))\n",
    "limit = int(len(X)*0.7)\n",
    "mascara[:limit] = 1\n",
    "istrain = mascara== 1\n",
    "Xtrain = X[istrain]\n",
    "ytrain = y[istrain]\n",
    "Xtest = X[np.logical_not(istrain)]\n",
    "ytest = y[np.logical_not(istrain)]\n",
    "print \"Cantidad de datos de entrenamiento:\", len(Xtrain) \n",
    "print \"Cantidad de datos de prueba:\",len(Xtest)\n"
   ]
  },
  {
   "cell_type": "markdown",
   "metadata": {},
   "source": [
    "Aplicamos nuevamente los métodos .info() , describe() y shape() para analizar los datos entregados. Observamos que se trata de 270 registros, cada uno con 14 atributos relevantes para la predicción, como es la edad, la presión arterial, el colesterol entre otros. En cuanto al tipo de datos, predominan los atributos con cantidades flotantes, excepto el atributo *normal* el cual es un numérico que simboliza la presencia**(2)** o no presencia**(1)** de enfermedad."
   ]
  },
  {
   "cell_type": "markdown",
   "metadata": {},
   "source": [
    "### b) Regresión lineal y umbral"
   ]
  },
  {
   "cell_type": "markdown",
   "metadata": {},
   "source": [
    "A continuación se procede a realizar la regresión lineal y se determina un umbral para determinar si un paciente presenta o no una enfermedad cardíaca."
   ]
  },
  {
   "cell_type": "code",
   "execution_count": 56,
   "metadata": {},
   "outputs": [
    {
     "name": "stdout",
     "output_type": "stream",
     "text": [
      "Error de test: 2.81867293711e-27\n",
      "Condicionamiento tr: 4145.86510591\n",
      "Condicionamiento test: 5678.11437996\n",
      "caca\n",
      "Promedio: -5.20756705933e-14\n",
      "desviacion: 1.03342861082e-14\n",
      "Score 2 desviaciones: 0.592592592593\n",
      "Score 3 desviación: 0.58024691358\n"
     ]
    }
   ],
   "source": [
    "import numpy.linalg as LA\n",
    "linreg = lm.LinearRegression(fit_intercept = False)\n",
    "modelo = linreg.fit(Xtrain, ytrain)\n",
    "yhat_val = modelo.predict(Xtest)\n",
    "error_test = np.mean(np.power(yhat_val - ytest, 2))\n",
    "print \"Error de test:\",error_test \n",
    "\n",
    "from sklearn.metrics import accuracy_score\n",
    "condicionamiento_train = LA.cond(Xtrain)\n",
    "condicionamiento_test = LA.cond(Xtest)\n",
    "print \"Condicionamiento tr:\",condicionamiento_train\n",
    "print \"Condicionamiento test:\",condicionamiento_test\n",
    "\n",
    "ytest_arr = np.array(ytest)\n",
    "print \"caca\"\n",
    "residuos = []\n",
    "for i in range(0,81):\n",
    "    residuos.append(yhat_val[i]- ytest_arr[i])  #Valor predecido - valor real\n",
    "\n",
    "    \n",
    "promedio_dif = np.mean(residuos)\n",
    "desviacion_dif = np.std(residuos)\n",
    "print \"Promedio:\",promedio_dif\n",
    "print \"desviacion:\",desviacion_dif\n",
    "\n",
    "\n",
    "enfermos_prediccion = np.ones(len(ytest))\n",
    "\n",
    "#Y_test\n",
    "promedio = np.mean(ytest)\n",
    "maximo = np.max(ytest)\n",
    "minimo = np.min(ytest)\n",
    "std = np.std(ytest)\n",
    "X_n = df.iloc[:,1:]\n",
    "N = X_n.shape[0]\n",
    "X_n.insert(X_n.shape[1], 'intercept', np.ones(N))\n",
    "y = df['max_heart']\n",
    "mascara = np.zeros(len(X_n))\n",
    "limit = int(len(X_n)*0.7)\n",
    "mascara[:limit] = 1\n",
    "istrain = mascara== 1\n",
    "Xtrain = X_n[istrain]\n",
    "Xtest = X_n[np.logical_not(istrain)]\n",
    "enfermos_reales = list(Xtest[:]['normal'])\n",
    "\n",
    "\n",
    "for i in range(len(ytest)):\n",
    "    if(ytest_arr[i] > promedio + 2*std or ytest_arr[i] < promedio - 2*std):\n",
    "        enfermos_prediccion[i] = 2\n",
    "    else:\n",
    "        enfermos_prediccion[i] = 1\n",
    "\n",
    "\n",
    "print \"Score 2 desviaciones:\", (accuracy_score(enfermos_reales,enfermos_prediccion))\n",
    "\n",
    "## 2 desviaciones fue un umbral muy crítico, con 1 desviacion :\n",
    "\n",
    "for i in range(len(ytest)):\n",
    "    if(ytest_arr[i] > promedio + std or ytest_arr[i] < promedio -std):\n",
    "        enfermos_prediccion[i] = 2\n",
    "    else:\n",
    "        enfermos_prediccion[i] = 1\n",
    "\n",
    "        \n",
    "\n",
    "for i in range(len(ytest)):\n",
    "    if(ytest_arr[i] > promedio  or ytest_arr[i] < promedio ):\n",
    "        enfermos_prediccion[i] = 2\n",
    "    else:\n",
    "        enfermos_prediccion[i] = 1\n",
    "        \n",
    "        \n",
    "        \n",
    "for i in range(len(ytest)):\n",
    "    if(ytest_arr[i] > promedio + 2.5*std or ytest_arr[i] < promedio - 2.5*std):\n",
    "        enfermos_prediccion[i] = 2\n",
    "    else:\n",
    "        enfermos_prediccion[i] = 1\n",
    "        \n",
    "print \"Score 3 desviación:\", (accuracy_score(enfermos_reales,enfermos_prediccion))\n",
    "\n"
   ]
  },
  {
   "cell_type": "markdown",
   "metadata": {},
   "source": [
    "Con la el score de accuracy puedo saber que tan bien está ajustado el umbral respecto a las predicciones, mientras más alta es, más cercano es el umbral a la realidad, esto es, que el umbral sea valido para determinar outliers.\n",
    "\n",
    "** Buscar alguna otra manera ** "
   ]
  }
 ],
 "metadata": {
  "kernelspec": {
   "display_name": "Python 2",
   "language": "python",
   "name": "python2"
  },
  "language_info": {
   "codemirror_mode": {
    "name": "ipython",
    "version": 2
   },
   "file_extension": ".py",
   "mimetype": "text/x-python",
   "name": "python",
   "nbconvert_exporter": "python",
   "pygments_lexer": "ipython2",
   "version": "2.7.13"
  }
 },
 "nbformat": 4,
 "nbformat_minor": 2
}
