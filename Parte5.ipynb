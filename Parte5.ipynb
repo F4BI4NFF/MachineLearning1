{
 "cells": [
  {
   "cell_type": "markdown",
   "metadata": {},
   "source": [
    "# Parte 5"
   ]
  },
  {
   "cell_type": "markdown",
   "metadata": {},
   "source": [
    "En el \u0013area de la salud, diagnosticar a una persona de una enfermedad de forma r\u0013apida y correcta puede llegar\n",
    "a salvarle la vida. Los encargados de realizar estos diagn\u0013osticos, son m\u0013edicos que, observando ex\u0013amenes y\n",
    "ciertos indicadores, pueden concluir qu\u0013e enfermedad presenta el paciente. Si \u0013el medico se llegase a equivocar,\n",
    "aparte de que el paciente pueda perder la vida, el medico podr\u0013\u0010a ser demandado por negligencia arriesgando\n",
    "a~nos de c\u0013arcel o pagar sumas de dinero considerable, es por estas razones que es importante no cometer\n",
    "errores.\n",
    "Pong\u0013amonos en el contexto de que usted es contratado para generar un modelo que prediga si es que un\n",
    "paciente presenta una enfermedad cardiaca a partir de ciertos indicadores, tales como la edad, sexo, presi\u0013on\n",
    "6\n",
    "sangu\u0013\u0010nea, nivel de glicemia, etc. Los datos para trabajar junto a su documentaci\u0013on pueden ser descargados\n",
    "ejecutando los siguientes comandos en un terminal (sistemas UNIX)"
   ]
  },
  {
   "cell_type": "code",
   "execution_count": 53,
   "metadata": {},
   "outputs": [
    {
     "name": "stdout",
     "output_type": "stream",
     "text": [
      "(270, 14)\n",
      "<class 'pandas.core.frame.DataFrame'>\n",
      "RangeIndex: 270 entries, 0 to 269\n",
      "Data columns (total 14 columns):\n",
      "age           270 non-null float64\n",
      "sex           270 non-null float64\n",
      "chest_pain    270 non-null float64\n",
      "blood_p       270 non-null float64\n",
      "serum         270 non-null float64\n",
      "blood_s       270 non-null float64\n",
      "electro       270 non-null float64\n",
      "max_heart     270 non-null float64\n",
      "angina        270 non-null float64\n",
      "oldpeak       270 non-null float64\n",
      "slope         270 non-null float64\n",
      "vessel        270 non-null float64\n",
      "thal          270 non-null float64\n",
      "normal        270 non-null int64\n",
      "dtypes: float64(13), int64(1)\n",
      "memory usage: 29.6 KB\n"
     ]
    }
   ],
   "source": [
    "import pandas as pd\n",
    "from sklearn.preprocessing import StandardScaler\n",
    "\n",
    "headers = ['age','sex','chest_pain','blood_p','serum',\n",
    "'blood_s','electro','max_heart','angina','oldpeak','slope','vessel','thal','normal']\n",
    "df = pd.read_csv('heart.dat', header=None, names=headers, sep=' ')\n",
    "print(df.shape)\n",
    "df.info()\n",
    "df.describe()\n",
    "scaler = StandardScaler()\n",
    "df_scaled = pd.DataFrame(scaler.fit_transform(df), columns=df.columns)\n"
   ]
  },
  {
   "cell_type": "code",
   "execution_count": 55,
   "metadata": {},
   "outputs": [
    {
     "name": "stdout",
     "output_type": "stream",
     "text": [
      "(189, 189)\n",
      "(81, 81)\n"
     ]
    }
   ],
   "source": [
    "from sklearn.preprocessing import StandardScaler\n",
    "import sklearn.linear_model as lm\n",
    "\n",
    "X = df_scaled.iloc[:,1:]\n",
    "N = X.shape[0]\n",
    "X.insert(X.shape[1], 'intercept', np.ones(N))\n",
    "y = df_scaled['max_heart']\n",
    "mascara = np.zeros(len(X))\n",
    "limit = int(len(X)*0.7)\n",
    "mascara[:limit] = 1\n",
    "istrain = mascara== 1\n",
    "Xtrain = X[istrain]\n",
    "ytrain = y[istrain]\n",
    "Xtest = X[np.logical_not(istrain)]\n",
    "ytest = y[np.logical_not(istrain)]\n",
    "\n",
    "print(len(Xtrain),len(ytrain))\n",
    "print(len(Xtest),len(ytest))\n"
   ]
  },
  {
   "cell_type": "markdown",
   "metadata": {},
   "source": [
    "# b) Entrenar y umbral"
   ]
  },
  {
   "cell_type": "code",
   "execution_count": 93,
   "metadata": {},
   "outputs": [
    {
     "name": "stdout",
     "output_type": "stream",
     "text": [
      "Error de test: 1.07725360801e-30\n",
      "Condicionamiento tr: 3.22766700604\n",
      "Condicionamiento test: 4.03700168753\n",
      "caca\n",
      "Promedio: 4.81053811326e-16\n",
      "desviacion: 9.19696057736e-16\n",
      "0.158627190609 2.26280005561 -2.27817690882 0.87582916395\n",
      "Score: 0.925925925926\n"
     ]
    }
   ],
   "source": [
    "import numpy.linalg as LA\n",
    "linreg = lm.LinearRegression(fit_intercept = False)\n",
    "modelo = linreg.fit(Xtrain, ytrain)\n",
    "yhat_val = modelo.predict(Xtest)\n",
    "error_test = np.mean(np.power(yhat_val - ytest, 2))\n",
    "print \"Error de test:\",error_test \n",
    "\n",
    "from sklearn.metrics import accuracy_score\n",
    "condicionamiento_train = LA.cond(Xtrain)\n",
    "condicionamiento_test = LA.cond(Xtest)\n",
    "print \"Condicionamiento tr:\",condicionamiento_train\n",
    "print \"Condicionamiento test:\",condicionamiento_test\n",
    "\n",
    "ytest_arr = np.array(ytest)\n",
    "print \"caca\"\n",
    "residuos = []\n",
    "for i in range(0,81):\n",
    "    residuos.append(yhat_val[i]- ytest_arr[i])  #Valor predecido - valor real\n",
    "\n",
    "    \n",
    "promedio_dif = np.mean(residuos)\n",
    "desviacion_dif = np.std(residuos)\n",
    "print \"Promedio:\",promedio_dif\n",
    "print \"desviacion:\",desviacion_dif\n",
    "\n",
    "enfermos_pred = np.ones(len(ytest_arr))\n",
    "enfermos_real = np.ones(len(ytest))\n",
    "\n",
    "\n",
    "#Y_test\n",
    "\n",
    "promedio = np.mean(ytest)\n",
    "maximo = np.max(ytest)\n",
    "minimo = np.min(ytest)\n",
    "std = np.std(ytest)\n",
    "\n",
    "print promedio,maximo,minimo,std\n",
    "\n",
    "for i in range(len(ytest)):\n",
    "    if(ytest_arr[i] > promedio + 2*std or ytest_arr[i] < promedio - 2*std):\n",
    "        enfermos_real[i] = 1\n",
    "    else:\n",
    "        enfermos_real[i] = 0\n",
    "        \n",
    "# Y_predecido\n",
    "for i in range(len(ytest_arr)):\n",
    "    if(residuos[i] > promedio_dif + 2*desviacion_dif):\n",
    "        enfermos_pred[i] = 1\n",
    "    else:\n",
    "        enfermos_pred[i] = 0\n",
    "        \n",
    "print \"Score:\", (accuracy_score(enfermos_pred,enfermos_real))"
   ]
  }
 ],
 "metadata": {
  "kernelspec": {
   "display_name": "Python 2",
   "language": "python",
   "name": "python2"
  },
  "language_info": {
   "codemirror_mode": {
    "name": "ipython",
    "version": 2
   },
   "file_extension": ".py",
   "mimetype": "text/x-python",
   "name": "python",
   "nbconvert_exporter": "python",
   "pygments_lexer": "ipython2",
   "version": "2.7.13"
  }
 },
 "nbformat": 4,
 "nbformat_minor": 2
}
