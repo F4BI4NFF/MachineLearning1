{
 "cells": [
  {
   "cell_type": "markdown",
   "metadata": {},
   "source": [
    "# Parte 1\n",
    "\n",
    "### Integrantes: Fernanda Weiss y Fabián Fernández"
   ]
  },
  {
   "cell_type": "markdown",
   "metadata": {},
   "source": [
    "En el presente se trabajará con el dataset *House Sales in King County, USA* el cuál se utilizará en el presente trabajo para evaluar modelos simples de regresión líneal. El dataset nos entrega información sobre distintas características asociadas a las ventas de casas en la localidad King County, en el rango de un año (entre mayo de 2014 y mayo de 2015), como la cantidad de habitaciones, cantidad de baños, número de pisos, etc."
   ]
  },
  {
   "cell_type": "markdown",
   "metadata": {},
   "source": [
    "### a) Construcción de dataset"
   ]
  },
  {
   "cell_type": "markdown",
   "metadata": {},
   "source": [
    "[//]: <> (a. Construya un dataframe con los datos a analizar descargándolos desde la plataforma como se indic´o. Explique por qu´e se realiza la l´ınea 4.)\n",
    "\n",
    "Comenzaremos construyendo un dataframe con los datos descritos previamente. "
   ]
  },
  {
   "cell_type": "code",
   "execution_count": 107,
   "metadata": {
    "scrolled": false
   },
   "outputs": [
    {
     "data": {
      "text/html": [
       "<div>\n",
       "<style>\n",
       "    .dataframe thead tr:only-child th {\n",
       "        text-align: right;\n",
       "    }\n",
       "\n",
       "    .dataframe thead th {\n",
       "        text-align: left;\n",
       "    }\n",
       "\n",
       "    .dataframe tbody tr th {\n",
       "        vertical-align: top;\n",
       "    }\n",
       "</style>\n",
       "<table border=\"1\" class=\"dataframe\">\n",
       "  <thead>\n",
       "    <tr style=\"text-align: right;\">\n",
       "      <th></th>\n",
       "      <th>price</th>\n",
       "      <th>bedrooms</th>\n",
       "      <th>bathrooms</th>\n",
       "      <th>sqft_living</th>\n",
       "      <th>sqft_lot</th>\n",
       "      <th>floors</th>\n",
       "      <th>waterfront</th>\n",
       "      <th>view</th>\n",
       "      <th>condition</th>\n",
       "      <th>grade</th>\n",
       "      <th>sqft_above</th>\n",
       "      <th>sqft_basement</th>\n",
       "      <th>yr_built</th>\n",
       "      <th>yr_renovated</th>\n",
       "      <th>lat</th>\n",
       "      <th>long</th>\n",
       "      <th>sqft_living15</th>\n",
       "      <th>sqft_lot15</th>\n",
       "    </tr>\n",
       "  </thead>\n",
       "  <tbody>\n",
       "    <tr>\n",
       "      <th>0</th>\n",
       "      <td>221900.0</td>\n",
       "      <td>3</td>\n",
       "      <td>1.00</td>\n",
       "      <td>1180</td>\n",
       "      <td>5650</td>\n",
       "      <td>1.0</td>\n",
       "      <td>0</td>\n",
       "      <td>0</td>\n",
       "      <td>3</td>\n",
       "      <td>7</td>\n",
       "      <td>1180</td>\n",
       "      <td>0</td>\n",
       "      <td>1955</td>\n",
       "      <td>0</td>\n",
       "      <td>47.5112</td>\n",
       "      <td>-122.257</td>\n",
       "      <td>1340</td>\n",
       "      <td>5650</td>\n",
       "    </tr>\n",
       "    <tr>\n",
       "      <th>1</th>\n",
       "      <td>538000.0</td>\n",
       "      <td>3</td>\n",
       "      <td>2.25</td>\n",
       "      <td>2570</td>\n",
       "      <td>7242</td>\n",
       "      <td>2.0</td>\n",
       "      <td>0</td>\n",
       "      <td>0</td>\n",
       "      <td>3</td>\n",
       "      <td>7</td>\n",
       "      <td>2170</td>\n",
       "      <td>400</td>\n",
       "      <td>1951</td>\n",
       "      <td>1991</td>\n",
       "      <td>47.7210</td>\n",
       "      <td>-122.319</td>\n",
       "      <td>1690</td>\n",
       "      <td>7639</td>\n",
       "    </tr>\n",
       "    <tr>\n",
       "      <th>2</th>\n",
       "      <td>180000.0</td>\n",
       "      <td>2</td>\n",
       "      <td>1.00</td>\n",
       "      <td>770</td>\n",
       "      <td>10000</td>\n",
       "      <td>1.0</td>\n",
       "      <td>0</td>\n",
       "      <td>0</td>\n",
       "      <td>3</td>\n",
       "      <td>6</td>\n",
       "      <td>770</td>\n",
       "      <td>0</td>\n",
       "      <td>1933</td>\n",
       "      <td>0</td>\n",
       "      <td>47.7379</td>\n",
       "      <td>-122.233</td>\n",
       "      <td>2720</td>\n",
       "      <td>8062</td>\n",
       "    </tr>\n",
       "    <tr>\n",
       "      <th>3</th>\n",
       "      <td>604000.0</td>\n",
       "      <td>4</td>\n",
       "      <td>3.00</td>\n",
       "      <td>1960</td>\n",
       "      <td>5000</td>\n",
       "      <td>1.0</td>\n",
       "      <td>0</td>\n",
       "      <td>0</td>\n",
       "      <td>5</td>\n",
       "      <td>7</td>\n",
       "      <td>1050</td>\n",
       "      <td>910</td>\n",
       "      <td>1965</td>\n",
       "      <td>0</td>\n",
       "      <td>47.5208</td>\n",
       "      <td>-122.393</td>\n",
       "      <td>1360</td>\n",
       "      <td>5000</td>\n",
       "    </tr>\n",
       "    <tr>\n",
       "      <th>4</th>\n",
       "      <td>510000.0</td>\n",
       "      <td>3</td>\n",
       "      <td>2.00</td>\n",
       "      <td>1680</td>\n",
       "      <td>8080</td>\n",
       "      <td>1.0</td>\n",
       "      <td>0</td>\n",
       "      <td>0</td>\n",
       "      <td>3</td>\n",
       "      <td>8</td>\n",
       "      <td>1680</td>\n",
       "      <td>0</td>\n",
       "      <td>1987</td>\n",
       "      <td>0</td>\n",
       "      <td>47.6168</td>\n",
       "      <td>-122.045</td>\n",
       "      <td>1800</td>\n",
       "      <td>7503</td>\n",
       "    </tr>\n",
       "  </tbody>\n",
       "</table>\n",
       "</div>"
      ],
      "text/plain": [
       "      price  bedrooms  bathrooms  sqft_living  sqft_lot  floors  waterfront  \\\n",
       "0  221900.0         3       1.00         1180      5650     1.0           0   \n",
       "1  538000.0         3       2.25         2570      7242     2.0           0   \n",
       "2  180000.0         2       1.00          770     10000     1.0           0   \n",
       "3  604000.0         4       3.00         1960      5000     1.0           0   \n",
       "4  510000.0         3       2.00         1680      8080     1.0           0   \n",
       "\n",
       "   view  condition  grade  sqft_above  sqft_basement  yr_built  yr_renovated  \\\n",
       "0     0          3      7        1180              0      1955             0   \n",
       "1     0          3      7        2170            400      1951          1991   \n",
       "2     0          3      6         770              0      1933             0   \n",
       "3     0          5      7        1050            910      1965             0   \n",
       "4     0          3      8        1680              0      1987             0   \n",
       "\n",
       "       lat     long  sqft_living15  sqft_lot15  \n",
       "0  47.5112 -122.257           1340        5650  \n",
       "1  47.7210 -122.319           1690        7639  \n",
       "2  47.7379 -122.233           2720        8062  \n",
       "3  47.5208 -122.393           1360        5000  \n",
       "4  47.6168 -122.045           1800        7503  "
      ]
     },
     "execution_count": 107,
     "metadata": {},
     "output_type": "execute_result"
    }
   ],
   "source": [
    "import pandas as pd\n",
    "import numpy as np\n",
    "df = pd.read_csv(\"kc_house_data.csv\")\n",
    "df.drop(['id','date','zipcode',],axis=1,inplace=True)\n",
    "df.head()"
   ]
  },
  {
   "cell_type": "markdown",
   "metadata": {},
   "source": [
    "Es importante notar que al construir el dataframe se realiza una modificación a los datos originales en la línea 4, la que realiza lo siguiente:\n",
    "\n",
    "* Se eliminan las columnas que no agregan valor al análisis que se realizará, estas columnas son el *identificador (id), fecha (date) y cógido zip (zipcode)*.\n",
    "\n",
    "\n",
    "\n",
    "* Mediante la opción *axis=1* se especifica el eje a través del cual se hará la acción, es decir en fila o columna. Por defecto se tiene *axis=0* que indica que se realice por fila, al indicar *axis=1* se indica que se realice por columna.\n",
    "[//]: <> (It specifies the axis along which the means are computed. By default axis=0. This is consistent with the numpy.mean usage when axis is specified explicitly -in numpy.mean, axis==None by default, which computes the mean  value over the flattened array , in which axis=0 along the rows -namely, index in pandas, and axis=1 along the columns. https://stackoverflow.com/questions/22149584/what-does-axis-in-pandas-mean Note: axis=1 denotes that we are referring to a column, not a row )\n",
    "* Mediante la opción *inplace* se indica que la modificación se realice directamente en el dataframe, sin tener que reasignarlo.\n",
    "[//]: <> (https://stackoverflow.com/questions/13411544/delete-column-from-pandas-dataframe-using-python-del)"
   ]
  },
  {
   "cell_type": "markdown",
   "metadata": {},
   "source": [
    "### b) Descripción de dataset"
   ]
  },
  {
   "cell_type": "markdown",
   "metadata": {},
   "source": [
    "[//]: <> (b. Describa brevemente el dataset a utilizar.)\n",
    "Luego se describe brevemente el dataset a utilizar."
   ]
  },
  {
   "cell_type": "code",
   "execution_count": 108,
   "metadata": {
    "scrolled": true
   },
   "outputs": [
    {
     "name": "stdout",
     "output_type": "stream",
     "text": [
      "shape\n",
      "info\n",
      "<class 'pandas.core.frame.DataFrame'>\n",
      "RangeIndex: 21613 entries, 0 to 21612\n",
      "Data columns (total 18 columns):\n",
      "price            21613 non-null float64\n",
      "bedrooms         21613 non-null int64\n",
      "bathrooms        21613 non-null float64\n",
      "sqft_living      21613 non-null int64\n",
      "sqft_lot         21613 non-null int64\n",
      "floors           21613 non-null float64\n",
      "waterfront       21613 non-null int64\n",
      "view             21613 non-null int64\n",
      "condition        21613 non-null int64\n",
      "grade            21613 non-null int64\n",
      "sqft_above       21613 non-null int64\n",
      "sqft_basement    21613 non-null int64\n",
      "yr_built         21613 non-null int64\n",
      "yr_renovated     21613 non-null int64\n",
      "lat              21613 non-null float64\n",
      "long             21613 non-null float64\n",
      "sqft_living15    21613 non-null int64\n",
      "sqft_lot15       21613 non-null int64\n",
      "dtypes: float64(5), int64(13)\n",
      "memory usage: 3.0 MB\n",
      "describe\n"
     ]
    },
    {
     "data": {
      "text/html": [
       "<div>\n",
       "<style>\n",
       "    .dataframe thead tr:only-child th {\n",
       "        text-align: right;\n",
       "    }\n",
       "\n",
       "    .dataframe thead th {\n",
       "        text-align: left;\n",
       "    }\n",
       "\n",
       "    .dataframe tbody tr th {\n",
       "        vertical-align: top;\n",
       "    }\n",
       "</style>\n",
       "<table border=\"1\" class=\"dataframe\">\n",
       "  <thead>\n",
       "    <tr style=\"text-align: right;\">\n",
       "      <th></th>\n",
       "      <th>price</th>\n",
       "      <th>bedrooms</th>\n",
       "      <th>bathrooms</th>\n",
       "      <th>sqft_living</th>\n",
       "      <th>sqft_lot</th>\n",
       "      <th>floors</th>\n",
       "      <th>waterfront</th>\n",
       "      <th>view</th>\n",
       "      <th>condition</th>\n",
       "      <th>grade</th>\n",
       "      <th>sqft_above</th>\n",
       "      <th>sqft_basement</th>\n",
       "      <th>yr_built</th>\n",
       "      <th>yr_renovated</th>\n",
       "      <th>lat</th>\n",
       "      <th>long</th>\n",
       "      <th>sqft_living15</th>\n",
       "      <th>sqft_lot15</th>\n",
       "    </tr>\n",
       "  </thead>\n",
       "  <tbody>\n",
       "    <tr>\n",
       "      <th>count</th>\n",
       "      <td>2.161300e+04</td>\n",
       "      <td>21613.000000</td>\n",
       "      <td>21613.000000</td>\n",
       "      <td>21613.000000</td>\n",
       "      <td>2.161300e+04</td>\n",
       "      <td>21613.000000</td>\n",
       "      <td>21613.000000</td>\n",
       "      <td>21613.000000</td>\n",
       "      <td>21613.000000</td>\n",
       "      <td>21613.000000</td>\n",
       "      <td>21613.000000</td>\n",
       "      <td>21613.000000</td>\n",
       "      <td>21613.000000</td>\n",
       "      <td>21613.000000</td>\n",
       "      <td>21613.000000</td>\n",
       "      <td>21613.000000</td>\n",
       "      <td>21613.000000</td>\n",
       "      <td>21613.000000</td>\n",
       "    </tr>\n",
       "    <tr>\n",
       "      <th>mean</th>\n",
       "      <td>5.400881e+05</td>\n",
       "      <td>3.370842</td>\n",
       "      <td>2.114757</td>\n",
       "      <td>2079.899736</td>\n",
       "      <td>1.510697e+04</td>\n",
       "      <td>1.494309</td>\n",
       "      <td>0.007542</td>\n",
       "      <td>0.234303</td>\n",
       "      <td>3.409430</td>\n",
       "      <td>7.656873</td>\n",
       "      <td>1788.390691</td>\n",
       "      <td>291.509045</td>\n",
       "      <td>1971.005136</td>\n",
       "      <td>84.402258</td>\n",
       "      <td>47.560053</td>\n",
       "      <td>-122.213896</td>\n",
       "      <td>1986.552492</td>\n",
       "      <td>12768.455652</td>\n",
       "    </tr>\n",
       "    <tr>\n",
       "      <th>std</th>\n",
       "      <td>3.671272e+05</td>\n",
       "      <td>0.930062</td>\n",
       "      <td>0.770163</td>\n",
       "      <td>918.440897</td>\n",
       "      <td>4.142051e+04</td>\n",
       "      <td>0.539989</td>\n",
       "      <td>0.086517</td>\n",
       "      <td>0.766318</td>\n",
       "      <td>0.650743</td>\n",
       "      <td>1.175459</td>\n",
       "      <td>828.090978</td>\n",
       "      <td>442.575043</td>\n",
       "      <td>29.373411</td>\n",
       "      <td>401.679240</td>\n",
       "      <td>0.138564</td>\n",
       "      <td>0.140828</td>\n",
       "      <td>685.391304</td>\n",
       "      <td>27304.179631</td>\n",
       "    </tr>\n",
       "    <tr>\n",
       "      <th>min</th>\n",
       "      <td>7.500000e+04</td>\n",
       "      <td>0.000000</td>\n",
       "      <td>0.000000</td>\n",
       "      <td>290.000000</td>\n",
       "      <td>5.200000e+02</td>\n",
       "      <td>1.000000</td>\n",
       "      <td>0.000000</td>\n",
       "      <td>0.000000</td>\n",
       "      <td>1.000000</td>\n",
       "      <td>1.000000</td>\n",
       "      <td>290.000000</td>\n",
       "      <td>0.000000</td>\n",
       "      <td>1900.000000</td>\n",
       "      <td>0.000000</td>\n",
       "      <td>47.155900</td>\n",
       "      <td>-122.519000</td>\n",
       "      <td>399.000000</td>\n",
       "      <td>651.000000</td>\n",
       "    </tr>\n",
       "    <tr>\n",
       "      <th>25%</th>\n",
       "      <td>3.219500e+05</td>\n",
       "      <td>3.000000</td>\n",
       "      <td>1.750000</td>\n",
       "      <td>1427.000000</td>\n",
       "      <td>5.040000e+03</td>\n",
       "      <td>1.000000</td>\n",
       "      <td>0.000000</td>\n",
       "      <td>0.000000</td>\n",
       "      <td>3.000000</td>\n",
       "      <td>7.000000</td>\n",
       "      <td>1190.000000</td>\n",
       "      <td>0.000000</td>\n",
       "      <td>1951.000000</td>\n",
       "      <td>0.000000</td>\n",
       "      <td>47.471000</td>\n",
       "      <td>-122.328000</td>\n",
       "      <td>1490.000000</td>\n",
       "      <td>5100.000000</td>\n",
       "    </tr>\n",
       "    <tr>\n",
       "      <th>50%</th>\n",
       "      <td>4.500000e+05</td>\n",
       "      <td>3.000000</td>\n",
       "      <td>2.250000</td>\n",
       "      <td>1910.000000</td>\n",
       "      <td>7.618000e+03</td>\n",
       "      <td>1.500000</td>\n",
       "      <td>0.000000</td>\n",
       "      <td>0.000000</td>\n",
       "      <td>3.000000</td>\n",
       "      <td>7.000000</td>\n",
       "      <td>1560.000000</td>\n",
       "      <td>0.000000</td>\n",
       "      <td>1975.000000</td>\n",
       "      <td>0.000000</td>\n",
       "      <td>47.571800</td>\n",
       "      <td>-122.230000</td>\n",
       "      <td>1840.000000</td>\n",
       "      <td>7620.000000</td>\n",
       "    </tr>\n",
       "    <tr>\n",
       "      <th>75%</th>\n",
       "      <td>6.450000e+05</td>\n",
       "      <td>4.000000</td>\n",
       "      <td>2.500000</td>\n",
       "      <td>2550.000000</td>\n",
       "      <td>1.068800e+04</td>\n",
       "      <td>2.000000</td>\n",
       "      <td>0.000000</td>\n",
       "      <td>0.000000</td>\n",
       "      <td>4.000000</td>\n",
       "      <td>8.000000</td>\n",
       "      <td>2210.000000</td>\n",
       "      <td>560.000000</td>\n",
       "      <td>1997.000000</td>\n",
       "      <td>0.000000</td>\n",
       "      <td>47.678000</td>\n",
       "      <td>-122.125000</td>\n",
       "      <td>2360.000000</td>\n",
       "      <td>10083.000000</td>\n",
       "    </tr>\n",
       "    <tr>\n",
       "      <th>max</th>\n",
       "      <td>7.700000e+06</td>\n",
       "      <td>33.000000</td>\n",
       "      <td>8.000000</td>\n",
       "      <td>13540.000000</td>\n",
       "      <td>1.651359e+06</td>\n",
       "      <td>3.500000</td>\n",
       "      <td>1.000000</td>\n",
       "      <td>4.000000</td>\n",
       "      <td>5.000000</td>\n",
       "      <td>13.000000</td>\n",
       "      <td>9410.000000</td>\n",
       "      <td>4820.000000</td>\n",
       "      <td>2015.000000</td>\n",
       "      <td>2015.000000</td>\n",
       "      <td>47.777600</td>\n",
       "      <td>-121.315000</td>\n",
       "      <td>6210.000000</td>\n",
       "      <td>871200.000000</td>\n",
       "    </tr>\n",
       "  </tbody>\n",
       "</table>\n",
       "</div>"
      ],
      "text/plain": [
       "              price      bedrooms     bathrooms   sqft_living      sqft_lot  \\\n",
       "count  2.161300e+04  21613.000000  21613.000000  21613.000000  2.161300e+04   \n",
       "mean   5.400881e+05      3.370842      2.114757   2079.899736  1.510697e+04   \n",
       "std    3.671272e+05      0.930062      0.770163    918.440897  4.142051e+04   \n",
       "min    7.500000e+04      0.000000      0.000000    290.000000  5.200000e+02   \n",
       "25%    3.219500e+05      3.000000      1.750000   1427.000000  5.040000e+03   \n",
       "50%    4.500000e+05      3.000000      2.250000   1910.000000  7.618000e+03   \n",
       "75%    6.450000e+05      4.000000      2.500000   2550.000000  1.068800e+04   \n",
       "max    7.700000e+06     33.000000      8.000000  13540.000000  1.651359e+06   \n",
       "\n",
       "             floors    waterfront          view     condition         grade  \\\n",
       "count  21613.000000  21613.000000  21613.000000  21613.000000  21613.000000   \n",
       "mean       1.494309      0.007542      0.234303      3.409430      7.656873   \n",
       "std        0.539989      0.086517      0.766318      0.650743      1.175459   \n",
       "min        1.000000      0.000000      0.000000      1.000000      1.000000   \n",
       "25%        1.000000      0.000000      0.000000      3.000000      7.000000   \n",
       "50%        1.500000      0.000000      0.000000      3.000000      7.000000   \n",
       "75%        2.000000      0.000000      0.000000      4.000000      8.000000   \n",
       "max        3.500000      1.000000      4.000000      5.000000     13.000000   \n",
       "\n",
       "         sqft_above  sqft_basement      yr_built  yr_renovated           lat  \\\n",
       "count  21613.000000   21613.000000  21613.000000  21613.000000  21613.000000   \n",
       "mean    1788.390691     291.509045   1971.005136     84.402258     47.560053   \n",
       "std      828.090978     442.575043     29.373411    401.679240      0.138564   \n",
       "min      290.000000       0.000000   1900.000000      0.000000     47.155900   \n",
       "25%     1190.000000       0.000000   1951.000000      0.000000     47.471000   \n",
       "50%     1560.000000       0.000000   1975.000000      0.000000     47.571800   \n",
       "75%     2210.000000     560.000000   1997.000000      0.000000     47.678000   \n",
       "max     9410.000000    4820.000000   2015.000000   2015.000000     47.777600   \n",
       "\n",
       "               long  sqft_living15     sqft_lot15  \n",
       "count  21613.000000   21613.000000   21613.000000  \n",
       "mean    -122.213896    1986.552492   12768.455652  \n",
       "std        0.140828     685.391304   27304.179631  \n",
       "min     -122.519000     399.000000     651.000000  \n",
       "25%     -122.328000    1490.000000    5100.000000  \n",
       "50%     -122.230000    1840.000000    7620.000000  \n",
       "75%     -122.125000    2360.000000   10083.000000  \n",
       "max     -121.315000    6210.000000  871200.000000  "
      ]
     },
     "execution_count": 108,
     "metadata": {},
     "output_type": "execute_result"
    }
   ],
   "source": [
    "print \"shape\"\n",
    "df.shape \n",
    "#Return a tuple representing the dimensionality of the DataFrame\n",
    "print \"info\"\n",
    "df.info()\n",
    "print \"describe\"\n",
    "df.describe()\n",
    "#https://pandas.pydata.org/pandas-docs/stable/generated/pandas.DataFrame.describe.html\n",
    "#https://es.wikipedia.org/wiki/Percentil"
   ]
  },
  {
   "cell_type": "markdown",
   "metadata": {},
   "source": [
    "Se ven las 18 columnas que contiene el dataframe, además podemos observar las características de cada una de ellas, como la cantidad de registros para cada una, el promedio, desviación estándar, mínimo, máximo y los percentiles 20, 50 y 75.\n",
    "\n",
    "Cada columna indica una característica de la casa en venta. Se puede observar que existen 21.613 registros de casas, en las cuales se cumple que no existen valores nulos y son valores númericos, donde la mayoría son enteros, excepto cinco características entre las que se encuentran los baños y pisos, lo que es extraño que no sean valores enteros. \n",
    "\n",
    "# REVISAR\n",
    "**Quizás haya que explicar uno o por uno con los datos dela tabla expplicando, si no explicamos como datos raros como que hay casos en que no hay baños ni habittaciones xd\n",
    "price, bedrooms,  bathrooms, sqft_living, sqft_lot, floors, waterfront, view, condition, grade, sqft_above, sqft_basement, yr_built, yr_renovated, lat, long, sqft_living15, sqft_lot15**\n",
    "https://www.kaggle.com/harlfoxem/housesalesprediction/data"
   ]
  },
  {
   "cell_type": "markdown",
   "metadata": {},
   "source": [
    "### c) Normalización de datos y transformación variable a predecir"
   ]
  },
  {
   "cell_type": "markdown",
   "metadata": {},
   "source": [
    "[//]: <> (c. Normalice los datos antes de trabajar y aplique una transformación adecuada a la variable a predecir. Explique la importancia/conveniencia de realizar estas dos operaciones.)\n",
    "\n",
    "A continuación se procede a normalizar los datos y aplicar una transformación a la variable precio**??No se que variable vamos a predecir xd Se transforma df, el dataframe completo, que sería el Trining set** R : Se va a predecir el precio "
   ]
  },
  {
   "cell_type": "code",
   "execution_count": 109,
   "metadata": {
    "collapsed": true
   },
   "outputs": [],
   "source": [
    "from sklearn.preprocessing import StandardScaler\n",
    "scaler = StandardScaler()\n",
    "df_scaled = pd.DataFrame(scaler.fit_transform(df), columns=df.columns)\n",
    "df_scaled['price'] = np.log(df['price'])  #creo que esta es la transformación xd\n",
    "\n",
    "#http://scikit-learn.org/stable/modules/generated/sklearn.preprocessing.StandardScaler.html\n",
    "#http://scikit-learn.org/stable/modules/preprocessing.html#preprocessing-scaler"
   ]
  },
  {
   "cell_type": "markdown",
   "metadata": {},
   "source": [
    "Se creó un nuevo dataframe con los datos del dataframe creado anteriormente pero transformados. Ésto centra los valores en 0 y los escala en una varianza unitaria.\n",
    "\n",
    "Es importante mencionar que es conveniente hacer estas operaciones dado que en varias funciones objetivos del ámbito de maching learning, se utilizan elementos que asumen que todas las características están centradas en 0, como por ejemplo regularizadores y kernels. Además es importante que las varianzas estén en el mismo orden, pues de lo contrario alguna de las características podría predominar dentro de la función objetivo, y así la máquina no puede aprender correctamentemente las otras características.\n",
    "Por otro lado, se debe destacar la transformación posterior que se le realizó a la característica del precio**.....**"
   ]
  },
  {
   "cell_type": "code",
   "execution_count": 110,
   "metadata": {},
   "outputs": [
    {
     "data": {
      "text/plain": [
       "array([[-0.86671733, -0.39873715, -1.44746357, ..., -0.30607896,\n",
       "        -0.9433552 , -0.26071541],\n",
       "       [-0.00568792, -0.39873715,  0.1756067 , ..., -0.74634143,\n",
       "        -0.43268619, -0.18786773],\n",
       "       [-0.98084935, -1.47395936, -1.44746357, ..., -0.13565477,\n",
       "         1.07013975, -0.17237524],\n",
       "       ..., \n",
       "       [-0.37586519, -1.47395936, -1.77207762, ..., -0.60432128,\n",
       "        -1.41025258, -0.39414129],\n",
       "       [-0.38158814, -0.39873715,  0.50022075, ...,  1.02891048,\n",
       "        -0.8412214 , -0.42051149],\n",
       "       [-0.58588173, -1.47395936, -1.77207762, ..., -0.60432128,\n",
       "        -1.41025258, -0.41794772]])"
      ]
     },
     "execution_count": 110,
     "metadata": {},
     "output_type": "execute_result"
    }
   ],
   "source": [
    "scaler.fit_transform(df)\n",
    "#http://scikit-learn.org/stable/modules/generated/sklearn.preprocessing.StandardScaler.html#sklearn.preprocessing.StandardScaler.fit_transform"
   ]
  },
  {
   "cell_type": "code",
   "execution_count": 111,
   "metadata": {
    "scrolled": true
   },
   "outputs": [
    {
     "data": {
      "text/html": [
       "<div>\n",
       "<style>\n",
       "    .dataframe thead tr:only-child th {\n",
       "        text-align: right;\n",
       "    }\n",
       "\n",
       "    .dataframe thead th {\n",
       "        text-align: left;\n",
       "    }\n",
       "\n",
       "    .dataframe tbody tr th {\n",
       "        vertical-align: top;\n",
       "    }\n",
       "</style>\n",
       "<table border=\"1\" class=\"dataframe\">\n",
       "  <thead>\n",
       "    <tr style=\"text-align: right;\">\n",
       "      <th></th>\n",
       "      <th>price</th>\n",
       "      <th>bedrooms</th>\n",
       "      <th>bathrooms</th>\n",
       "      <th>sqft_living</th>\n",
       "      <th>sqft_lot</th>\n",
       "      <th>floors</th>\n",
       "      <th>waterfront</th>\n",
       "      <th>view</th>\n",
       "      <th>condition</th>\n",
       "      <th>grade</th>\n",
       "      <th>sqft_above</th>\n",
       "      <th>sqft_basement</th>\n",
       "      <th>yr_built</th>\n",
       "      <th>yr_renovated</th>\n",
       "      <th>lat</th>\n",
       "      <th>long</th>\n",
       "      <th>sqft_living15</th>\n",
       "      <th>sqft_lot15</th>\n",
       "    </tr>\n",
       "  </thead>\n",
       "  <tbody>\n",
       "    <tr>\n",
       "      <th>count</th>\n",
       "      <td>21613.000000</td>\n",
       "      <td>2.161300e+04</td>\n",
       "      <td>2.161300e+04</td>\n",
       "      <td>2.161300e+04</td>\n",
       "      <td>2.161300e+04</td>\n",
       "      <td>2.161300e+04</td>\n",
       "      <td>2.161300e+04</td>\n",
       "      <td>2.161300e+04</td>\n",
       "      <td>2.161300e+04</td>\n",
       "      <td>2.161300e+04</td>\n",
       "      <td>2.161300e+04</td>\n",
       "      <td>2.161300e+04</td>\n",
       "      <td>2.161300e+04</td>\n",
       "      <td>2.161300e+04</td>\n",
       "      <td>2.161300e+04</td>\n",
       "      <td>2.161300e+04</td>\n",
       "      <td>2.161300e+04</td>\n",
       "      <td>2.161300e+04</td>\n",
       "    </tr>\n",
       "    <tr>\n",
       "      <th>mean</th>\n",
       "      <td>13.047817</td>\n",
       "      <td>-1.254167e-15</td>\n",
       "      <td>-1.051951e-15</td>\n",
       "      <td>3.174253e-16</td>\n",
       "      <td>3.281921e-17</td>\n",
       "      <td>-1.753125e-14</td>\n",
       "      <td>1.482989e-15</td>\n",
       "      <td>1.853096e-15</td>\n",
       "      <td>-2.636807e-15</td>\n",
       "      <td>-2.328998e-15</td>\n",
       "      <td>3.892022e-16</td>\n",
       "      <td>-2.022801e-15</td>\n",
       "      <td>3.592925e-15</td>\n",
       "      <td>4.348961e-15</td>\n",
       "      <td>-3.446807e-14</td>\n",
       "      <td>-3.637898e-14</td>\n",
       "      <td>-1.506632e-16</td>\n",
       "      <td>1.235382e-16</td>\n",
       "    </tr>\n",
       "    <tr>\n",
       "      <th>std</th>\n",
       "      <td>0.526685</td>\n",
       "      <td>1.000023e+00</td>\n",
       "      <td>1.000023e+00</td>\n",
       "      <td>1.000023e+00</td>\n",
       "      <td>1.000023e+00</td>\n",
       "      <td>1.000023e+00</td>\n",
       "      <td>1.000023e+00</td>\n",
       "      <td>1.000023e+00</td>\n",
       "      <td>1.000023e+00</td>\n",
       "      <td>1.000023e+00</td>\n",
       "      <td>1.000023e+00</td>\n",
       "      <td>1.000023e+00</td>\n",
       "      <td>1.000023e+00</td>\n",
       "      <td>1.000023e+00</td>\n",
       "      <td>1.000023e+00</td>\n",
       "      <td>1.000023e+00</td>\n",
       "      <td>1.000023e+00</td>\n",
       "      <td>1.000023e+00</td>\n",
       "    </tr>\n",
       "    <tr>\n",
       "      <th>min</th>\n",
       "      <td>11.225243</td>\n",
       "      <td>-3.624404e+00</td>\n",
       "      <td>-2.745920e+00</td>\n",
       "      <td>-1.948891e+00</td>\n",
       "      <td>-3.521759e-01</td>\n",
       "      <td>-9.154270e-01</td>\n",
       "      <td>-8.717263e-02</td>\n",
       "      <td>-3.057595e-01</td>\n",
       "      <td>-3.702668e+00</td>\n",
       "      <td>-5.663344e+00</td>\n",
       "      <td>-1.809494e+00</td>\n",
       "      <td>-6.586810e-01</td>\n",
       "      <td>-2.417383e+00</td>\n",
       "      <td>-2.101284e-01</td>\n",
       "      <td>-2.916795e+00</td>\n",
       "      <td>-2.166543e+00</td>\n",
       "      <td>-2.316325e+00</td>\n",
       "      <td>-4.438052e-01</td>\n",
       "    </tr>\n",
       "    <tr>\n",
       "      <th>25%</th>\n",
       "      <td>12.682152</td>\n",
       "      <td>-3.987371e-01</td>\n",
       "      <td>-4.736214e-01</td>\n",
       "      <td>-7.108948e-01</td>\n",
       "      <td>-2.430487e-01</td>\n",
       "      <td>-9.154270e-01</td>\n",
       "      <td>-8.717263e-02</td>\n",
       "      <td>-3.057595e-01</td>\n",
       "      <td>-6.291869e-01</td>\n",
       "      <td>-5.588357e-01</td>\n",
       "      <td>-7.226314e-01</td>\n",
       "      <td>-6.586810e-01</td>\n",
       "      <td>-6.810785e-01</td>\n",
       "      <td>-2.101284e-01</td>\n",
       "      <td>-6.426977e-01</td>\n",
       "      <td>-8.102505e-01</td>\n",
       "      <td>-7.244971e-01</td>\n",
       "      <td>-2.808593e-01</td>\n",
       "    </tr>\n",
       "    <tr>\n",
       "      <th>50%</th>\n",
       "      <td>13.017003</td>\n",
       "      <td>-3.987371e-01</td>\n",
       "      <td>1.756067e-01</td>\n",
       "      <td>-1.849914e-01</td>\n",
       "      <td>-1.808075e-01</td>\n",
       "      <td>1.053939e-02</td>\n",
       "      <td>-8.717263e-02</td>\n",
       "      <td>-3.057595e-01</td>\n",
       "      <td>-6.291869e-01</td>\n",
       "      <td>-5.588357e-01</td>\n",
       "      <td>-2.758102e-01</td>\n",
       "      <td>-6.586810e-01</td>\n",
       "      <td>1.360059e-01</td>\n",
       "      <td>-2.101284e-01</td>\n",
       "      <td>8.478232e-02</td>\n",
       "      <td>-1.143518e-01</td>\n",
       "      <td>-2.138280e-01</td>\n",
       "      <td>-1.885636e-01</td>\n",
       "    </tr>\n",
       "    <tr>\n",
       "      <th>75%</th>\n",
       "      <td>13.377006</td>\n",
       "      <td>6.764851e-01</td>\n",
       "      <td>5.002207e-01</td>\n",
       "      <td>5.118578e-01</td>\n",
       "      <td>-1.066880e-01</td>\n",
       "      <td>9.365058e-01</td>\n",
       "      <td>-8.717263e-02</td>\n",
       "      <td>-3.057595e-01</td>\n",
       "      <td>9.075535e-01</td>\n",
       "      <td>2.919156e-01</td>\n",
       "      <td>5.091458e-01</td>\n",
       "      <td>6.066704e-01</td>\n",
       "      <td>8.849999e-01</td>\n",
       "      <td>-2.101284e-01</td>\n",
       "      <td>8.512345e-01</td>\n",
       "      <td>6.312541e-01</td>\n",
       "      <td>5.448802e-01</td>\n",
       "      <td>-9.835556e-02</td>\n",
       "    </tr>\n",
       "    <tr>\n",
       "      <th>max</th>\n",
       "      <td>15.856731</td>\n",
       "      <td>3.185793e+01</td>\n",
       "      <td>7.641730e+00</td>\n",
       "      <td>1.247807e+01</td>\n",
       "      <td>3.950434e+01</td>\n",
       "      <td>3.714405e+00</td>\n",
       "      <td>1.147149e+01</td>\n",
       "      <td>4.914129e+00</td>\n",
       "      <td>2.444294e+00</td>\n",
       "      <td>4.545672e+00</td>\n",
       "      <td>9.204044e+00</td>\n",
       "      <td>1.023238e+01</td>\n",
       "      <td>1.497813e+00</td>\n",
       "      <td>4.806428e+00</td>\n",
       "      <td>1.570054e+00</td>\n",
       "      <td>6.383070e+00</td>\n",
       "      <td>6.162239e+00</td>\n",
       "      <td>3.144029e+01</td>\n",
       "    </tr>\n",
       "  </tbody>\n",
       "</table>\n",
       "</div>"
      ],
      "text/plain": [
       "              price      bedrooms     bathrooms   sqft_living      sqft_lot  \\\n",
       "count  21613.000000  2.161300e+04  2.161300e+04  2.161300e+04  2.161300e+04   \n",
       "mean      13.047817 -1.254167e-15 -1.051951e-15  3.174253e-16  3.281921e-17   \n",
       "std        0.526685  1.000023e+00  1.000023e+00  1.000023e+00  1.000023e+00   \n",
       "min       11.225243 -3.624404e+00 -2.745920e+00 -1.948891e+00 -3.521759e-01   \n",
       "25%       12.682152 -3.987371e-01 -4.736214e-01 -7.108948e-01 -2.430487e-01   \n",
       "50%       13.017003 -3.987371e-01  1.756067e-01 -1.849914e-01 -1.808075e-01   \n",
       "75%       13.377006  6.764851e-01  5.002207e-01  5.118578e-01 -1.066880e-01   \n",
       "max       15.856731  3.185793e+01  7.641730e+00  1.247807e+01  3.950434e+01   \n",
       "\n",
       "             floors    waterfront          view     condition         grade  \\\n",
       "count  2.161300e+04  2.161300e+04  2.161300e+04  2.161300e+04  2.161300e+04   \n",
       "mean  -1.753125e-14  1.482989e-15  1.853096e-15 -2.636807e-15 -2.328998e-15   \n",
       "std    1.000023e+00  1.000023e+00  1.000023e+00  1.000023e+00  1.000023e+00   \n",
       "min   -9.154270e-01 -8.717263e-02 -3.057595e-01 -3.702668e+00 -5.663344e+00   \n",
       "25%   -9.154270e-01 -8.717263e-02 -3.057595e-01 -6.291869e-01 -5.588357e-01   \n",
       "50%    1.053939e-02 -8.717263e-02 -3.057595e-01 -6.291869e-01 -5.588357e-01   \n",
       "75%    9.365058e-01 -8.717263e-02 -3.057595e-01  9.075535e-01  2.919156e-01   \n",
       "max    3.714405e+00  1.147149e+01  4.914129e+00  2.444294e+00  4.545672e+00   \n",
       "\n",
       "         sqft_above  sqft_basement      yr_built  yr_renovated           lat  \\\n",
       "count  2.161300e+04   2.161300e+04  2.161300e+04  2.161300e+04  2.161300e+04   \n",
       "mean   3.892022e-16  -2.022801e-15  3.592925e-15  4.348961e-15 -3.446807e-14   \n",
       "std    1.000023e+00   1.000023e+00  1.000023e+00  1.000023e+00  1.000023e+00   \n",
       "min   -1.809494e+00  -6.586810e-01 -2.417383e+00 -2.101284e-01 -2.916795e+00   \n",
       "25%   -7.226314e-01  -6.586810e-01 -6.810785e-01 -2.101284e-01 -6.426977e-01   \n",
       "50%   -2.758102e-01  -6.586810e-01  1.360059e-01 -2.101284e-01  8.478232e-02   \n",
       "75%    5.091458e-01   6.066704e-01  8.849999e-01 -2.101284e-01  8.512345e-01   \n",
       "max    9.204044e+00   1.023238e+01  1.497813e+00  4.806428e+00  1.570054e+00   \n",
       "\n",
       "               long  sqft_living15    sqft_lot15  \n",
       "count  2.161300e+04   2.161300e+04  2.161300e+04  \n",
       "mean  -3.637898e-14  -1.506632e-16  1.235382e-16  \n",
       "std    1.000023e+00   1.000023e+00  1.000023e+00  \n",
       "min   -2.166543e+00  -2.316325e+00 -4.438052e-01  \n",
       "25%   -8.102505e-01  -7.244971e-01 -2.808593e-01  \n",
       "50%   -1.143518e-01  -2.138280e-01 -1.885636e-01  \n",
       "75%    6.312541e-01   5.448802e-01 -9.835556e-02  \n",
       "max    6.383070e+00   6.162239e+00  3.144029e+01  "
      ]
     },
     "execution_count": 111,
     "metadata": {},
     "output_type": "execute_result"
    }
   ],
   "source": [
    "df_scaled.describe()"
   ]
  },
  {
   "cell_type": "markdown",
   "metadata": {},
   "source": [
    "[//]: <> (d Realice una regresión lineal de mínimos cuadrados básica. Explique la importancia/conveniencia del paso 4 y los argumentos que se deben entregar a la función que implementa la regresión lineal. http://sebastianraschka.com/Articles/2014_about_feature_scaling.html#standardization-and-min-max-scaling)\n",
    "\n",
    "Se procede a realizar una regresión líneal de mínimos cuadrados básica."
   ]
  },
  {
   "cell_type": "code",
   "execution_count": 112,
   "metadata": {},
   "outputs": [],
   "source": [
    "import sklearn.linear_model as lm\n",
    "X = df_scaled.iloc[:,1:] #use .ix instead, in older pandas version\n",
    "N = X.shape[0]\n",
    "X.insert(X.shape[1], 'intercept', np.ones(N)) ##Agregamos interceptos a matriz X\n",
    "y = df_scaled['price']  #Variable transformada!!!!!\n",
    "#mascara estatica con el 70% de los datos\n",
    "mascara = np.zeros(len(X))\n",
    "limit = int(len(X)*0.7)\n",
    "mascara[:limit] = 1\n",
    "istrain = mascara== 1\n",
    "# Acá toma el 70% de los datos para entrenar.\n",
    "# Define el conjunto de entrenamiento\n",
    "Xtrain = X[istrain]\n",
    "ytrain = y[istrain]\n",
    "\n",
    "#Define el conjunto de test\n",
    "Xtest = X[np.logical_not(istrain)]\n",
    "ytest = y[np.logical_not(istrain)]\n",
    "\n",
    "linreg = lm.LinearRegression(fit_intercept = False)\n",
    "modelo = linreg.fit(Xtrain, ytrain)"
   ]
  },
  {
   "cell_type": "markdown",
   "metadata": {},
   "source": [
    "(e) Construya una tabla con los pesos y Z-score correspondientes a cada predictor (variable). ¿Qu´e variables\n",
    "est´an m´as correlacionadas con la respuesta? Si us´aramos un nivel de significaci´on del 5%. ¿Qu´e es lo\n",
    "que observa y cu´al puede ser la causa?"
   ]
  },
  {
   "cell_type": "code",
   "execution_count": 113,
   "metadata": {},
   "outputs": [
    {
     "name": "stdout",
     "output_type": "stream",
     "text": [
      "0.212632132026\n",
      "(-3.1244007425558205, -0.0071245937091823667)\n",
      "(17.857395798313853, 0.057042538102227591)\n",
      "(-31427226.961011611, -3543499224056.7749)\n",
      "(9.2178725549793619, 0.022492690658885151)\n",
      "(14.50841365908958, 0.03718998908535337)\n",
      "(17.557437113946122, 0.033306358683082141)\n",
      "(20.955584671617135, 0.042423360631284546)\n",
      "(24.809041754795086, 0.045758674285590217)\n",
      "(56.904021227051089, 0.18442299980861288)\n",
      "(31427226.961012647, 3194914061637.7793)\n",
      "(31427226.961012669, 1707528840840.1765)\n",
      "(-40.475375655264124, -0.110107421875)\n",
      "(8.1520923660819697, 0.0146484375)\n",
      "(102.28358161901767, 0.185791015625)\n",
      "(-1.9904370208176358, -0.0042724609375)\n",
      "(28.933672474441448, 0.0882568359375)\n",
      "(-3.2715551234057512, -0.0081787109375)\n",
      "(7435.1966498733482, 13.039520263671875)\n",
      "Condicionamiento de la matriz X: 3.20933985079e+15\n"
     ]
    }
   ],
   "source": [
    "from numpy import linalg as LA\n",
    "\n",
    "def getStandardRegressionError(linreg, Xtrain , ytrain ):\n",
    "   std_reg = np.sqrt(((linreg.predict(Xtrain) - ytrain) ** 2).sum()/21594)\n",
    "   return std_reg\n",
    "\n",
    "def getZscore(linreg,std_reg,K):\n",
    "   inverse_covariance = np.linalg.inv(Xtrain.transpose().dot(Xtrain))\n",
    "   z_score = np.ones(K)\n",
    "   for i in range(0,K):\n",
    "      z_score[i] = linreg.coef_[i]/(std_reg *np.sqrt((inverse_covariance[i,i])))\n",
    "   return z_score \n",
    "\n",
    "st_error = getStandardRegressionError(modelo,Xtrain,ytrain)\n",
    "print(regresion_error)\n",
    "\n",
    "cantidad_variables = (len(modelo.coef_[:]))\n",
    "Z_score = getZscore(modelo,st_error,cantidad_variables)\n",
    "for i in range(cantidad_variables):\n",
    "    print(Z_score[i],modelo.coef_[i])\n",
    "    \n",
    "print \"Condicionamiento de la matriz X:\", LA.cond(Xtrain)\n"
   ]
  },
  {
   "cell_type": "markdown",
   "metadata": {},
   "source": [
    "Las variables más correlacionadas con la variable a predecir son (31427226.961012647, 3194914061637.7793): sqft_above ( piescuadrados_ )\n",
    "(31427226.961012669, 1707528840840.1765): sqft_basement (piescuadrados ...)\n",
    "\n",
    "Se observan valores disparados en varios ordenes de magnitud a comparación con los demás, que son el caso de las variables de sqft_above y sqft_basement, esto es causado dado que al momento de calcular la matriz de covarianza, la matriz X está mal condicionada por lo que se propaga al calcular la inversa ..\n",
    "\n",
    "If the condition number is not too much larger than one (but it can still be a multiple of one), the matrix is well conditioned which means its inverse can be computed with good accuracy. If the condition number is very large, then the matrix is said to be ill-conditioned. Practically, such a matrix is almost singular, and the computation of its inverse, or solution of a linear system of equations is prone to large numerical errors. A matrix that is not invertible has condition number equal to infinity.\n",
    "Esto lo hacemos al 5% con la distribución t-student 1.645  ( según texto guía sección 3.2 ecuación 3.15) \n",
    "\t"
   ]
  },
  {
   "cell_type": "markdown",
   "metadata": {},
   "source": [
    "(f) Proponga un m´etodo para corregir lo observado (Hint: insp´ırese en los m´etodos de feature engineering\n",
    "de las siguiente secciones). Verif´ıquelo mediante los Z-score presentados en la pregunta e)."
   ]
  },
  {
   "cell_type": "markdown",
   "metadata": {},
   "source": [
    "Ridge por costo computacional, preferimos este metodo en vez de buscar las variables correlacionadas \n",
    "\n",
    "\n",
    "\n"
   ]
  },
  {
   "cell_type": "code",
   "execution_count": 114,
   "metadata": {},
   "outputs": [
    {
     "name": "stdout",
     "output_type": "stream",
     "text": [
      "(-3.12, -0.01, -3.63, -0.01)\n",
      "(17.86, 0.06, 17.52, 0.06)\n",
      "(-31427226.96, -3543499224056.77, 0.0, 0.44)\n",
      "(9.22, 0.02, 9.08, 0.02)\n",
      "(14.51, 0.04, 14.67, 0.04)\n",
      "(17.56, 0.03, 17.68, 0.03)\n",
      "(20.96, 0.04, 20.79, 0.04)\n",
      "(24.81, 0.05, 24.55, 0.05)\n",
      "(56.9, 0.18, 57.46, 0.19)\n",
      "(31427226.96, 3194914061637.78, -0.0, -0.29)\n",
      "(31427226.96, 1707528840840.18, -0.0, -0.15)\n",
      "(-40.48, -0.11, -40.4, -0.11)\n",
      "(8.15, 0.01, 8.24, 0.01)\n",
      "(102.28, 0.19, 102.56, 0.19)\n",
      "(-1.99, -0.0, -1.9, -0.0)\n",
      "(28.93, 0.09, 28.18, 0.09)\n",
      "(-3.27, -0.01, -2.81, -0.01)\n",
      "(7435.2, 13.04, 7436.25, 13.04)\n"
     ]
    }
   ],
   "source": [
    "from sklearn.linear_model import Ridge\n",
    "Z = Xtrain.transpose().dot(Xtrain)\n",
    "[V, D] = LA.eig(Z)\n",
    "min_eigenvalue =  min(V) # Equivale al valor propio de la matriz \n",
    "#https://stackoverflow.com/questions/22631956/how-to-find-eigenvalues-for-non-quadratic-matrix\n",
    "clf = Ridge(alpha=min_eigenvalue,fit_intercept=False)\n",
    "modelo_regularizado = clf.fit(Xtrain, ytrain)\n",
    "st_error_reg = getStandardRegressionError(modelo_regularizado,Xtrain,ytrain)\n",
    "Z_score_reg = getZscore(modelo_regularizado,st_error_reg,cantidad_variables)\n",
    "\n",
    "for i in range(cantidad_variables):\n",
    "    print(round(Z_score[i],2),round(modelo.coef_[i],2),\n",
    "          round(Z_score_reg[i],2),round(modelo_regularizado.coef_[i],2))\n",
    "\n",
    "\n",
    "\n",
    "    \n"
   ]
  },
  {
   "cell_type": "markdown",
   "metadata": {},
   "source": [
    "Dimension de alfa de ridge = orden de magnitud dimension mas pequeña de valor propio de la matriz"
   ]
  },
  {
   "cell_type": "markdown",
   "metadata": {},
   "source": [
    "(g) Estime el error de predicci´on del modelo usando validaci´on cruzada con un n´umero de folds igual a K\n",
    "= 5 y K = 10. Recuerde que para que la estimaci´on sea razonable, en cada configuraci´on (fold) deber´a\n",
    "reajustar los pesos del modelo. Mida el error real del modelo sobre el conjunto de pruebas, compare y\n",
    "concluya"
   ]
  },
  {
   "cell_type": "markdown",
   "metadata": {},
   "source": [
    "### Modelo no regularizado"
   ]
  },
  {
   "cell_type": "code",
   "execution_count": 116,
   "metadata": {},
   "outputs": [
    {
     "name": "stdout",
     "output_type": "stream",
     "text": [
      "mse_test: 0.0654124075861\n",
      "mse_cv 0.0646902919559\n"
     ]
    }
   ],
   "source": [
    "#K=5\n",
    "yhat_test = linreg.predict(Xtest)\n",
    "mse_test = np.mean(np.power(yhat_test - ytest, 2))\n",
    "Xm = Xtrain.as_matrix()\n",
    "ym = ytrain.as_matrix()\n",
    "from sklearn.model_selection import KFold\n",
    "kf = KFold(n_splits=5)\n",
    "mse_cv = 0\n",
    "for train, val in kf.split(Xm):\n",
    "    linreg = lm.LinearRegression(fit_intercept = False)\n",
    "    linreg.fit(Xm[train], ym[train])\n",
    "    yhat_val = linreg.predict(Xm[val])\n",
    "    mse_fold = np.mean(np.power(yhat_val - ym[val], 2))\n",
    "    mse_cv += mse_fold\n",
    "mse_cv_5 = mse_cv / 5\n",
    "print \"mse_test:\",mse_test\n",
    "print \"mse_cv\",mse_cv_5"
   ]
  },
  {
   "cell_type": "code",
   "execution_count": 117,
   "metadata": {},
   "outputs": [
    {
     "name": "stdout",
     "output_type": "stream",
     "text": [
      "mse_test: 0.0653598742452\n",
      "mse_cv 0.0646905656615\n",
      "Diferencia k=5 y k=10 2.73705611634e-07\n"
     ]
    }
   ],
   "source": [
    "#K = 10\n",
    "\n",
    "yhat_test = linreg.predict(Xtest)\n",
    "mse_test = np.mean(np.power(yhat_test - ytest, 2))\n",
    "Xm = Xtrain.as_matrix()\n",
    "ym = ytrain.as_matrix()\n",
    "from sklearn.model_selection import KFold\n",
    "kf = KFold(n_splits=10)\n",
    "mse_cv = 0\n",
    "for train, val in kf.split(Xm):\n",
    "    linreg = lm.LinearRegression(fit_intercept = False)\n",
    "    linreg.fit(Xm[train], ym[train])\n",
    "    yhat_val = linreg.predict(Xm[val])\n",
    "    mse_fold = np.mean(np.power(yhat_val - ym[val], 2))\n",
    "    mse_cv += mse_fold\n",
    "mse_cv_10 = mse_cv / 10\n",
    "print \"mse_test:\",mse_test\n",
    "print \"mse_cv\",mse_cv_10\n",
    "print \"Diferencia k=5 y k=10\",(mse_cv_10 - mse_cv_5)"
   ]
  },
  {
   "cell_type": "code",
   "execution_count": 118,
   "metadata": {},
   "outputs": [
    {
     "name": "stdout",
     "output_type": "stream",
     "text": [
      "Diferencia k=15 y k=10 1.02138864932e-05\n"
     ]
    }
   ],
   "source": [
    "yhat_test = linreg.predict(Xtest)\n",
    "mse_test = np.mean(np.power(yhat_test - ytest, 2))\n",
    "Xm = Xtrain.as_matrix()\n",
    "ym = ytrain.as_matrix()\n",
    "from sklearn.model_selection import KFold\n",
    "kf = KFold(n_splits=15)\n",
    "mse_cv = 0\n",
    "for train, val in kf.split(Xm):\n",
    "    linreg = lm.LinearRegression(fit_intercept = False)\n",
    "    linreg.fit(Xm[train], ym[train])\n",
    "    yhat_val = linreg.predict(Xm[val])\n",
    "    mse_fold = np.mean(np.power(yhat_val - ym[val], 2))\n",
    "    mse_cv += mse_fold\n",
    "mse_cv_15 = mse_cv / 15\n",
    "print \"Diferencia k=15 y k=10\",(mse_cv_15 - mse_cv_10)"
   ]
  },
  {
   "cell_type": "code",
   "execution_count": 119,
   "metadata": {},
   "outputs": [
    {
     "name": "stdout",
     "output_type": "stream",
     "text": [
      "Diferencia k=15 y k=10000 -2.00950435097e-06\n"
     ]
    }
   ],
   "source": [
    "yhat_test = linreg.predict(Xtest)\n",
    "mse_test = np.mean(np.power(yhat_test - ytest, 2))\n",
    "Xm = Xtrain.as_matrix()\n",
    "ym = ytrain.as_matrix()\n",
    "from sklearn.model_selection import KFold\n",
    "kf = KFold(n_splits=10000)\n",
    "mse_cv = 0\n",
    "for train, val in kf.split(Xm):\n",
    "    linreg = lm.LinearRegression(fit_intercept = False)\n",
    "    linreg.fit(Xm[train], ym[train])\n",
    "    yhat_val = linreg.predict(Xm[val])\n",
    "    mse_fold = np.mean(np.power(yhat_val - ym[val], 2))\n",
    "    mse_cv += mse_fold\n",
    "mse_cv_1000 = mse_cv / 10000\n",
    "print \"Diferencia k=15 y k=10000\",(mse_cv_1000 - mse_cv_15)"
   ]
  },
  {
   "cell_type": "markdown",
   "metadata": {},
   "source": [
    "### Modelo  regularizado"
   ]
  },
  {
   "cell_type": "code",
   "execution_count": 120,
   "metadata": {},
   "outputs": [
    {
     "name": "stdout",
     "output_type": "stream",
     "text": [
      "mse_test: 0.0653128519496\n",
      "mse_cv 0.0645164662505\n"
     ]
    }
   ],
   "source": [
    "#K=5\n",
    "yhat_test = linreg.predict(Xtest)\n",
    "mse_test = np.mean(np.power(yhat_test - ytest, 2))\n",
    "Xm = Xtrain.as_matrix()\n",
    "ym = ytrain.as_matrix()\n",
    "from sklearn.model_selection import KFold\n",
    "kf = KFold(n_splits=5)\n",
    "mse_cv = 0\n",
    "for train, val in kf.split(Xm):\n",
    "    clf = Ridge(alpha=min_eigenvalue,fit_intercept=False)\n",
    "    modelo_regularizado = clf.fit(Xtrain, ytrain)\n",
    "    yhat_val = modelo_regularizado.predict(Xm[val])\n",
    "    mse_fold = np.mean(np.power(yhat_val - ym[val], 2))\n",
    "    mse_cv += mse_fold\n",
    "mse_cv_5 = mse_cv / 5\n",
    "print \"mse_test:\",mse_test\n",
    "print \"mse_cv\",mse_cv_5"
   ]
  },
  {
   "cell_type": "code",
   "execution_count": 121,
   "metadata": {},
   "outputs": [
    {
     "name": "stdout",
     "output_type": "stream",
     "text": [
      "mse_test: 0.0653128519496\n",
      "mse_cv 0.0645164662505\n",
      "mse_test: 0.0653128519496\n",
      "mse_cv 0.0645163259615\n",
      "Diferencia k=5 y k=10 -1.40288987552e-07\n"
     ]
    }
   ],
   "source": [
    "#K = 10\n",
    "yhat_test = linreg.predict(Xtest)\n",
    "mse_test = np.mean(np.power(yhat_test - ytest, 2))\n",
    "Xm = Xtrain.as_matrix()\n",
    "ym = ytrain.as_matrix()\n",
    "from sklearn.model_selection import KFold\n",
    "kf = KFold(n_splits=10)\n",
    "mse_cv = 0\n",
    "for train, val in kf.split(Xm):\n",
    "    clf = Ridge(alpha=min_eigenvalue,fit_intercept=False)\n",
    "    modelo_regularizado = clf.fit(Xtrain, ytrain)\n",
    "    yhat_val = modelo_regularizado.predict(Xm[val])\n",
    "    mse_fold = np.mean(np.power(yhat_val - ym[val], 2))\n",
    "    mse_cv += mse_fold\n",
    "mse_cv_10 = mse_cv / 10\n",
    "print \"mse_test:\",mse_test\n",
    "print \"mse_cv\",mse_cv_5\n",
    "print \"mse_test:\",mse_test\n",
    "print \"mse_cv\",mse_cv_10\n",
    "print \"Diferencia k=5 y k=10\",(mse_cv_10 - mse_cv_5)"
   ]
  },
  {
   "cell_type": "markdown",
   "metadata": {},
   "source": [
    "Hacer gráfico k=1 a 10 para encontrar k*"
   ]
  },
  {
   "cell_type": "markdown",
   "metadata": {},
   "source": [
    "(h) Mida los errores de predicci´on para cada dato de entrenamiento. Utilizando un “quantile-quantile plot”\n",
    "determine si es razonable la hip´otesis de normalidad sobre los residuos del modelo."
   ]
  },
  {
   "cell_type": "code",
   "execution_count": 122,
   "metadata": {},
   "outputs": [
    {
     "data": {
      "image/png": "[encoded data removed]",
      "text/plain": [
       "<matplotlib.figure.Figure at 0x10550ba8>"
      ]
     },
     "metadata": {},
     "output_type": "display_data"
    }
   ],
   "source": [
    "import pylab \n",
    "import scipy.stats as stats\n",
    "yhat_test = linreg.predict(Xtest)\n",
    "\n",
    "stats.probplot(np.power(yhat_test - ytest, 2), dist=\"norm\", plot=pylab)\n",
    "pylab.show()"
   ]
  },
  {
   "cell_type": "code",
   "execution_count": 134,
   "metadata": {},
   "outputs": [
    {
     "ename": "SyntaxError",
     "evalue": "invalid syntax (<ipython-input-134-e1e06971912f>, line 17)",
     "output_type": "error",
     "traceback": [
      "\u001b[1;36m  File \u001b[1;32m\"<ipython-input-134-e1e06971912f>\"\u001b[1;36m, line \u001b[1;32m17\u001b[0m\n\u001b[1;33m    $R_{2}: 0.9977$\u001b[0m\n\u001b[1;37m    ^\u001b[0m\n\u001b[1;31mSyntaxError\u001b[0m\u001b[1;31m:\u001b[0m invalid syntax\n"
     ]
    }
   ],
   "source": [
    "def getQQPlot(Xtrain,ytrain):\n",
    "   predict = linreg.predict(Xtrain)\n",
    "   ytrain = np.asarray(ytrain)\n",
    "   prediction_error = predict - ytrain \n",
    "   norm=random.normal(0,2,len(predict))\n",
    "   normal = stats.probplot(prediction_error, dist='norm', plot=plt)\n",
    "   plt.ylabel('Training Data Error')\n",
    "   plt.title('Quantile-Quantile Plot')\n",
    "   plt.show()\n",
    "   prediction_error.sort()\n",
    "   norm.sort()\n",
    "   slope, intercept, r_value, p_value, std_err = stats.linregress(prediction_error,norm)\n",
    "   print \"r2:\",r_value\n",
    "\n",
    "getQQPlot(Xtrain,ytrain)\n",
    "\n",
    "\n",
    "\n",
    "\n",
    "\n",
    "\n"
   ]
  },
  {
   "cell_type": "markdown",
   "metadata": {},
   "source": [
    "$R^{2}: 0.9977$"
   ]
  },
  {
   "cell_type": "markdown",
   "metadata": {},
   "source": [
    "# Parte 2"
   ]
  },
  {
   "cell_type": "markdown",
   "metadata": {},
   "source": [
    "(a) Construya una funci\u0013on que implemente Forward Step-wise Selection (FSS). Es decir, partiendo con un\n",
    "modelo sin predictores (variables), agregue un predictor a la vez, re-ajustando el modelo de regresi\u0013on\n",
    "en cada paso. Para seleccionar localmente una variable, proponga/implemente un criterio distinto al\n",
    "utilizado en el c\u0013odigo de ejemplo. Construya un gr\u0013a\f",
    "co que muestre el error de entrenamiento y el error\n",
    "de pruebas como funci\u0013on del n\u0013umero de variables en el modelo. Ordene el eje x de menor a mayor."
   ]
  },
  {
   "cell_type": "code",
   "execution_count": 135,
   "metadata": {},
   "outputs": [
    {
     "name": "stdout",
     "output_type": "stream",
     "text": [
      "Index([u'bedrooms', u'bathrooms', u'sqft_living', u'sqft_lot', u'floors',\n",
      "       u'waterfront', u'view', u'condition', u'grade', u'sqft_above',\n",
      "       u'sqft_basement', u'yr_built', u'yr_renovated', u'lat', u'long',\n",
      "       u'sqft_living15', u'sqft_lot15'],\n",
      "      dtype='object')\n"
     ]
    }
   ],
   "source": [
    "names_regressors = X.columns[:-1]\n",
    "print names_regressors"
   ]
  },
  {
   "cell_type": "code",
   "execution_count": 154,
   "metadata": {},
   "outputs": [
    {
     "name": "stdout",
     "output_type": "stream",
     "text": [
      "selected = grade ...\n",
      "totalvars=2, mse = 0.143260\n",
      "selected = lat ...\n",
      "totalvars=3, mse = 0.103340\n",
      "selected = sqft_living ...\n",
      "totalvars=4, mse = 0.084960\n",
      "selected = yr_built ...\n",
      "totalvars=5, mse = 0.075447\n",
      "selected = view ...\n",
      "totalvars=6, mse = 0.071782\n",
      "selected = sqft_living15 ...\n",
      "totalvars=7, mse = 0.069979\n",
      "selected = bathrooms ...\n",
      "totalvars=8, mse = 0.068251\n",
      "selected = condition ...\n",
      "totalvars=9, mse = 0.066864\n",
      "selected = waterfront ...\n",
      "totalvars=10, mse = 0.065836\n",
      "selected = floors ...\n",
      "totalvars=11, mse = 0.065107\n",
      "selected = sqft_lot ...\n",
      "totalvars=12, mse = 0.064820\n",
      "selected = yr_renovated ...\n",
      "totalvars=13, mse = 0.064619\n",
      "selected = bedrooms ...\n",
      "totalvars=14, mse = 0.064583\n",
      "selected = sqft_basement ...\n",
      "totalvars=15, mse = 0.064554\n",
      "selected = sqft_lot15 ...\n",
      "totalvars=16, mse = 0.064527\n",
      "selected = long ...\n",
      "totalvars=17, mse = 0.064516\n",
      "selected = sqft_above ...\n",
      "totalvars=18, mse = 0.064516\n"
     ]
    },
    {
     "data": {
      "text/plain": [
       "[17L, 8, 13, 2, 11, 6, 15, 1, 7, 5, 4, 3, 12, 0, 10, 16, 14, 9]"
      ]
     },
     "execution_count": 154,
     "metadata": {},
     "output_type": "execute_result"
    }
   ],
   "source": [
    "#Error cuadrado\n",
    "\n",
    "def fss(x, y, names_x, k = 10000):\n",
    "    p = x.shape[1]-1\n",
    "    k = min(p, k)\n",
    "    names_x = np.array(names_x)\n",
    "    remaining = range(0, p)\n",
    "    selected = [p]\n",
    "    current_score = best_new_score = 0.0\n",
    "    while remaining and len(selected)<=k :\n",
    "        score_candidates = []\n",
    "        for candidate in remaining:\n",
    "            model = lm.LinearRegression(fit_intercept=False)\n",
    "            indexes = selected + [candidate]\n",
    "            x_train = x[:,indexes]\n",
    "            predictions_train = model.fit(x_train, y).predict(x_train)\n",
    "            residuals_train = predictions_train - y\n",
    "            mse_candidate = np.mean(np.power(residuals_train, 2))\n",
    "            score_candidates.append((mse_candidate, candidate))\n",
    "        score_candidates.sort()\n",
    "        score_candidates[:] = score_candidates[::-1]\n",
    "        best_new_score, best_candidate = score_candidates.pop()\n",
    "        remaining.remove(best_candidate)\n",
    "        selected.append(best_candidate)\n",
    "        print \"selected = %s ...\"%names_x[best_candidate]\n",
    "        print \"totalvars=%d, mse = %f\"%(len(indexes),best_new_score)\n",
    "    return selected\n",
    "names_regressors = X.columns[:-1] #without intercept\n",
    "fss(Xm,ym,names_regressors)"
   ]
  },
  {
   "cell_type": "code",
   "execution_count": 155,
   "metadata": {},
   "outputs": [
    {
     "name": "stdout",
     "output_type": "stream",
     "text": [
      "selected = grade ...\n",
      "totalvars=2, mse = 0.302697\n",
      "selected = lat ...\n",
      "totalvars=3, mse = 0.249518\n",
      "selected = sqft_living ...\n",
      "totalvars=4, mse = 0.225651\n",
      "selected = yr_built ...\n",
      "totalvars=5, mse = 0.211753\n",
      "selected = view ...\n",
      "totalvars=6, mse = 0.206941\n",
      "selected = bathrooms ...\n",
      "totalvars=7, mse = 0.204301\n",
      "selected = sqft_living15 ...\n",
      "totalvars=8, mse = 0.202069\n",
      "selected = condition ...\n",
      "totalvars=9, mse = 0.200426\n",
      "selected = floors ...\n",
      "totalvars=10, mse = 0.198749\n",
      "selected = waterfront ...\n",
      "totalvars=11, mse = 0.197509\n",
      "selected = sqft_lot ...\n",
      "totalvars=12, mse = 0.197028\n",
      "selected = bedrooms ...\n",
      "totalvars=13, mse = 0.196811\n",
      "selected = yr_renovated ...\n",
      "totalvars=14, mse = 0.196634\n",
      "selected = sqft_basement ...\n",
      "totalvars=15, mse = 0.196472\n",
      "selected = sqft_lot15 ...\n",
      "totalvars=16, mse = 0.196463\n",
      "selected = sqft_above ...\n",
      "totalvars=17, mse = 0.196425\n",
      "selected = long ...\n",
      "totalvars=18, mse = 0.196594\n"
     ]
    },
    {
     "data": {
      "text/plain": [
       "[17L, 8, 13, 2, 11, 6, 1, 15, 7, 4, 5, 3, 0, 12, 10, 16, 9, 14]"
      ]
     },
     "execution_count": 155,
     "metadata": {},
     "output_type": "execute_result"
    }
   ],
   "source": [
    "#Error_Abs\n",
    "def fss_abs(x, y, names_x, k = 10000):\n",
    "    p = x.shape[1]-1\n",
    "    k = min(p, k)\n",
    "    names_x = np.array(names_x)\n",
    "    remaining = range(0, p)\n",
    "    selected = [p]\n",
    "    current_score = best_new_score = 0.0\n",
    "    while remaining and len(selected)<=k :\n",
    "        score_candidates = []\n",
    "        for candidate in remaining:\n",
    "            model = lm.LinearRegression(fit_intercept=False)\n",
    "            indexes = selected + [candidate]\n",
    "            x_train = x[:,indexes]\n",
    "            predictions_train = model.fit(x_train, y).predict(x_train)\n",
    "            residuals_train = predictions_train - y\n",
    "            mse_candidate = np.mean(np.fabs(residuals_train))\n",
    "            score_candidates.append((mse_candidate, candidate))\n",
    "        score_candidates.sort()\n",
    "        score_candidates[:] = score_candidates[::-1]\n",
    "        best_new_score, best_candidate = score_candidates.pop()\n",
    "        remaining.remove(best_candidate)\n",
    "        selected.append(best_candidate)\n",
    "        print \"selected = %s ...\"%names_x[best_candidate]\n",
    "        print \"totalvars=%d, mse = %f\"%(len(indexes),best_new_score)\n",
    "    return selected\n",
    "names_regressors = X.columns[:-1] #without intercept\n",
    "fss_abs(Xm,ym,names_regressors)"
   ]
  },
  {
   "cell_type": "code",
   "execution_count": 162,
   "metadata": {},
   "outputs": [
    {
     "name": "stdout",
     "output_type": "stream",
     "text": [
      "selected = long ...\n",
      "totalvars=2, mse = 8.619193\n",
      "selected = yr_built ...\n",
      "totalvars=3, mse = 15180135.470110\n",
      "selected = condition ...\n",
      "totalvars=4, mse = 4.464945\n",
      "selected = sqft_lot15 ...\n",
      "totalvars=5, mse = 7.055571\n",
      "selected = sqft_lot ...\n",
      "totalvars=6, mse = 8.551261\n",
      "selected = yr_renovated ...\n",
      "totalvars=7, mse = 10.327044\n",
      "selected = waterfront ...\n",
      "totalvars=8, mse = 12.404033\n",
      "selected = view ...\n",
      "totalvars=9, mse = 29.794904\n",
      "selected = sqft_basement ...\n",
      "totalvars=10, mse = 17015727.986895\n",
      "selected = bedrooms ...\n",
      "totalvars=11, mse = 17619681.931917\n",
      "selected = floors ...\n",
      "totalvars=12, mse = 24.542681\n",
      "selected = bathrooms ...\n",
      "totalvars=13, mse = 5.240407\n",
      "selected = sqft_living ...\n",
      "totalvars=14, mse = 74.053937\n",
      "selected = sqft_above ...\n",
      "totalvars=15, mse = 1.441014\n",
      "selected = sqft_living15 ...\n",
      "totalvars=16, mse = 21.933431\n",
      "selected = grade ...\n",
      "totalvars=17, mse = 2.682712\n",
      "selected = lat ...\n",
      "totalvars=18, mse = 7435.786380\n"
     ]
    },
    {
     "data": {
      "text/plain": [
       "[17L, 14, 11, 7, 16, 3, 12, 5, 6, 10, 0, 4, 1, 2, 9, 15, 8, 13]"
      ]
     },
     "execution_count": 162,
     "metadata": {},
     "output_type": "execute_result"
    }
   ],
   "source": [
    "def fss_zscore(x, y, names_x, k = 10000):\n",
    "    p = x.shape[1]-1\n",
    "    k = min(p, k)\n",
    "    names_x = np.array(names_x)\n",
    "    remaining = range(0, p)\n",
    "    selected = [p]\n",
    "    current_score = best_new_score = 0.0\n",
    "    while remaining and len(selected)<=k :\n",
    "        score_candidates = []\n",
    "        for candidate in remaining:\n",
    "            model = lm.LinearRegression(fit_intercept=False)\n",
    "            indexes = selected + [candidate]\n",
    "            x_train = x[:,indexes]\n",
    "        \n",
    "            # Cambio\n",
    "            st_error = getStandardRegressionError(model,x_train,y)\n",
    "            cantidad_variables = (len(selected)+1)\n",
    "            zscore_candidate = abs(getZscore(modelo,st_error,cantidad_variables))[-1]\n",
    "            predictions_train = model.fit(x_train,y).predict(x_train)\n",
    "            residuals_train = predictions_train - y\n",
    "            zscore_train_residual = np.mean(np.power(residuals_train,2))            \n",
    "            score_candidates.append((zscore_candidate,candidate))\n",
    "            \n",
    "        score_candidates.sort()\n",
    "        score_candidates[:] = score_candidates[::-1]\n",
    "        best_new_score, best_candidate = score_candidates.pop()\n",
    "        remaining.remove(best_candidate)\n",
    "        selected.append(best_candidate)\n",
    "        print \"selected = %s ...\"%names_x[best_candidate]\n",
    "        print \"totalvars=%d, mse = %f\"%(len(indexes),best_new_score)\n",
    "    return selected\n",
    "names_regressors = X.columns[:-1] #without intercept\n",
    "fss_zscore(Xm,ym,names_regressors)"
   ]
  },
  {
   "cell_type": "code",
   "execution_count": 173,
   "metadata": {},
   "outputs": [
    {
     "name": "stdout",
     "output_type": "stream",
     "text": [
      "selected = sqft_lot15 ...\n",
      "totalvars = 2, mae = 0.244675 \n",
      "selected = condition ...\n",
      "totalvars = 3, mae = 0.140688 \n",
      "selected = yr_renovated ...\n",
      "totalvars = 4, mae = 0.099757 \n",
      "selected = bathrooms ...\n",
      "totalvars = 5, mae = 0.084883 \n",
      "selected = sqft_basement ...\n",
      "totalvars = 6, mae = 0.075398 \n",
      "selected = waterfront ...\n",
      "totalvars = 7, mae = 0.071780 \n",
      "selected = long ...\n",
      "totalvars = 8, mae = 0.069979 \n",
      "selected = bedrooms ...\n",
      "totalvars = 9, mae = 0.068171 \n",
      "selected = view ...\n",
      "totalvars = 10, mae = 0.066749 \n",
      "selected = floors ...\n",
      "totalvars = 11, mae = 0.065757 \n",
      "selected = sqft_lot ...\n",
      "totalvars = 12, mae = 0.065047 \n",
      "selected = sqft_living ...\n",
      "totalvars = 13, mae = 0.064778 \n",
      "selected = yr_built ...\n",
      "totalvars = 14, mae = 0.064583 \n",
      "selected = grade ...\n",
      "totalvars = 15, mae = 0.064554 \n",
      "selected = sqft_living15 ...\n",
      "totalvars = 16, mae = 0.064527 \n",
      "selected = lat ...\n",
      "totalvars = 17, mae = 0.064516 \n",
      "selected = sqft_above ...\n",
      "totalvars = 18, mae = 0.064519 \n",
      "selected = sqft_lot15 ...\n",
      "totalvars = 2, mse = 0.393865 \n",
      "selected = condition ...\n",
      "totalvars = 3, mse = 0.299480 \n",
      "selected = yr_renovated ...\n",
      "totalvars = 4, mse = 0.245071 \n",
      "selected = bathrooms ...\n",
      "totalvars = 5, mse = 0.225428 \n",
      "selected = sqft_basement ...\n",
      "totalvars = 6, mse = 0.211600 \n",
      "selected = waterfront ...\n",
      "totalvars = 7, mse = 0.206922 \n",
      "selected = bedrooms ...\n",
      "totalvars = 8, mse = 0.203982 \n",
      "selected = long ...\n",
      "totalvars = 9, mse = 0.201747 \n",
      "selected = view ...\n",
      "totalvars = 10, mse = 0.200022 \n",
      "selected = sqft_lot ...\n",
      "totalvars = 11, mse = 0.198398 \n",
      "selected = floors ...\n",
      "totalvars = 12, mse = 0.197225 \n",
      "selected = sqft_living ...\n",
      "totalvars = 13, mse = 0.196811 \n",
      "selected = yr_built ...\n",
      "totalvars = 14, mse = 0.196634 \n",
      "selected = grade ...\n",
      "totalvars = 15, mse = 0.196472 \n",
      "selected = sqft_living15 ...\n",
      "totalvars = 16, mse = 0.196463 \n",
      "selected = sqft_above ...\n",
      "totalvars = 17, mse = 0.196472 \n",
      "selected = lat ...\n",
      "totalvars = 18, mse = 0.196574 \n",
      "selected = sqft_lot15 ...\n",
      "totalvars = 2, zscore = 2095.777484 \n",
      "selected = bathrooms ...\n",
      "totalvars = 3, zscore = 0.000002 \n",
      "selected = yr_renovated ...\n",
      "totalvars = 4, zscore = 71.685383 \n",
      "selected = condition ...\n",
      "totalvars = 5, zscore = 61.573267 \n",
      "selected = sqft_basement ...\n",
      "totalvars = 6, zscore = 57.025710 \n",
      "selected = long ...\n",
      "totalvars = 7, zscore = 37.580937 \n",
      "selected = bedrooms ...\n",
      "totalvars = 8, zscore = 41.076698 \n",
      "selected = waterfront ...\n",
      "totalvars = 9, zscore = 17.061303 \n",
      "selected = view ...\n",
      "totalvars = 10, zscore = 0.000000 \n",
      "selected = sqft_lot ...\n",
      "totalvars = 11, zscore = 0.000001 \n",
      "selected = floors ...\n",
      "totalvars = 12, zscore = 12.400431 \n",
      "selected = sqft_living ...\n",
      "totalvars = 13, zscore = 9.082502 \n",
      "selected = yr_built ...\n",
      "totalvars = 14, zscore = 7.963312 \n",
      "selected = grade ...\n",
      "totalvars = 15, zscore = 6.650798 \n",
      "selected = sqft_above ...\n",
      "totalvars = 16, zscore = 572903910048212.750000 \n",
      "selected = sqft_living15 ...\n",
      "totalvars = 17, zscore = 2.684891 \n",
      "selected = lat ...\n",
      "totalvars = 18, zscore = 2.470447 \n"
     ]
    },
    {
     "data": {
      "image/png": "[encoded data removed]",
      "text/plain": [
       "<matplotlib.figure.Figure at 0x102a2e80>"
      ]
     },
     "metadata": {},
     "output_type": "display_data"
    },
    {
     "data": {
      "image/png": "[encoded data removed]",
      "text/plain": [
       "<matplotlib.figure.Figure at 0x102a2c88>"
      ]
     },
     "metadata": {},
     "output_type": "display_data"
    },
    {
     "data": {
      "image/png": "[encoded data removed]",
      "text/plain": [
       "<matplotlib.figure.Figure at 0xeb5c550>"
      ]
     },
     "metadata": {},
     "output_type": "display_data"
    }
   ],
   "source": [
    "def fss_mse( x , y , xtest, ytest, names_x, k = 10000):\n",
    "   p = x.shape[1] - 1\n",
    "   k = min(p,k)\n",
    "   names_x = np.array(names_x)\n",
    "   remaining = range(1,p+1)\n",
    "   training_error = []\n",
    "   test_error = []\n",
    "   selected = [0]\n",
    "   current_score = 0.0\n",
    "   best_new_score = 0.0\n",
    "\n",
    "   while remaining and len(selected) <= k :\n",
    "      score_candidates = []\n",
    "      for candidate in remaining:\n",
    "         model = lm.LinearRegression(fit_intercept = False)\n",
    "         indexes = selected + [candidate]\n",
    "\n",
    "         x_train = x[:,indexes]\n",
    "         x_test = xtest[:,indexes]\n",
    "\n",
    "         predictions_train = model.fit(x_train,y).predict(x_train)\n",
    "         residuals_train = predictions_train - y\n",
    "\n",
    "         predictions_test = model.fit(x_train,y).predict(x_test)\n",
    "         residuals_test= predictions_test - ytest\n",
    "         mse_train_candidate = np.mean(np.power(residuals_train,2))\n",
    "         mse_test_candidate = np.mean(np.power(residuals_test,2))\n",
    "         score_candidates.append((mse_train_candidate, mse_test_candidate ,candidate))\n",
    "\n",
    "      score_candidates.sort()\n",
    "      score_candidates[:] = score_candidates[::-1]\n",
    "      best_new_score , test_score, best_candidate = score_candidates.pop()\n",
    "      training_error.append(best_new_score)\n",
    "      test_error.append(test_score)\n",
    "      remaining.remove(best_candidate)\n",
    "      selected.append(best_candidate)\n",
    "      print  \"selected = %s ...\" %names_x[best_candidate-1]\n",
    "      print  \"totalvars = %d, mae = %f \" %(len(indexes), best_new_score)\n",
    "   return selected , training_error, test_error\n",
    "\n",
    "#\n",
    "#Forward Step-Wise Selection with Mean Absolute Error\n",
    "#\n",
    "def fss_mae( x , y , xtest, ytest, names_x, k = 10000):\n",
    "   p = x.shape[1] - 1\n",
    "   k = min(p,k)\n",
    "   names_x = np.array(names_x)\n",
    "   remaining = range(1,p+1)\n",
    "   training_error = []\n",
    "   test_error = []\n",
    "   selected = [0]\n",
    "   current_score = 0.0\n",
    "   best_new_score = 0.0\n",
    "\n",
    "   while remaining and len(selected) <= k :\n",
    "      score_candidates = []\n",
    "      for candidate in remaining:\n",
    "         model = lm.LinearRegression(fit_intercept = False) \n",
    "         indexes = selected + [candidate]\n",
    "         x_train = x[:,indexes]\n",
    "         x_test = xtest[:,indexes]\n",
    "\n",
    "         predictions_train = model.fit(x_train,y).predict(x_train)\n",
    "         residuals_train = np.fabs(predictions_train - y)\n",
    "\n",
    "         predictions_test = model.fit(x_train,y).predict(x_test)\n",
    "         residuals_test = np.fabs(predictions_test - ytest)\n",
    "\n",
    "         mae_training_candidate = np.mean(residuals_train)\n",
    "         mae_test_candidate = np.mean(residuals_test)\n",
    "         score_candidates.append((mae_training_candidate,mae_test_candidate , candidate))\n",
    "\n",
    "      score_candidates.sort()\n",
    "      score_candidates[:] = score_candidates[::-1]\n",
    "      best_new_score , test_score ,best_candidate = score_candidates.pop()\n",
    "      training_error.append(best_new_score)\n",
    "      test_error.append(test_score)\n",
    "      remaining.remove(best_candidate)\n",
    "      selected.append(best_candidate)\n",
    "      print  \"selected = %s ...\" %names_x[best_candidate-1]\n",
    "      print  \"totalvars = %d, mse = %f \" %(len(indexes), best_new_score)\n",
    "   return selected , training_error, test_error\n",
    "#\n",
    "#Forward Step-Wise Selection with Z-score\n",
    "#\n",
    "def fss_zscore( x , y , xtest, ytest, names_x, k = 10000):\n",
    "   p = x.shape[1] - 1\n",
    "   k = min(p,k)\n",
    "   names_x = np.array(names_x)\n",
    "   remaining = range(1,p+1)\n",
    "   selected = [0]\n",
    "   training_error = []\n",
    "   test_error = []\n",
    "   current_score = 0.0\n",
    "   best_new_score = 0.0\n",
    "\n",
    "   while remaining and len(selected) <= k :\n",
    "      score_candidates = []\n",
    "      for candidate in remaining:\n",
    "         model = lm.LinearRegression(fit_intercept = False)\n",
    "         indexes = selected + [candidate]\n",
    "         \n",
    "         x_train = x[:,indexes]\n",
    "         x_test = xtest[:,indexes]\n",
    "         \n",
    "         linreg = model.fit(x_train,y)\n",
    "         std_reg = getStandardRegressionError(linreg, x_train , y )\n",
    "         \n",
    "         zscore_candidate = abs(getZscore(linreg,std_reg,len(selected)+1)[-1])\n",
    "\n",
    "         predictions_train = model.fit(x_train,y).predict(x_train)\n",
    "         residuals_train = predictions_train - y\n",
    "\n",
    "         predictions_test = model.fit(x_train,y).predict(x_test)\n",
    "         residuals_test = predictions_test - ytest\n",
    "\n",
    "         zscore_train_residual = np.mean(np.power(residuals_train,2))\n",
    "         zscore_test_residual = np.mean(np.power(residuals_test,2))\n",
    "   \n",
    "         score_candidates.append((zscore_candidate,zscore_train_residual,zscore_test_residual ,candidate))\n",
    "\n",
    "      score_candidates.sort()\n",
    "      best_new_score , train_residual, test_residual, best_candidate = score_candidates.pop()\n",
    "      training_error.append(train_residual)\n",
    "      test_error.append(test_residual)\n",
    "      remaining.remove(best_candidate)\n",
    "\n",
    "      selected.append(best_candidate)\n",
    "      print  \"selected = %s ...\" %names_x[best_candidate-1]\n",
    "      print  \"totalvars = %d, zscore = %f \" %(len(indexes), best_new_score)\n",
    "   return selected , training_error, test_error\n",
    "\n",
    "def plotFSS(train_error,test_error, method):\n",
    "    p = range(1,18)\n",
    "    plt.plot(p,train_error, color=\"green\", linewidth=3, label = \"Training Set\")\n",
    "    plt.plot(p,test_error, color=\"red\",linewidth=3, label = \"Testing set\")\n",
    "    plt.legend()\n",
    "    axes = plt.gca()\n",
    "    if method == \"mse\":\n",
    "        plt.xlabel('Numero de variables')\n",
    "        plt.ylabel('Error MSE')\n",
    "        plt.title('FFS MSE ')\n",
    "        #axes.set_ylim([0.3,0.8])\n",
    "    \n",
    "    if method == \"mae\":\n",
    "        plt.xlabel('Numero de variables')\n",
    "        plt.ylabel('FFS MAE')\n",
    "        plt.title('FFS MAE')\n",
    "        #axes.set_ylim([0.4,0.7])\n",
    "        \n",
    "    if method == \"zscore\":\n",
    "        plt.xlabel('Numero de variables')\n",
    "        plt.ylabel('FFS Z-score')\n",
    "        plt.title('FFS Zscore')\n",
    "        axes.set_xlim([0,8])\n",
    "    plt.show()\n",
    "\n",
    "selected_mse , train_error_mse , test_error_mse  = fss_mse( Xtrain.as_matrix() ,ytrain.as_matrix() , Xtest.as_matrix() ,ytest.as_matrix() ,names_regressors )\n",
    "\n",
    "selected_mae , train_error_mae, test_error_mae = fss_mae( Xtrain.as_matrix() ,ytrain.as_matrix() , Xtest.as_matrix() ,ytest.as_matrix() ,names_regressors )\n",
    "\n",
    "selected_z , train_error_z, test_error_z = fss_zscore( Xtrain.as_matrix() ,ytrain.as_matrix() , Xtest.as_matrix() ,ytest.as_matrix() ,names_regressors )\n",
    "\n",
    "plotFSS(train_error_mse , test_error_mse, \"mse\")\n",
    "plotFSS(train_error_mae , test_error_mae, \"mae\")\n",
    "plotFSS(train_error_z , test_error_z, \"zscore\")"
   ]
  },
  {
   "cell_type": "markdown",
   "metadata": {},
   "source": [
    "# Parte 3"
   ]
  },
  {
   "cell_type": "markdown",
   "metadata": {},
   "source": [
    "Ridge Regression reduce los coeficientes de regresión con una variable $\\lambda$ ,imponiendo un penalty al valor de cada coeficiente, mientras mas grande sea $\\lambda$ , mayor será la reducción, por lo que hay buscar un valor de $\\lambda$ eficiente, dado que si $\\lambda$ es muy grande, el modelo puede sufrir <strong>underfitting</strong> o un bias elevado, mientras que un $\\lambda$ demasiado bajo, puede no afectar al modelo en absoluto y no observar cambios en el <strong>overffiting</strong>.\n",
    "<br>\n",
    "<br>\n",
    "Para aplicar Ridge Regressión es necesario que los datos estén estandarizados y eliminar el intercepto en la penalización, dado que si se penaliza el intercepto, se generará un procedimiento dependiente del origen del eje $Y$"
   ]
  },
  {
   "cell_type": "code",
   "execution_count": 178,
   "metadata": {},
   "outputs": [
    {
     "data": {
      "image/png": "[encoded data removed]",
      "text/plain": [
       "<matplotlib.figure.Figure at 0x127d3c50>"
      ]
     },
     "metadata": {},
     "output_type": "display_data"
    }
   ],
   "source": [
    "from sklearn.linear_model import Ridge\n",
    "import matplotlib.pylab as plt\n",
    "X2 = X.drop('intercept', axis=1,inplace=False)\n",
    "Xtrain = X2[istrain]\n",
    "ytrain = y[istrain]\n",
    "names_regressors = X2.columns\n",
    "alphas_ = np.logspace(7,1,base=10)\n",
    "coefs = []\n",
    "model = Ridge(fit_intercept=True,solver='svd')\n",
    "for a in alphas_:\n",
    "    model.set_params(alpha=a)\n",
    "    model.fit(Xtrain, ytrain)\n",
    "    coefs.append(model.coef_)\n",
    "    ax = plt.gca()\n",
    "for y_arr, label in zip(np.squeeze(coefs).T, names_regressors):\n",
    "    plt.plot(alphas_, y_arr, label=label)\n",
    "plt.legend()\n",
    "ax.set_xscale('log')\n",
    "ax.set_xlim(ax.get_xlim()[::-1]) # reverse axis\n",
    "plt.title('Regularization Path RIDGE')\n",
    "plt.axis('tight')\n",
    "plt.legend(loc=2)\n",
    "plt.show()"
   ]
  },
  {
   "cell_type": "code",
   "execution_count": 181,
   "metadata": {},
   "outputs": [
    {
     "data": {
      "image/png": "[encoded data removed]",
      "text/plain": [
       "<matplotlib.figure.Figure at 0x11a59748>"
      ]
     },
     "metadata": {},
     "output_type": "display_data"
    }
   ],
   "source": [
    "from sklearn.linear_model import Lasso\n",
    "import matplotlib.pylab as plt\n",
    "X2 = X.drop('intercept', axis=1,inplace=False)\n",
    "Xtrain = X2[istrain]\n",
    "ytrain = y[istrain]\n",
    "names_regressors = X2.columns\n",
    "alphas_ = np.logspace(0,-3,base=10)\n",
    "coefs = []\n",
    "model = Lasso(fit_intercept=True)\n",
    "for a in alphas_:\n",
    "    model.set_params(alpha=a)\n",
    "    model.fit(Xtrain, ytrain)\n",
    "    coefs.append(model.coef_)\n",
    "    ax = plt.gca()\n",
    "for y_arr, label in zip(np.squeeze(coefs).T, names_regressors):\n",
    "    plt.plot(alphas_, y_arr)\n",
    "plt.legend()\n",
    "ax.set_xscale('log')\n",
    "ax.set_xlim(ax.get_xlim()[::-1]) # reverse axis\n",
    "plt.title('Regularization Path LASSO')\n",
    "plt.axis('tight')\n",
    "plt.legend(loc=2)\n",
    "plt.show()"
   ]
  },
  {
   "cell_type": "code",
   "execution_count": 186,
   "metadata": {},
   "outputs": [
    {
     "data": {
      "image/png": "[encoded data removed]",
      "text/plain": [
       "<matplotlib.figure.Figure at 0x12000518>"
      ]
     },
     "metadata": {},
     "output_type": "display_data"
    },
    {
     "data": {
      "image/png": "[encoded data removed]",
      "text/plain": [
       "<matplotlib.figure.Figure at 0x1236e7b8>"
      ]
     },
     "metadata": {},
     "output_type": "display_data"
    }
   ],
   "source": [
    "Xtest = X2[np.logical_not(istrain)]\n",
    "ytest = y[np.logical_not(istrain)]\n",
    "alphas_ = np.logspace(7,1,base=10)\n",
    "coefs = []\n",
    "model = Ridge(fit_intercept=True,solver='svd')\n",
    "mse_test = []\n",
    "mse_train = []\n",
    "for a in alphas_:\n",
    "    model.set_params(alpha=a)\n",
    "    model.fit(Xtrain, ytrain)\n",
    "    yhat_train = model.predict(Xtrain)\n",
    "    yhat_test = model.predict(Xtest)\n",
    "    mse_train.append(np.mean(np.power(yhat_train - ytrain, 2)))\n",
    "    mse_test.append(np.mean(np.power(yhat_test - ytest, 2)))\n",
    "ax = plt.gca()\n",
    "ax.plot(alphas_,mse_train,label='train error ridge')\n",
    "ax.plot(alphas_,mse_test,label='test error ridge')\n",
    "plt.legend(loc=1)\n",
    "plt.title('Regularization Path RIDGE')\n",
    "ax.set_xscale('log')\n",
    "ax.set_xlim(ax.get_xlim()[::-1])\n",
    "plt.show()\n",
    "\n",
    "\n",
    "# LASSO\n",
    "Xtest = X2[np.logical_not(istrain)]\n",
    "ytest = y[np.logical_not(istrain)]\n",
    "alphas_ = np.logspace(0,-3,base=10)\n",
    "coefs = []\n",
    "model = Lasso(fit_intercept=True)\n",
    "mse_test = []\n",
    "mse_train = []\n",
    "for a in alphas_:\n",
    "    model.set_params(alpha=a)\n",
    "    model.fit(Xtrain, ytrain)\n",
    "    yhat_train = model.predict(Xtrain)\n",
    "    yhat_test = model.predict(Xtest)\n",
    "    mse_train.append(np.mean(np.power(yhat_train - ytrain, 2)))\n",
    "    mse_test.append(np.mean(np.power(yhat_test - ytest, 2)))\n",
    "ax = plt.gca()\n",
    "ax.plot(alphas_,mse_train,label='train error lasso')\n",
    "ax.plot(alphas_,mse_test,label='test error lasso')\n",
    "plt.legend(loc=1)\n",
    "plt.title('Regularization Path LASSO')\n",
    "ax.set_xscale('log')\n",
    "ax.set_xlim(ax.get_xlim()[::-1])\n",
    "plt.show()\n"
   ]
  },
  {
   "cell_type": "markdown",
   "metadata": {},
   "source": [
    "### d) Estimación parámetro de regularización"
   ]
  },
  {
   "cell_type": "code",
   "execution_count": 192,
   "metadata": {},
   "outputs": [
    {
     "name": "stdout",
     "output_type": "stream",
     "text": [
      "BEST PARAMETER=30.888436, MSE(CV)=0.064682\n"
     ]
    }
   ],
   "source": [
    "def MSE(y,yhat): return np.mean(np.power(y-yhat,2))\n",
    "Xm = Xtrain.as_matrix()\n",
    "ym = ytrain.as_matrix()\n",
    "from sklearn.model_selection import KFold\n",
    "kf = KFold(n_splits=10)\n",
    "best_cv_mse = float(\"inf\")\n",
    "model = Ridge(fit_intercept=True,solver='svd')\n",
    "alphas_ = np.logspace(7,1,base=10)\n",
    "#print(largo)\n",
    "#print(alphas_)\n",
    "for a in alphas_:\n",
    "    model.set_params(alpha=a)\n",
    "    mse_list_k10 = [MSE(model.fit(Xm[train], ym[train]).predict(Xm[val]), ym[val]) \\\n",
    "        for train, val in kf.split(Xm)]\n",
    "    if np.mean(mse_list_k10) < best_cv_mse:\n",
    "        best_cv_mse = np.mean(mse_list_k10)\n",
    "        best_alpha = a\n",
    "\n",
    "print \"BEST PARAMETER=%f, MSE(CV)=%f\"%(best_alpha,best_cv_mse)"
   ]
  },
  {
   "cell_type": "markdown",
   "metadata": {},
   "source": [
    "# Parte 4"
   ]
  },
  {
   "cell_type": "code",
   "execution_count": 194,
   "metadata": {
    "collapsed": true
   },
   "outputs": [],
   "source": [
    "df_A = df_scaled.sample(1000,random_state=11)\n",
    "frames = []\n",
    "valor = df_scaled.price\n",
    "length = 0.3\n",
    "for z in np.arange(int(np.min(valor)),int(np.max(valor))+1,length):\n",
    "    #un maximo de 100 datos por intervalo\n",
    "    aux = df_scaled[(df_scaled.price >= z) & (df_scaled.price < z+length)].head(100)\n",
    "    frames.append(aux)\n",
    "df_B = pd.concat(frames).sample(1000,random_state=11) #crea el dataframe"
   ]
  },
  {
   "cell_type": "markdown",
   "metadata": {},
   "source": [
    "## a) "
   ]
  },
  {
   "cell_type": "markdown",
   "metadata": {},
   "source": [
    "En esta secci\u0013on se presentar\u0013an dos muestras del dataframe utilizado en la actividades anteriores, donde cada\n",
    "una de estas tiene una propiedad distinta ya que son muestreadas en funci\u0013on del valor a predecir (logaritmo\n",
    "del precio de la casa). Por una parte se tiene una peque~na muestra A, la cual es extra\u0013\u0010da directamente de\n",
    "los datos con los que se trabaja (manteniendo la distribuci\u0013on de esta) y la muestra B, es generada con el\n",
    "prop\u0013osito de que en cada intervalo del rango de valores haya la misma cantidad de datos aproximadamente\n",
    "(simulando una distribuci\u0013on uniforme). El objetivo es familiarizarse con el concepto de Transfer Learning[2]"
   ]
  },
  {
   "cell_type": "code",
   "execution_count": 197,
   "metadata": {},
   "outputs": [],
   "source": [
    "X_A = df_A.iloc[:,1:].values\n",
    "y_A = df_A.price\n",
    "X_B = df_B.iloc[:,1:].values\n",
    "y_B = df_B.price\n",
    "from sklearn.model_selection import train_test_split\n",
    "Xtrain_A,Xval_A,ytrain_A,yval_A = train_test_split(X_A, y_A, test_size=0.3, random_state=42)\n",
    "Xtrain_B,Xval_B,ytrain_B,yval_B = train_test_split(X_B, y_B, test_size=0.3, random_state=42)"
   ]
  },
  {
   "cell_type": "markdown",
   "metadata": {},
   "source": [
    "## b)"
   ]
  },
  {
   "cell_type": "markdown",
   "metadata": {},
   "source": [
    "Eval\u0013ue los dos modelo de regresi\u0013on lineal que se generan al entrenar con cada muestra. Mida el error\n",
    "de cada modelo sobre ambos conjuntos de validaci\u0013on (A y B). Explique lo que observa."
   ]
  },
  {
   "cell_type": "code",
   "execution_count": 205,
   "metadata": {},
   "outputs": [
    {
     "name": "stdout",
     "output_type": "stream",
     "text": [
      "Error de validación conjunto A: 0.0716060037342\n",
      "Error de validación conjunto B: 0.119065298409\n"
     ]
    }
   ],
   "source": [
    "linreg = lm.LinearRegression(fit_intercept = True)\n",
    "\n",
    "modelo_A = linreg.fit(Xtrain_A, ytrain_A)\n",
    "yhat_val = linreg.predict(Xval_A)\n",
    "val_errorA = np.mean(np.power(yhat_val - yval_A, 2))\n",
    "print \"Error de validación conjunto A:\",val_errorA\n",
    "\n",
    "modelo_B = linreg.fit(Xtrain_B, ytrain_B)\n",
    "yhat_val = linreg.predict(Xval_B)\n",
    "val_errorB = np.mean(np.power(yhat_val - yval_B, 2))\n",
    "print \"Error de validación conjunto B:\",val_errorB\n"
   ]
  },
  {
   "cell_type": "markdown",
   "metadata": {},
   "source": [
    "## c)"
   ]
  },
  {
   "cell_type": "markdown",
   "metadata": {},
   "source": [
    "Eligiriamos el modelo A, dado que que experimentalmente el error de validación del conjunto A es menor que el del conjunto B, lo que implica que a con nueva data, la predicción del modelo A será más cercana que la del modelo B. Distribución normal de datos..."
   ]
  },
  {
   "cell_type": "markdown",
   "metadata": {},
   "source": [
    "# Parte 5"
   ]
  },
  {
   "cell_type": "code",
   "execution_count": null,
   "metadata": {
    "collapsed": true
   },
   "outputs": [],
   "source": [
    "En el \u0013area de la salud, diagnosticar a una persona de una enfermedad de forma r\u0013apida y correcta puede llegar\n",
    "a salvarle la vida. Los encargados de realizar estos diagn\u0013osticos, son m\u0013edicos que, observando ex\u0013amenes y\n",
    "ciertos indicadores, pueden concluir qu\u0013e enfermedad presenta el paciente. Si \u0013el medico se llegase a equivocar,\n",
    "aparte de que el paciente pueda perder la vida, el medico podr\u0013\u0010a ser demandado por negligencia arriesgando\n",
    "a~nos de c\u0013arcel o pagar sumas de dinero considerable, es por estas razones que es importante no cometer\n",
    "errores.\n",
    "Pong\u0013amonos en el contexto de que usted es contratado para generar un modelo que prediga si es que un\n",
    "paciente presenta una enfermedad cardiaca a partir de ciertos indicadores, tales como la edad, sexo, presi\u0013on"
   ]
  }
 ],
 "metadata": {
  "kernelspec": {
   "display_name": "Python 2",
   "language": "python",
   "name": "python2"
  },
  "language_info": {
   "codemirror_mode": {
    "name": "ipython",
    "version": 2
   },
   "file_extension": ".py",
   "mimetype": "text/x-python",
   "name": "python",
   "nbconvert_exporter": "python",
   "pygments_lexer": "ipython2",
   "version": "2.7.13"
  }
 },
 "nbformat": 4,
 "nbformat_minor": 2
}
