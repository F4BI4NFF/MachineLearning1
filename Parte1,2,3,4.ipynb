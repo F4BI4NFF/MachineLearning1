{
 "cells": [
  {
   "cell_type": "markdown",
   "metadata": {},
   "source": [
    "# Parte 1\n",
    "\n",
    "### Integrantes: Fernanda Weiss y Fabián Fernández"
   ]
  },
  {
   "cell_type": "markdown",
   "metadata": {},
   "source": [
    "En el presente se trabajará con el dataset *House Sales in King County, USA* el cuál se utilizará en el presente trabajo para evaluar modelos simples de regresión líneal. El dataset nos entrega información sobre distintas características asociadas a las ventas de casas en la localidad King County, en el rango de un año (entre mayo de 2014 y mayo de 2015), como la cantidad de habitaciones, cantidad de baños, número de pisos, etc."
   ]
  },
  {
   "cell_type": "markdown",
   "metadata": {},
   "source": [
    "### a) Construcción de dataset"
   ]
  },
  {
   "cell_type": "markdown",
   "metadata": {},
   "source": [
    "[//]: <> (a. Construya un dataframe con los datos a analizar descargándolos desde la plataforma como se indic´o. Explique por qu´e se realiza la l´ınea 4.)\n",
    "\n",
    "Comenzaremos construyendo un dataframe con los datos descritos previamente. "
   ]
  },
  {
   "cell_type": "code",
   "execution_count": 4,
   "metadata": {
    "scrolled": false
   },
   "outputs": [
    {
     "data": {
      "text/html": [
       "<div>\n",
       "<style>\n",
       "    .dataframe thead tr:only-child th {\n",
       "        text-align: right;\n",
       "    }\n",
       "\n",
       "    .dataframe thead th {\n",
       "        text-align: left;\n",
       "    }\n",
       "\n",
       "    .dataframe tbody tr th {\n",
       "        vertical-align: top;\n",
       "    }\n",
       "</style>\n",
       "<table border=\"1\" class=\"dataframe\">\n",
       "  <thead>\n",
       "    <tr style=\"text-align: right;\">\n",
       "      <th></th>\n",
       "      <th>price</th>\n",
       "      <th>bedrooms</th>\n",
       "      <th>bathrooms</th>\n",
       "      <th>sqft_living</th>\n",
       "      <th>sqft_lot</th>\n",
       "      <th>floors</th>\n",
       "      <th>waterfront</th>\n",
       "      <th>view</th>\n",
       "      <th>condition</th>\n",
       "      <th>grade</th>\n",
       "      <th>sqft_above</th>\n",
       "      <th>sqft_basement</th>\n",
       "      <th>yr_built</th>\n",
       "      <th>yr_renovated</th>\n",
       "      <th>lat</th>\n",
       "      <th>long</th>\n",
       "      <th>sqft_living15</th>\n",
       "      <th>sqft_lot15</th>\n",
       "    </tr>\n",
       "  </thead>\n",
       "  <tbody>\n",
       "    <tr>\n",
       "      <th>0</th>\n",
       "      <td>221900.0</td>\n",
       "      <td>3</td>\n",
       "      <td>1.00</td>\n",
       "      <td>1180</td>\n",
       "      <td>5650</td>\n",
       "      <td>1.0</td>\n",
       "      <td>0</td>\n",
       "      <td>0</td>\n",
       "      <td>3</td>\n",
       "      <td>7</td>\n",
       "      <td>1180</td>\n",
       "      <td>0</td>\n",
       "      <td>1955</td>\n",
       "      <td>0</td>\n",
       "      <td>47.5112</td>\n",
       "      <td>-122.257</td>\n",
       "      <td>1340</td>\n",
       "      <td>5650</td>\n",
       "    </tr>\n",
       "    <tr>\n",
       "      <th>1</th>\n",
       "      <td>538000.0</td>\n",
       "      <td>3</td>\n",
       "      <td>2.25</td>\n",
       "      <td>2570</td>\n",
       "      <td>7242</td>\n",
       "      <td>2.0</td>\n",
       "      <td>0</td>\n",
       "      <td>0</td>\n",
       "      <td>3</td>\n",
       "      <td>7</td>\n",
       "      <td>2170</td>\n",
       "      <td>400</td>\n",
       "      <td>1951</td>\n",
       "      <td>1991</td>\n",
       "      <td>47.7210</td>\n",
       "      <td>-122.319</td>\n",
       "      <td>1690</td>\n",
       "      <td>7639</td>\n",
       "    </tr>\n",
       "    <tr>\n",
       "      <th>2</th>\n",
       "      <td>180000.0</td>\n",
       "      <td>2</td>\n",
       "      <td>1.00</td>\n",
       "      <td>770</td>\n",
       "      <td>10000</td>\n",
       "      <td>1.0</td>\n",
       "      <td>0</td>\n",
       "      <td>0</td>\n",
       "      <td>3</td>\n",
       "      <td>6</td>\n",
       "      <td>770</td>\n",
       "      <td>0</td>\n",
       "      <td>1933</td>\n",
       "      <td>0</td>\n",
       "      <td>47.7379</td>\n",
       "      <td>-122.233</td>\n",
       "      <td>2720</td>\n",
       "      <td>8062</td>\n",
       "    </tr>\n",
       "    <tr>\n",
       "      <th>3</th>\n",
       "      <td>604000.0</td>\n",
       "      <td>4</td>\n",
       "      <td>3.00</td>\n",
       "      <td>1960</td>\n",
       "      <td>5000</td>\n",
       "      <td>1.0</td>\n",
       "      <td>0</td>\n",
       "      <td>0</td>\n",
       "      <td>5</td>\n",
       "      <td>7</td>\n",
       "      <td>1050</td>\n",
       "      <td>910</td>\n",
       "      <td>1965</td>\n",
       "      <td>0</td>\n",
       "      <td>47.5208</td>\n",
       "      <td>-122.393</td>\n",
       "      <td>1360</td>\n",
       "      <td>5000</td>\n",
       "    </tr>\n",
       "    <tr>\n",
       "      <th>4</th>\n",
       "      <td>510000.0</td>\n",
       "      <td>3</td>\n",
       "      <td>2.00</td>\n",
       "      <td>1680</td>\n",
       "      <td>8080</td>\n",
       "      <td>1.0</td>\n",
       "      <td>0</td>\n",
       "      <td>0</td>\n",
       "      <td>3</td>\n",
       "      <td>8</td>\n",
       "      <td>1680</td>\n",
       "      <td>0</td>\n",
       "      <td>1987</td>\n",
       "      <td>0</td>\n",
       "      <td>47.6168</td>\n",
       "      <td>-122.045</td>\n",
       "      <td>1800</td>\n",
       "      <td>7503</td>\n",
       "    </tr>\n",
       "  </tbody>\n",
       "</table>\n",
       "</div>"
      ],
      "text/plain": [
       "      price  bedrooms  bathrooms  sqft_living  sqft_lot  floors  waterfront  \\\n",
       "0  221900.0         3       1.00         1180      5650     1.0           0   \n",
       "1  538000.0         3       2.25         2570      7242     2.0           0   \n",
       "2  180000.0         2       1.00          770     10000     1.0           0   \n",
       "3  604000.0         4       3.00         1960      5000     1.0           0   \n",
       "4  510000.0         3       2.00         1680      8080     1.0           0   \n",
       "\n",
       "   view  condition  grade  sqft_above  sqft_basement  yr_built  yr_renovated  \\\n",
       "0     0          3      7        1180              0      1955             0   \n",
       "1     0          3      7        2170            400      1951          1991   \n",
       "2     0          3      6         770              0      1933             0   \n",
       "3     0          5      7        1050            910      1965             0   \n",
       "4     0          3      8        1680              0      1987             0   \n",
       "\n",
       "       lat     long  sqft_living15  sqft_lot15  \n",
       "0  47.5112 -122.257           1340        5650  \n",
       "1  47.7210 -122.319           1690        7639  \n",
       "2  47.7379 -122.233           2720        8062  \n",
       "3  47.5208 -122.393           1360        5000  \n",
       "4  47.6168 -122.045           1800        7503  "
      ]
     },
     "execution_count": 4,
     "metadata": {},
     "output_type": "execute_result"
    }
   ],
   "source": [
    "import pandas as pd\n",
    "import numpy as np\n",
    "df = pd.read_csv(\"kc_house_data.csv\")\n",
    "df.drop(['id','date','zipcode',],axis=1,inplace=True)\n",
    "df.head()"
   ]
  },
  {
   "cell_type": "markdown",
   "metadata": {},
   "source": [
    "Es importante notar que al construir el dataframe se realiza una modificación a los datos originales en la línea 4, la que realiza lo siguiente:\n",
    "\n",
    "* Se eliminan las columnas que no agregan valor al análisis que se realizará, estas columnas son el *identificador (id), fecha (date) y cógido zip* (zipcode), esto es, no será posible realizar una estimación del precio con estas variables.\n",
    "\n",
    "\n",
    "\n",
    "* Mediante la opción *axis=1* se especifica el eje a través del cual se hará la acción, es decir en fila o columna. Por defecto se tiene *axis=0* que indica que se realice por fila, al indicar *axis=1* se indica que se realice por columna.\n",
    "[//]: <> (It specifies the axis along which the means are computed. By default axis=0. This is consistent with the numpy.mean usage when axis is specified explicitly -in numpy.mean, axis==None by default, which computes the mean  value over the flattened array , in which axis=0 along the rows -namely, index in pandas, and axis=1 along the columns. https://stackoverflow.com/questions/22149584/what-does-axis-in-pandas-mean Note: axis=1 denotes that we are referring to a column, not a row )\n",
    "* Mediante la opción *inplace* se indica que la modificación se realice directamente en el dataframe, sin tener que reasignarlo.\n",
    "[//]: <> (https://stackoverflow.com/questions/13411544/delete-column-from-pandas-dataframe-using-python-del)"
   ]
  },
  {
   "cell_type": "markdown",
   "metadata": {},
   "source": [
    "### b) Descripción de dataset"
   ]
  },
  {
   "cell_type": "markdown",
   "metadata": {},
   "source": [
    "[//]: <> (b. Describa brevemente el dataset a utilizar.)\n",
    "Luego se describe brevemente el dataset a utilizar."
   ]
  },
  {
   "cell_type": "code",
   "execution_count": 5,
   "metadata": {
    "scrolled": true
   },
   "outputs": [
    {
     "name": "stdout",
     "output_type": "stream",
     "text": [
      "info\n",
      "<class 'pandas.core.frame.DataFrame'>\n",
      "RangeIndex: 21613 entries, 0 to 21612\n",
      "Data columns (total 18 columns):\n",
      "price            21613 non-null float64\n",
      "bedrooms         21613 non-null int64\n",
      "bathrooms        21613 non-null float64\n",
      "sqft_living      21613 non-null int64\n",
      "sqft_lot         21613 non-null int64\n",
      "floors           21613 non-null float64\n",
      "waterfront       21613 non-null int64\n",
      "view             21613 non-null int64\n",
      "condition        21613 non-null int64\n",
      "grade            21613 non-null int64\n",
      "sqft_above       21613 non-null int64\n",
      "sqft_basement    21613 non-null int64\n",
      "yr_built         21613 non-null int64\n",
      "yr_renovated     21613 non-null int64\n",
      "lat              21613 non-null float64\n",
      "long             21613 non-null float64\n",
      "sqft_living15    21613 non-null int64\n",
      "sqft_lot15       21613 non-null int64\n",
      "dtypes: float64(5), int64(13)\n",
      "memory usage: 3.0 MB\n"
     ]
    }
   ],
   "source": [
    "\n",
    "#Return a tuple representing the dimensionality of the DataFrame\n",
    "print \"info\"\n",
    "df.info()\n"
   ]
  },
  {
   "cell_type": "markdown",
   "metadata": {},
   "source": [
    "Con df.info() es posible ver la información asociada a cada columna, la cantidad de datos, si tiene algún dato nulo, y el tipo de dato. Los atributos para predecir el valor de una casa están especificados como:\n",
    "\n",
    "<ul>\n",
    "    <li><strong>price</strong> : Corresponda al precio de la casa, es la predicción objetivo del modelo. </li>\n",
    "    <li><strong>bedrooms</strong> : Número de dormitorios por casa. </li>\n",
    "    <li><strong>bathrooms</strong> : Número de baños por dormitorio.</li>\n",
    "    <li><strong>sqft_living</strong> : Pies cuadrados de la casa. </li>\n",
    "    <li><strong>sqft_lot</strong> : Pies de cuadrados del terreno. </li>\n",
    "    <li><strong>floors</strong> : Total de pisos en la casa. </li>\n",
    "    <li><strong>waterfront</strong> : Casa que tiene una vista al mar. </li>\n",
    "    <li><strong>view</strong> : Cantidad de veces que ha sido vista la casa. </li>\n",
    "    <li><strong>condition</strong> : Que tan buena es la condición de la casa. </li>\n",
    "    <li><strong>grade</strong> : grado general dado a la unidad de vivienda, basado en el sistema de clasificación del condado        de King.  </li>\n",
    "    <li><strong>sqft_above</strong>: Pies cuadrados aparte del sótano. </li>\n",
    "    <li><strong>sqtf_basement</strong> : Pies cuadrados del sótano. </li>\n",
    "    <li><strong>yr_built</strong> : Año de construcción de la vivienda. </li>\n",
    "    <li><strong>yr_renovate</strong> : Año en que la casa fue renovada. </li>\n",
    "    <li><strong>lat</strong> : Coordenada de latitud. </li>\n",
    "    <li><strong>long</strong> : Coordenada de longitud. </li>\n",
    "    <li><strong>sqft_living15</strong>: Área de la sala de estar en 2015 ( implica alguna renovación). Esto podría o no haber       afectado al área del terreno. </li>\n",
    "    <li><strong>sqft_lot15</strong> : Área del tamaño del terreno en 2015 ( implica alguna renovación).</li>\n",
    "</ul>\n"
   ]
  },
  {
   "cell_type": "code",
   "execution_count": 6,
   "metadata": {},
   "outputs": [
    {
     "name": "stdout",
     "output_type": "stream",
     "text": [
      "shape: (21613, 18)\n"
     ]
    }
   ],
   "source": [
    "print \"shape:\",df.shape"
   ]
  },
  {
   "cell_type": "markdown",
   "metadata": {},
   "source": [
    "El comando df.shape visualiza la dimensión del dataframe. La cual consiste en 21613 datos entre el conjunto de entrenamiento y de prueba. Cada dato contiene 18 atributos, los anteriormente descritos."
   ]
  },
  {
   "cell_type": "code",
   "execution_count": 7,
   "metadata": {},
   "outputs": [
    {
     "name": "stdout",
     "output_type": "stream",
     "text": [
      "Descripción\n"
     ]
    },
    {
     "data": {
      "text/html": [
       "<div>\n",
       "<style>\n",
       "    .dataframe thead tr:only-child th {\n",
       "        text-align: right;\n",
       "    }\n",
       "\n",
       "    .dataframe thead th {\n",
       "        text-align: left;\n",
       "    }\n",
       "\n",
       "    .dataframe tbody tr th {\n",
       "        vertical-align: top;\n",
       "    }\n",
       "</style>\n",
       "<table border=\"1\" class=\"dataframe\">\n",
       "  <thead>\n",
       "    <tr style=\"text-align: right;\">\n",
       "      <th></th>\n",
       "      <th>price</th>\n",
       "      <th>bedrooms</th>\n",
       "      <th>bathrooms</th>\n",
       "      <th>sqft_living</th>\n",
       "      <th>sqft_lot</th>\n",
       "      <th>floors</th>\n",
       "      <th>waterfront</th>\n",
       "      <th>view</th>\n",
       "      <th>condition</th>\n",
       "      <th>grade</th>\n",
       "      <th>sqft_above</th>\n",
       "      <th>sqft_basement</th>\n",
       "      <th>yr_built</th>\n",
       "      <th>yr_renovated</th>\n",
       "      <th>lat</th>\n",
       "      <th>long</th>\n",
       "      <th>sqft_living15</th>\n",
       "      <th>sqft_lot15</th>\n",
       "    </tr>\n",
       "  </thead>\n",
       "  <tbody>\n",
       "    <tr>\n",
       "      <th>count</th>\n",
       "      <td>2.161300e+04</td>\n",
       "      <td>21613.000000</td>\n",
       "      <td>21613.000000</td>\n",
       "      <td>21613.000000</td>\n",
       "      <td>2.161300e+04</td>\n",
       "      <td>21613.000000</td>\n",
       "      <td>21613.000000</td>\n",
       "      <td>21613.000000</td>\n",
       "      <td>21613.000000</td>\n",
       "      <td>21613.000000</td>\n",
       "      <td>21613.000000</td>\n",
       "      <td>21613.000000</td>\n",
       "      <td>21613.000000</td>\n",
       "      <td>21613.000000</td>\n",
       "      <td>21613.000000</td>\n",
       "      <td>21613.000000</td>\n",
       "      <td>21613.000000</td>\n",
       "      <td>21613.000000</td>\n",
       "    </tr>\n",
       "    <tr>\n",
       "      <th>mean</th>\n",
       "      <td>5.400881e+05</td>\n",
       "      <td>3.370842</td>\n",
       "      <td>2.114757</td>\n",
       "      <td>2079.899736</td>\n",
       "      <td>1.510697e+04</td>\n",
       "      <td>1.494309</td>\n",
       "      <td>0.007542</td>\n",
       "      <td>0.234303</td>\n",
       "      <td>3.409430</td>\n",
       "      <td>7.656873</td>\n",
       "      <td>1788.390691</td>\n",
       "      <td>291.509045</td>\n",
       "      <td>1971.005136</td>\n",
       "      <td>84.402258</td>\n",
       "      <td>47.560053</td>\n",
       "      <td>-122.213896</td>\n",
       "      <td>1986.552492</td>\n",
       "      <td>12768.455652</td>\n",
       "    </tr>\n",
       "    <tr>\n",
       "      <th>std</th>\n",
       "      <td>3.671272e+05</td>\n",
       "      <td>0.930062</td>\n",
       "      <td>0.770163</td>\n",
       "      <td>918.440897</td>\n",
       "      <td>4.142051e+04</td>\n",
       "      <td>0.539989</td>\n",
       "      <td>0.086517</td>\n",
       "      <td>0.766318</td>\n",
       "      <td>0.650743</td>\n",
       "      <td>1.175459</td>\n",
       "      <td>828.090978</td>\n",
       "      <td>442.575043</td>\n",
       "      <td>29.373411</td>\n",
       "      <td>401.679240</td>\n",
       "      <td>0.138564</td>\n",
       "      <td>0.140828</td>\n",
       "      <td>685.391304</td>\n",
       "      <td>27304.179631</td>\n",
       "    </tr>\n",
       "    <tr>\n",
       "      <th>min</th>\n",
       "      <td>7.500000e+04</td>\n",
       "      <td>0.000000</td>\n",
       "      <td>0.000000</td>\n",
       "      <td>290.000000</td>\n",
       "      <td>5.200000e+02</td>\n",
       "      <td>1.000000</td>\n",
       "      <td>0.000000</td>\n",
       "      <td>0.000000</td>\n",
       "      <td>1.000000</td>\n",
       "      <td>1.000000</td>\n",
       "      <td>290.000000</td>\n",
       "      <td>0.000000</td>\n",
       "      <td>1900.000000</td>\n",
       "      <td>0.000000</td>\n",
       "      <td>47.155900</td>\n",
       "      <td>-122.519000</td>\n",
       "      <td>399.000000</td>\n",
       "      <td>651.000000</td>\n",
       "    </tr>\n",
       "    <tr>\n",
       "      <th>25%</th>\n",
       "      <td>3.219500e+05</td>\n",
       "      <td>3.000000</td>\n",
       "      <td>1.750000</td>\n",
       "      <td>1427.000000</td>\n",
       "      <td>5.040000e+03</td>\n",
       "      <td>1.000000</td>\n",
       "      <td>0.000000</td>\n",
       "      <td>0.000000</td>\n",
       "      <td>3.000000</td>\n",
       "      <td>7.000000</td>\n",
       "      <td>1190.000000</td>\n",
       "      <td>0.000000</td>\n",
       "      <td>1951.000000</td>\n",
       "      <td>0.000000</td>\n",
       "      <td>47.471000</td>\n",
       "      <td>-122.328000</td>\n",
       "      <td>1490.000000</td>\n",
       "      <td>5100.000000</td>\n",
       "    </tr>\n",
       "    <tr>\n",
       "      <th>50%</th>\n",
       "      <td>4.500000e+05</td>\n",
       "      <td>3.000000</td>\n",
       "      <td>2.250000</td>\n",
       "      <td>1910.000000</td>\n",
       "      <td>7.618000e+03</td>\n",
       "      <td>1.500000</td>\n",
       "      <td>0.000000</td>\n",
       "      <td>0.000000</td>\n",
       "      <td>3.000000</td>\n",
       "      <td>7.000000</td>\n",
       "      <td>1560.000000</td>\n",
       "      <td>0.000000</td>\n",
       "      <td>1975.000000</td>\n",
       "      <td>0.000000</td>\n",
       "      <td>47.571800</td>\n",
       "      <td>-122.230000</td>\n",
       "      <td>1840.000000</td>\n",
       "      <td>7620.000000</td>\n",
       "    </tr>\n",
       "    <tr>\n",
       "      <th>75%</th>\n",
       "      <td>6.450000e+05</td>\n",
       "      <td>4.000000</td>\n",
       "      <td>2.500000</td>\n",
       "      <td>2550.000000</td>\n",
       "      <td>1.068800e+04</td>\n",
       "      <td>2.000000</td>\n",
       "      <td>0.000000</td>\n",
       "      <td>0.000000</td>\n",
       "      <td>4.000000</td>\n",
       "      <td>8.000000</td>\n",
       "      <td>2210.000000</td>\n",
       "      <td>560.000000</td>\n",
       "      <td>1997.000000</td>\n",
       "      <td>0.000000</td>\n",
       "      <td>47.678000</td>\n",
       "      <td>-122.125000</td>\n",
       "      <td>2360.000000</td>\n",
       "      <td>10083.000000</td>\n",
       "    </tr>\n",
       "    <tr>\n",
       "      <th>max</th>\n",
       "      <td>7.700000e+06</td>\n",
       "      <td>33.000000</td>\n",
       "      <td>8.000000</td>\n",
       "      <td>13540.000000</td>\n",
       "      <td>1.651359e+06</td>\n",
       "      <td>3.500000</td>\n",
       "      <td>1.000000</td>\n",
       "      <td>4.000000</td>\n",
       "      <td>5.000000</td>\n",
       "      <td>13.000000</td>\n",
       "      <td>9410.000000</td>\n",
       "      <td>4820.000000</td>\n",
       "      <td>2015.000000</td>\n",
       "      <td>2015.000000</td>\n",
       "      <td>47.777600</td>\n",
       "      <td>-121.315000</td>\n",
       "      <td>6210.000000</td>\n",
       "      <td>871200.000000</td>\n",
       "    </tr>\n",
       "  </tbody>\n",
       "</table>\n",
       "</div>"
      ],
      "text/plain": [
       "              price      bedrooms     bathrooms   sqft_living      sqft_lot  \\\n",
       "count  2.161300e+04  21613.000000  21613.000000  21613.000000  2.161300e+04   \n",
       "mean   5.400881e+05      3.370842      2.114757   2079.899736  1.510697e+04   \n",
       "std    3.671272e+05      0.930062      0.770163    918.440897  4.142051e+04   \n",
       "min    7.500000e+04      0.000000      0.000000    290.000000  5.200000e+02   \n",
       "25%    3.219500e+05      3.000000      1.750000   1427.000000  5.040000e+03   \n",
       "50%    4.500000e+05      3.000000      2.250000   1910.000000  7.618000e+03   \n",
       "75%    6.450000e+05      4.000000      2.500000   2550.000000  1.068800e+04   \n",
       "max    7.700000e+06     33.000000      8.000000  13540.000000  1.651359e+06   \n",
       "\n",
       "             floors    waterfront          view     condition         grade  \\\n",
       "count  21613.000000  21613.000000  21613.000000  21613.000000  21613.000000   \n",
       "mean       1.494309      0.007542      0.234303      3.409430      7.656873   \n",
       "std        0.539989      0.086517      0.766318      0.650743      1.175459   \n",
       "min        1.000000      0.000000      0.000000      1.000000      1.000000   \n",
       "25%        1.000000      0.000000      0.000000      3.000000      7.000000   \n",
       "50%        1.500000      0.000000      0.000000      3.000000      7.000000   \n",
       "75%        2.000000      0.000000      0.000000      4.000000      8.000000   \n",
       "max        3.500000      1.000000      4.000000      5.000000     13.000000   \n",
       "\n",
       "         sqft_above  sqft_basement      yr_built  yr_renovated           lat  \\\n",
       "count  21613.000000   21613.000000  21613.000000  21613.000000  21613.000000   \n",
       "mean    1788.390691     291.509045   1971.005136     84.402258     47.560053   \n",
       "std      828.090978     442.575043     29.373411    401.679240      0.138564   \n",
       "min      290.000000       0.000000   1900.000000      0.000000     47.155900   \n",
       "25%     1190.000000       0.000000   1951.000000      0.000000     47.471000   \n",
       "50%     1560.000000       0.000000   1975.000000      0.000000     47.571800   \n",
       "75%     2210.000000     560.000000   1997.000000      0.000000     47.678000   \n",
       "max     9410.000000    4820.000000   2015.000000   2015.000000     47.777600   \n",
       "\n",
       "               long  sqft_living15     sqft_lot15  \n",
       "count  21613.000000   21613.000000   21613.000000  \n",
       "mean    -122.213896    1986.552492   12768.455652  \n",
       "std        0.140828     685.391304   27304.179631  \n",
       "min     -122.519000     399.000000     651.000000  \n",
       "25%     -122.328000    1490.000000    5100.000000  \n",
       "50%     -122.230000    1840.000000    7620.000000  \n",
       "75%     -122.125000    2360.000000   10083.000000  \n",
       "max     -121.315000    6210.000000  871200.000000  "
      ]
     },
     "execution_count": 7,
     "metadata": {},
     "output_type": "execute_result"
    }
   ],
   "source": [
    "print \"Descripción\"\n",
    "df.describe()\n"
   ]
  },
  {
   "cell_type": "markdown",
   "metadata": {},
   "source": [
    "Se ven las 18 columnas que contiene el dataframe, además podemos observar las características de cada una de ellas, como la cantidad de registros para cada una, el promedio, desviación estándar, mínimo, máximo y los percentiles 20, 50 y 75.\n",
    "\n",
    "Cada columna indica una característica de la casa en venta. Se puede observar que existen 21.613 registros de casas, en las cuales se cumple que no existen valores nulos y son valores númericos, donde la mayoría son enteros, excepto cinco características entre las que se encuentran los baños y pisos, lo que es extraño que no sean valores enteros. "
   ]
  },
  {
   "cell_type": "markdown",
   "metadata": {},
   "source": [
    "### c) Normalización de datos y transformación variable a predecir"
   ]
  },
  {
   "cell_type": "markdown",
   "metadata": {},
   "source": [
    "[//]: <> (c. Normalice los datos antes de trabajar y aplique una transformación adecuada a la variable a predecir. Explique la importancia/conveniencia de realizar estas dos operaciones.)\n",
    "\n",
    "A continuación se procede a normalizar los datos y aplicar una transformación a la variable precio:"
   ]
  },
  {
   "cell_type": "code",
   "execution_count": 8,
   "metadata": {
    "collapsed": true
   },
   "outputs": [],
   "source": [
    "from sklearn.preprocessing import StandardScaler\n",
    "scaler = StandardScaler()\n",
    "df_scaled = pd.DataFrame(scaler.fit_transform(df), columns=df.columns)\n",
    "df_scaled['price'] = np.log(df['price'])  #creo que esta es la transformación \n"
   ]
  },
  {
   "cell_type": "markdown",
   "metadata": {},
   "source": [
    "Se creó un nuevo dataframe en base al anterior, pero normalizado. Ésta transformación centra los valores con media 0 y los escala en una varianza unitaria.\n",
    "\n",
    "Es importante mencionar que es conveniente hacer estas operaciones dado que en varias funciones objetivos del ámbito de maching learning, se utilizan elementos que asumen que todas las características están centradas en 0, como por ejemplo regularizadores y kernels. Además es importante que las varianzas estén en el mismo orden, pues de lo contrario alguna de las características podría predominar dentro de la función objetivo, y así la máquina no puede aprender correctamentemente las otras características.\n",
    "\n",
    "Por otro lado, se debe destacar la transformación posterior que se le realizó a la característica del precio, la cual consiste en una linealización de los datos al aplicar la función logarítmica. Esto es, ya que no se sabe a priori el comportamiento de la variable **precio**, dado que  puede ser cuadrática, cúbica o de otro grado, como la regresión precide una variable lineal, se tiene que dejar de esta forma para que el modelo propuesto sea válido."
   ]
  },
  {
   "cell_type": "markdown",
   "metadata": {},
   "source": [
    "### d) Regresión lineal de mínimos cuadrados básica"
   ]
  },
  {
   "cell_type": "markdown",
   "metadata": {},
   "source": [
    "[//]: <> (d Realice una regresión lineal de mínimos cuadrados básica. Explique la importancia/conveniencia del paso 4 y los argumentos que se deben entregar a la función que implementa la regresión lineal. http://sebastianraschka.com/Articles/2014_about_feature_scaling.html#standardization-and-min-max-scaling)\n",
    "\n",
    "Se procede a realizar una regresión líneal de mínimos cuadrados básica,"
   ]
  },
  {
   "cell_type": "code",
   "execution_count": 9,
   "metadata": {
    "collapsed": true
   },
   "outputs": [],
   "source": [
    "import sklearn.linear_model as lm\n",
    "X = df_scaled.iloc[:,1:] #use .ix instead, in older pandas version\n",
    "N = X.shape[0]\n",
    "X.insert(X.shape[1], 'intercept', np.ones(N)) ##Agregamos interceptos a matriz X\n",
    "y = df_scaled['price']  #Variable transformada!!!!!\n",
    "#mascara estatica con el 70% de los datos\n",
    "mascara = np.zeros(len(X))\n",
    "limit = int(len(X)*0.7)\n",
    "mascara[:limit] = 1\n",
    "istrain = mascara== 1\n",
    "# Acá toma el 70% de los datos para entrenar.\n",
    "# Define el conjunto de entrenamiento\n",
    "Xtrain = X[istrain]\n",
    "ytrain = y[istrain]\n",
    "\n",
    "#Define el conjunto de test\n",
    "Xtest = X[np.logical_not(istrain)]\n",
    "ytest = y[np.logical_not(istrain)]\n",
    "\n",
    "linreg = lm.LinearRegression(fit_intercept = False)\n",
    "modelo = linreg.fit(Xtrain, ytrain)"
   ]
  },
  {
   "cell_type": "markdown",
   "metadata": {},
   "source": [
    "Es importante destacar, que en la línea 4 se añaden una nueva columna al dataframe con coeficientes unitarios la cual permitirá que se agreguen los interceptos sin alteración de estos en la regresión lineal.\n",
    "El argumento que se debe entregar a la función es fit_intercept con valor falso, dado que los interceptos ya fueron considerados según la explicación anterior. "
   ]
  },
  {
   "cell_type": "markdown",
   "metadata": {},
   "source": [
    "###  e) Pesos y Z-score"
   ]
  },
  {
   "cell_type": "markdown",
   "metadata": {},
   "source": [
    "A continuación se presenta una tabla con los pesos y Z-score correspondientes a cada predictor."
   ]
  },
  {
   "cell_type": "code",
   "execution_count": 21,
   "metadata": {
    "collapsed": true
   },
   "outputs": [],
   "source": [
    "from numpy import linalg as LA\n",
    "def getStandardRegressionError(linreg, Xtrain , ytrain ):\n",
    "   std_reg = np.sqrt(((linreg.predict(Xtrain) - ytrain) ** 2).sum()/21594)\n",
    "   return std_reg\n",
    "\n",
    "def getZscore(linreg,std_reg,K):\n",
    "   inverse_covariance = np.linalg.inv(Xtrain.transpose().dot(Xtrain))\n",
    "   z_score = np.ones(K)\n",
    "   for i in range(0,K):\n",
    "      z_score[i] = linreg.coef_[i]/(std_reg *np.sqrt((inverse_covariance[i,i])))\n",
    "      \n",
    "   return z_score \n",
    "\n",
    "st_error = getStandardRegressionError(modelo,Xtrain,ytrain)\n",
    "#print(regresion_error)\n",
    "\n",
    "cantidad_variables = (len(modelo.coef_[:]))\n",
    "\n",
    "Z_score = getZscore(modelo,st_error,cantidad_variables)\n",
    "nombres = list(Xtrain.columns[:-1])\n",
    "nombres.append('intercept')\n",
    "def do_table(nombres,modelo,Z_score):\n",
    "    cantidad_variables = (len(modelo.coef_[:]))\n",
    "    for i in range(cantidad_variables):\n",
    "        print('<tr><td>'+nombres[i]+'</td><td>'+str(round(modelo.coef_[i],4))+'</td><td>'+str(round(Z_score[i],4))+'</td></tr>')\n",
    "    \n",
    "#do_table(nombres,modelo,Z_score)"
   ]
  },
  {
   "cell_type": "markdown",
   "metadata": {},
   "source": [
    "<table style=\"width:100%\">\n",
    "<tr>\n",
    "        <th>Atributo</th>\n",
    "        <th>Coeficiente</th>\n",
    "        <th>Z-score</th>\n",
    "</tr>\n",
    "<tr><td>bedrooms</td><td>-0.0071</td><td>-3.1244</td></tr>\n",
    "<tr><td>bathrooms</td><td>0.057</td><td>17.8574</td></tr>\n",
    "<tr><td>sqft_living</td><td>-3.54349922406e+12</td><td>-31427226.961</td></tr>\n",
    "<tr><td>sqft_lot</td><td>0.0225</td><td>9.2179</td></tr>\n",
    "<tr><td>floors</td><td>0.0372</td><td>14.5084</td></tr>\n",
    "<tr><td>waterfront</td><td>0.0333</td><td>17.5574</td></tr>\n",
    "<tr><td>view</td><td>0.0424</td><td>20.9556</td></tr>\n",
    "<tr><td>condition</td><td>0.0458</td><td>24.809</td></tr>\n",
    "<tr><td>grade</td><td>0.1844</td><td>56.904</td></tr>\n",
    "<tr><td>sqft_above</td><td>3.19491406164e+12</td><td>31427226.961</td></tr>\n",
    "<tr><td>sqft_basement</td><td>1.70752884084e+12</td><td>31427226.961</td></tr>\n",
    "<tr><td>yr_built</td><td>-0.1101</td><td>-40.4754</td></tr>\n",
    "<tr><td>yr_renovated</td><td>0.0146</td><td>8.1521</td></tr>\n",
    "<tr><td>lat</td><td>0.1858</td><td>102.2836</td></tr>\n",
    "<tr><td>long</td><td>-0.0043</td><td>-1.9904</td></tr>\n",
    "<tr><td>sqft_living15</td><td>0.0883</td><td>28.9337</td></tr>\n",
    "<tr><td>sqft_lot15</td><td>-0.0082</td><td>-3.2716</td></tr>\n",
    "<tr><td>intercept</td><td>13.0395</td><td>7435.1966</td></tr>\n",
    "</table>"
   ]
  },
  {
   "cell_type": "code",
   "execution_count": 11,
   "metadata": {},
   "outputs": [
    {
     "name": "stdout",
     "output_type": "stream",
     "text": [
      "Condicionamiento de la matriz X: 3.20933985079e+15\n"
     ]
    }
   ],
   "source": [
    "print \"Condicionamiento de la matriz X:\", LA.cond(Xtrain)"
   ]
  },
  {
   "cell_type": "markdown",
   "metadata": {},
   "source": [
    "Observando la tabla anterior, es posible dar cuenta de existen cosas anómalas en el resultado de la regresión lineal. Por ejemplo, los atributos *sqft_living, sqft_above y sqft_basement* tienen un peso y z-score demasiado alto en comparación al resto de las características. \n",
    "\n",
    "Lo anterior es atribuible al mal condicionamiento de la matriz, que es de $3,21 \\cdot 10^{15}$, valor que está muy lejana al 1 que es el valor que implica que la matriz esté bien condicionada. Este mal condicionamiento de la matriz puede ser porque existen características que son linealmente dependientes de otras. El gran valor del número de condicionamiento implica que esta matriz está muy cercana a hacer singular ( no invertible ) y el cálculo de su inversa, o solución de un sistema lineal de ecuaciones es propenso a grandes errores numéricos.\n",
    "\n",
    "Para ver las variables que están más correlacionadas con la respuesta, podemos suponer una hipótesis nula tal que  $H_{0} :B _{j}= 0$ , la cual se acepta o rechaza dependiendo de los valores de Z-scores:\n",
    "\n",
    "$z_{j}= \\frac{B_{j}}{\\lambda \\sqrt{v_{jj}}}$\n",
    "\n",
    "Donde,\n",
    "\n",
    "$v_{jj} = (X^{T}X)^{-1}_{jj}$\n",
    "\n",
    "Esto lo hacemos al 5% con la distribución t con 21593 grados de libertad, bajo esto, todo valor absoluto de Z-score mayor a 1.645 conllevará un rechazo a la hipotesis nula, implicando que su coeficiente es no nulo, por ende estará correlacionado con la respuesta. Con este criterio, todos los atributos serían relevantes pero está sesgado al mal condicionamiento de la matriz.\t"
   ]
  },
  {
   "cell_type": "markdown",
   "metadata": {},
   "source": [
    "### f) Método de corrección de lo observado"
   ]
  },
  {
   "cell_type": "markdown",
   "metadata": {},
   "source": [
    "Para corregir lo anterior, se podrían aplicar dos métodos por lo bajo:\n",
    "1. Encontrar las características linealmente dependientes de otras y eliminarlas.\n",
    "2. Aplicar un regularizador que afecte lo menos posible a la regresión lineal original, pero que aún así arregle los atributos inconsistentes.\n",
    "De las opciones anteriores se escogerá la segunda, debido que la primera requiere mucho costo computacional para encontrar las características linealmente dependientes, y además, el hecho de eliminar características por completo,  consideramos una medida demasiado radical.\n",
    "\n",
    "Por lo tanto, se aplica un regularizador de Ridge con un lambda lo más pequeño posible. Para obtener este pequeño valor, se obtienen los valores propios de la matriz original, así el más diminuto se considera como el parámetro de lambda para la regularización de Ridge.\n",
    "\n",
    "Se sabe que para obtener los valores propios de una matriz, ésta debe ser cuadrada, sin embargo muestra matriz es rectangular de 21613 x 18. Por lo tanto, se calculan los valores propios de la matriz original por su transpuesta. El resultado anterior, no dará el valor exacto del menos valor propio, pero si dará un valor aproximado de este, que es lo que buscamos."
   ]
  },
  {
   "cell_type": "code",
   "execution_count": 25,
   "metadata": {},
   "outputs": [],
   "source": [
    "from sklearn.linear_model import Ridge\n",
    "Z = Xtrain.transpose().dot(Xtrain)\n",
    "[V, D] = LA.eig(Z)\n",
    "min_eigenvalue =  min(V) # Equivale al valor propio de la matriz \n",
    "#https://stackoverflow.com/questions/22631956/how-to-find-eigenvalues-for-non-quadratic-matrix\n",
    "clf = Ridge(alpha=min_eigenvalue,fit_intercept=False)\n",
    "modelo_regularizado = clf.fit(Xtrain, ytrain)\n",
    "st_error_reg = getStandardRegressionError(modelo_regularizado,Xtrain,ytrain)\n",
    "Z_score_reg = getZscore(modelo_regularizado,st_error_reg,cantidad_variables)\n",
    "\n",
    "\n",
    "#for i in range(cantidad_variables):\n",
    "    #print(round(Z_score[i],2),round(modelo.coef_[i],2),\n",
    "          #round(Z_score_reg[i],2),round(modelo_regularizado.coef_[i],2))\n",
    "    \n",
    "#do_table(nombres,modelo_regularizado,Z_score_reg)\n",
    "\n",
    "    \n"
   ]
  },
  {
   "cell_type": "markdown",
   "metadata": {},
   "source": [
    "<table style=\"width:100%\">\n",
    "<tr>\n",
    "        <th>Atributo</th>\n",
    "        <th>Coeficiente</th>\n",
    "        <th>Z-score</th>\n",
    "</tr>\n",
    "<tr><td>bedrooms</td><td>-0.0083</td><td>-3.6271</td></tr>\n",
    "<tr><td>bathrooms</td><td>0.056</td><td>17.5207</td></tr>\n",
    "<tr><td>sqft_living</td><td>0.4368</td><td>0.0</td></tr>\n",
    "<tr><td>sqft_lot</td><td>0.0222</td><td>9.0825</td></tr>\n",
    "<tr><td>floors</td><td>0.0376</td><td>14.6681</td></tr>\n",
    "<tr><td>waterfront</td><td>0.0335</td><td>17.6757</td></tr>\n",
    "<tr><td>view</td><td>0.0421</td><td>20.7899</td></tr>\n",
    "<tr><td>condition</td><td>0.0453</td><td>24.5509</td></tr>\n",
    "<tr><td>grade</td><td>0.1862</td><td>57.4635</td></tr>\n",
    "<tr><td>sqft_above</td><td>-0.2946</td><td>-0.0</td></tr>\n",
    "<tr><td>sqft_basement</td><td>-0.1509</td><td>-0.0</td></tr>\n",
    "<tr><td>yr_built</td><td>-0.1099</td><td>-40.3952</td></tr>\n",
    "<tr><td>yr_renovated</td><td>0.0148</td><td>8.2364</td></tr>\n",
    "<tr><td>lat</td><td>0.1863</td><td>102.5644</td></tr>\n",
    "<tr><td>long</td><td>-0.0041</td><td>-1.9006</td></tr>\n",
    "<tr><td>sqft_living15</td><td>0.0859</td><td>28.1753</td></tr>\n",
    "<tr><td>sqft_lot15</td><td>-0.007</td><td>-2.8055</td></tr>\n",
    "<tr><td>intercept</td><td>13.0397</td><td>7436.2456</td></tr>\n",
    "</table>"
   ]
  },
  {
   "cell_type": "markdown",
   "metadata": {},
   "source": [
    " \n",
    "### Se puede hacer una tabla con Z scores antes y despúes, dan z-scores muy bajos, cuales podrian ser los que están mas correlacionados?!\n",
    "Realizando la regresión lineal con el regularizador de Ridge, se puede ver mediante los nuevos pesos y z-score obtenidos que solo se modificaron los atributos que anteriormente tenían problemas, afectando de forma casi nula al resto, gracias al pequeño regularizador."
   ]
  },
  {
   "cell_type": "markdown",
   "metadata": {},
   "source": [
    "### g) Validación cruzada"
   ]
  },
  {
   "cell_type": "markdown",
   "metadata": {},
   "source": [
    "### Modelo no regularizado"
   ]
  },
  {
   "cell_type": "code",
   "execution_count": 13,
   "metadata": {},
   "outputs": [
    {
     "name": "stdout",
     "output_type": "stream",
     "text": [
      "mse_test: 0.0654124075861\n",
      "mse_cv 0.0646902919559\n"
     ]
    }
   ],
   "source": [
    "#K=5\n",
    "yhat_test = linreg.predict(Xtest)\n",
    "mse_test = np.mean(np.power(yhat_test - ytest, 2))\n",
    "Xm = Xtrain.as_matrix()\n",
    "ym = ytrain.as_matrix()\n",
    "from sklearn.model_selection import KFold\n",
    "kf = KFold(n_splits=5)\n",
    "mse_cv = 0\n",
    "for train, val in kf.split(Xm):\n",
    "    linreg = lm.LinearRegression(fit_intercept = False)\n",
    "    linreg.fit(Xm[train], ym[train])\n",
    "    yhat_val = linreg.predict(Xm[val])\n",
    "    mse_fold = np.mean(np.power(yhat_val - ym[val], 2))\n",
    "    mse_cv += mse_fold\n",
    "mse_cv_5 = mse_cv / 5\n",
    "print \"mse_test:\",mse_test\n",
    "print \"mse_cv\",mse_cv_5"
   ]
  },
  {
   "cell_type": "code",
   "execution_count": 14,
   "metadata": {},
   "outputs": [
    {
     "name": "stdout",
     "output_type": "stream",
     "text": [
      "mse_test: 0.0653598742452\n",
      "mse_cv 0.0646905656615\n",
      "Diferencia k=5 y k=10 2.73705611634e-07\n"
     ]
    }
   ],
   "source": [
    "#K = 10\n",
    "\n",
    "yhat_test = linreg.predict(Xtest)\n",
    "mse_test = np.mean(np.power(yhat_test - ytest, 2))\n",
    "Xm = Xtrain.as_matrix()\n",
    "ym = ytrain.as_matrix()\n",
    "from sklearn.model_selection import KFold\n",
    "kf = KFold(n_splits=10)\n",
    "mse_cv = 0\n",
    "for train, val in kf.split(Xm):\n",
    "    linreg = lm.LinearRegression(fit_intercept = False)\n",
    "    linreg.fit(Xm[train], ym[train])\n",
    "    yhat_val = linreg.predict(Xm[val])\n",
    "    mse_fold = np.mean(np.power(yhat_val - ym[val], 2))\n",
    "    mse_cv += mse_fold\n",
    "mse_cv_10 = mse_cv / 10\n",
    "print \"mse_test:\",mse_test\n",
    "print \"mse_cv\",mse_cv_10\n",
    "print \"Diferencia k=5 y k=10\",(mse_cv_10 - mse_cv_5)"
   ]
  },
  {
   "cell_type": "code",
   "execution_count": 15,
   "metadata": {},
   "outputs": [
    {
     "name": "stdout",
     "output_type": "stream",
     "text": [
      "Diferencia k=15 y k=10 1.02138864932e-05\n"
     ]
    }
   ],
   "source": [
    "yhat_test = linreg.predict(Xtest)\n",
    "mse_test = np.mean(np.power(yhat_test - ytest, 2))\n",
    "Xm = Xtrain.as_matrix()\n",
    "ym = ytrain.as_matrix()\n",
    "from sklearn.model_selection import KFold\n",
    "kf = KFold(n_splits=15)\n",
    "mse_cv = 0\n",
    "for train, val in kf.split(Xm):\n",
    "    linreg = lm.LinearRegression(fit_intercept = False)\n",
    "    linreg.fit(Xm[train], ym[train])\n",
    "    yhat_val = linreg.predict(Xm[val])\n",
    "    mse_fold = np.mean(np.power(yhat_val - ym[val], 2))\n",
    "    mse_cv += mse_fold\n",
    "mse_cv_15 = mse_cv / 15\n",
    "print \"Diferencia k=15 y k=10\",(mse_cv_15 - mse_cv_10)"
   ]
  },
  {
   "cell_type": "code",
   "execution_count": 16,
   "metadata": {},
   "outputs": [
    {
     "name": "stdout",
     "output_type": "stream",
     "text": [
      "Diferencia k=15 y k=10000 -2.00950435097e-06\n"
     ]
    }
   ],
   "source": [
    "yhat_test = linreg.predict(Xtest)\n",
    "mse_test = np.mean(np.power(yhat_test - ytest, 2))\n",
    "Xm = Xtrain.as_matrix()\n",
    "ym = ytrain.as_matrix()\n",
    "from sklearn.model_selection import KFold\n",
    "kf = KFold(n_splits=10000)\n",
    "mse_cv = 0\n",
    "for train, val in kf.split(Xm):\n",
    "    linreg = lm.LinearRegression(fit_intercept = False)\n",
    "    linreg.fit(Xm[train], ym[train])\n",
    "    yhat_val = linreg.predict(Xm[val])\n",
    "    mse_fold = np.mean(np.power(yhat_val - ym[val], 2))\n",
    "    mse_cv += mse_fold\n",
    "mse_cv_1000 = mse_cv / 10000\n",
    "print \"Diferencia k=15 y k=10000\",(mse_cv_1000 - mse_cv_15)"
   ]
  },
  {
   "cell_type": "markdown",
   "metadata": {},
   "source": [
    "### Modelo  regularizado"
   ]
  },
  {
   "cell_type": "code",
   "execution_count": 17,
   "metadata": {},
   "outputs": [
    {
     "name": "stdout",
     "output_type": "stream",
     "text": [
      "mse_test: 0.0653128519496\n",
      "mse_cv 0.0645164662505\n"
     ]
    }
   ],
   "source": [
    "#K=5\n",
    "yhat_test = linreg.predict(Xtest)\n",
    "mse_test = np.mean(np.power(yhat_test - ytest, 2))\n",
    "Xm = Xtrain.as_matrix()\n",
    "ym = ytrain.as_matrix()\n",
    "from sklearn.model_selection import KFold\n",
    "kf = KFold(n_splits=5)\n",
    "mse_cv = 0\n",
    "for train, val in kf.split(Xm):\n",
    "    clf = Ridge(alpha=min_eigenvalue,fit_intercept=False)\n",
    "    modelo_regularizado = clf.fit(Xtrain, ytrain)\n",
    "    yhat_val = modelo_regularizado.predict(Xm[val])\n",
    "    mse_fold = np.mean(np.power(yhat_val - ym[val], 2))\n",
    "    mse_cv += mse_fold\n",
    "mse_cv_5 = mse_cv / 5\n",
    "print \"mse_test:\",mse_test\n",
    "print \"mse_cv\",mse_cv_5"
   ]
  },
  {
   "cell_type": "code",
   "execution_count": 27,
   "metadata": {},
   "outputs": [
    {
     "name": "stdout",
     "output_type": "stream",
     "text": [
      "mse_test: 0.0653128519496\n",
      "mse_cv K=5: 0.0645164662505\n",
      "mse_cv K=10: 0.0645163259615\n",
      "Diferencia k=5 y k=10 -1.40288987552e-07\n",
      "diferencia k=5 y mse_test 0.000796385699151\n",
      "diferencia k=10 y mse_test 0.000796525988139\n"
     ]
    }
   ],
   "source": [
    "#K = 10\n",
    "yhat_test = linreg.predict(Xtest)\n",
    "mse_test = np.mean(np.power(yhat_test - ytest, 2))\n",
    "Xm = Xtrain.as_matrix()\n",
    "ym = ytrain.as_matrix()\n",
    "from sklearn.model_selection import KFold\n",
    "kf = KFold(n_splits=10)\n",
    "mse_cv = 0\n",
    "for train, val in kf.split(Xm):\n",
    "    clf = Ridge(alpha=min_eigenvalue,fit_intercept=False)\n",
    "    modelo_regularizado = clf.fit(Xtrain, ytrain)\n",
    "    yhat_val = modelo_regularizado.predict(Xm[val])\n",
    "    mse_fold = np.mean(np.power(yhat_val - ym[val], 2))\n",
    "    mse_cv += mse_fold\n",
    "mse_cv_10 = mse_cv / 10\n",
    "print \"mse_test:\",mse_test\n",
    "print \"mse_cv K=5:\",mse_cv_5\n",
    "print \"mse_cv K=10:\",mse_cv_10\n",
    "print \"Diferencia k=5 y k=10\",(mse_cv_10 - mse_cv_5)\n",
    "print \"diferencia k=5 y mse_test\",(mse_test - mse_cv_5)\n",
    "print \"diferencia k=10 y mse_test\",(mse_test - mse_cv_10)"
   ]
  },
  {
   "cell_type": "markdown",
   "metadata": {},
   "source": [
    "En base a los errores de validación obtenidos, se puede concluir que al realizar validación cruzada con un 5 folds se obtiene un valor milésimas más cercano al error real del modelo que con 10 folds. Hay un cierto número de folds óptimo que puede predecir de mejor manera el error del modelo, luego de eso el error de validación se aleja del error real del modelo lentamente."
   ]
  },
  {
   "cell_type": "markdown",
   "metadata": {},
   "source": [
    "Hacer gráfico k=1 a 10 para encontrar k*"
   ]
  },
  {
   "cell_type": "markdown",
   "metadata": {},
   "source": [
    "(h) Mida los errores de predicci´on para cada dato de entrenamiento. Utilizando un “quantile-quantile plot”\n",
    "determine si es razonable la hip´otesis de normalidad sobre los residuos del modelo."
   ]
  },
  {
   "cell_type": "code",
   "execution_count": 19,
   "metadata": {},
   "outputs": [
    {
     "data": {
      "image/png": "[encoded data removed]",
      "text/plain": [
       "<matplotlib.figure.Figure at 0xae19b00>"
      ]
     },
     "metadata": {},
     "output_type": "display_data"
    }
   ],
   "source": [
    "import pylab \n",
    "import scipy.stats as stats\n",
    "yhat_test = linreg.predict(Xtest)\n",
    "\n",
    "stats.probplot(np.power(yhat_test - ytest, 2), dist=\"norm\", plot=pylab)\n",
    "pylab.show()"
   ]
  },
  {
   "cell_type": "code",
   "execution_count": 35,
   "metadata": {},
   "outputs": [
    {
     "data": {
      "image/png": "[encoded data removed]",
      "text/plain": [
       "<matplotlib.figure.Figure at 0xfb12b38>"
      ]
     },
     "metadata": {},
     "output_type": "display_data"
    },
    {
     "ename": "AttributeError",
     "evalue": "'module' object has no attribute 'normal'",
     "output_type": "error",
     "traceback": [
      "\u001b[1;31m---------------------------------------------------------------------------\u001b[0m",
      "\u001b[1;31mAttributeError\u001b[0m                            Traceback (most recent call last)",
      "\u001b[1;32m<ipython-input-35-bc6232ae4de5>\u001b[0m in \u001b[0;36m<module>\u001b[1;34m()\u001b[0m\n\u001b[0;32m     16\u001b[0m    \u001b[1;32mprint\u001b[0m \u001b[1;34m\"r2:\"\u001b[0m\u001b[1;33m,\u001b[0m\u001b[0mr_value\u001b[0m\u001b[1;33m\u001b[0m\u001b[0m\n\u001b[0;32m     17\u001b[0m \u001b[1;33m\u001b[0m\u001b[0m\n\u001b[1;32m---> 18\u001b[1;33m \u001b[0mgetQQPlot\u001b[0m\u001b[1;33m(\u001b[0m\u001b[0mXtrain\u001b[0m\u001b[1;33m,\u001b[0m\u001b[0mytrain\u001b[0m\u001b[1;33m)\u001b[0m\u001b[1;33m\u001b[0m\u001b[0m\n\u001b[0m",
      "\u001b[1;32m<ipython-input-35-bc6232ae4de5>\u001b[0m in \u001b[0;36mgetQQPlot\u001b[1;34m(Xtrain, ytrain)\u001b[0m\n\u001b[0;32m     11\u001b[0m    \u001b[0mplt\u001b[0m\u001b[1;33m.\u001b[0m\u001b[0mshow\u001b[0m\u001b[1;33m(\u001b[0m\u001b[1;33m)\u001b[0m\u001b[1;33m\u001b[0m\u001b[0m\n\u001b[0;32m     12\u001b[0m    \u001b[0mprediction_error\u001b[0m\u001b[1;33m.\u001b[0m\u001b[0msort\u001b[0m\u001b[1;33m(\u001b[0m\u001b[1;33m)\u001b[0m\u001b[1;33m\u001b[0m\u001b[0m\n\u001b[1;32m---> 13\u001b[1;33m    \u001b[0mnorm\u001b[0m\u001b[1;33m=\u001b[0m\u001b[0mrandom\u001b[0m\u001b[1;33m.\u001b[0m\u001b[0mnormal\u001b[0m\u001b[1;33m(\u001b[0m\u001b[1;36m0\u001b[0m\u001b[1;33m,\u001b[0m\u001b[1;36m2\u001b[0m\u001b[1;33m,\u001b[0m\u001b[0mlen\u001b[0m\u001b[1;33m(\u001b[0m\u001b[0mpredict\u001b[0m\u001b[1;33m)\u001b[0m\u001b[1;33m)\u001b[0m\u001b[1;33m\u001b[0m\u001b[0m\n\u001b[0m\u001b[0;32m     14\u001b[0m    \u001b[0mnorm\u001b[0m\u001b[1;33m.\u001b[0m\u001b[0msort\u001b[0m\u001b[1;33m(\u001b[0m\u001b[1;33m)\u001b[0m\u001b[1;33m\u001b[0m\u001b[0m\n\u001b[0;32m     15\u001b[0m    \u001b[0mslope\u001b[0m\u001b[1;33m,\u001b[0m \u001b[0mintercept\u001b[0m\u001b[1;33m,\u001b[0m \u001b[0mr_value\u001b[0m\u001b[1;33m,\u001b[0m \u001b[0mp_value\u001b[0m\u001b[1;33m,\u001b[0m \u001b[0mstd_err\u001b[0m \u001b[1;33m=\u001b[0m \u001b[0mstats\u001b[0m\u001b[1;33m.\u001b[0m\u001b[0mlinregress\u001b[0m\u001b[1;33m(\u001b[0m\u001b[0mprediction_error\u001b[0m\u001b[1;33m,\u001b[0m\u001b[0mnorm\u001b[0m\u001b[1;33m)\u001b[0m\u001b[1;33m\u001b[0m\u001b[0m\n",
      "\u001b[1;31mAttributeError\u001b[0m: 'module' object has no attribute 'normal'"
     ]
    }
   ],
   "source": [
    "import scipy.stats as stats\n",
    "import matplotlib.pyplot as plt\n",
    "def getQQPlot(Xtrain,ytrain):\n",
    "   predict = linreg.predict(Xtrain)\n",
    "   ytrain = np.asarray(ytrain)\n",
    "   prediction_error = predict - ytrain \n",
    "   \n",
    "   normal = stats.probplot(prediction_error, dist='norm', plot=plt)\n",
    "   plt.ylabel('Training Data Error')\n",
    "   plt.title('Quantile-Quantile Plot')\n",
    "   plt.show()\n",
    "   prediction_error.sort()\n",
    "   norm=random.normal(0,2,len(predict))\n",
    "   norm.sort()\n",
    "   slope, intercept, r_value, p_value, std_err = stats.linregress(prediction_error,norm)\n",
    "   print \"r2:\",r_value\n",
    "\n",
    "getQQPlot(Xtrain,ytrain)\n"
   ]
  },
  {
   "cell_type": "markdown",
   "metadata": {},
   "source": [
    "$R^{2}: 0.9977$"
   ]
  },
  {
   "cell_type": "markdown",
   "metadata": {},
   "source": [
    "# Parte 2"
   ]
  },
  {
   "cell_type": "markdown",
   "metadata": {},
   "source": [
    "(a) Construya una funci\u0013on que implemente Forward Step-wise Selection (FSS). Es decir, partiendo con un\n",
    "modelo sin predictores (variables), agregue un predictor a la vez, re-ajustando el modelo de regresi\u0013on\n",
    "en cada paso. Para seleccionar localmente una variable, proponga/implemente un criterio distinto al\n",
    "utilizado en el c\u0013odigo de ejemplo. Construya un gr\u0013a\f",
    "co que muestre el error de entrenamiento y el error\n",
    "de pruebas como funci\u0013on del n\u0013umero de variables en el modelo. Ordene el eje x de menor a mayor."
   ]
  },
  {
   "cell_type": "code",
   "execution_count": null,
   "metadata": {},
   "outputs": [],
   "source": [
    "names_regressors = X.columns[:-1]\n",
    "print names_regressors"
   ]
  },
  {
   "cell_type": "code",
   "execution_count": null,
   "metadata": {},
   "outputs": [],
   "source": [
    "#Error cuadrado\n",
    "\n",
    "def fss(x, y, names_x, k = 10000):\n",
    "    p = x.shape[1]-1\n",
    "    k = min(p, k)\n",
    "    names_x = np.array(names_x)\n",
    "    remaining = range(0, p)\n",
    "    selected = [p]\n",
    "    current_score = best_new_score = 0.0\n",
    "    while remaining and len(selected)<=k :\n",
    "        score_candidates = []\n",
    "        for candidate in remaining:\n",
    "            model = lm.LinearRegression(fit_intercept=False)\n",
    "            indexes = selected + [candidate]\n",
    "            x_train = x[:,indexes]\n",
    "            predictions_train = model.fit(x_train, y).predict(x_train)\n",
    "            residuals_train = predictions_train - y\n",
    "            mse_candidate = np.mean(np.power(residuals_train, 2))\n",
    "            score_candidates.append((mse_candidate, candidate))\n",
    "        score_candidates.sort()\n",
    "        score_candidates[:] = score_candidates[::-1]\n",
    "        best_new_score, best_candidate = score_candidates.pop()\n",
    "        remaining.remove(best_candidate)\n",
    "        selected.append(best_candidate)\n",
    "        print \"selected = %s ...\"%names_x[best_candidate]\n",
    "        print \"totalvars=%d, mse = %f\"%(len(indexes),best_new_score)\n",
    "    return selected\n",
    "names_regressors = X.columns[:-1] #without intercept\n",
    "fss(Xm,ym,names_regressors)"
   ]
  },
  {
   "cell_type": "code",
   "execution_count": null,
   "metadata": {},
   "outputs": [],
   "source": [
    "#Error_Abs\n",
    "def fss_abs(x, y, names_x, k = 10000):\n",
    "    p = x.shape[1]-1\n",
    "    k = min(p, k)\n",
    "    names_x = np.array(names_x)\n",
    "    remaining = range(0, p)\n",
    "    selected = [p]\n",
    "    current_score = best_new_score = 0.0\n",
    "    while remaining and len(selected)<=k :\n",
    "        score_candidates = []\n",
    "        for candidate in remaining:\n",
    "            model = lm.LinearRegression(fit_intercept=False)\n",
    "            indexes = selected + [candidate]\n",
    "            x_train = x[:,indexes]\n",
    "            predictions_train = model.fit(x_train, y).predict(x_train)\n",
    "            residuals_train = predictions_train - y\n",
    "            mse_candidate = np.mean(np.fabs(residuals_train))\n",
    "            score_candidates.append((mse_candidate, candidate))\n",
    "        score_candidates.sort()\n",
    "        score_candidates[:] = score_candidates[::-1]\n",
    "        best_new_score, best_candidate = score_candidates.pop()\n",
    "        remaining.remove(best_candidate)\n",
    "        selected.append(best_candidate)\n",
    "        print \"selected = %s ...\"%names_x[best_candidate]\n",
    "        print \"totalvars=%d, mse = %f\"%(len(indexes),best_new_score)\n",
    "    return selected\n",
    "names_regressors = X.columns[:-1] #without intercept\n",
    "fss_abs(Xm,ym,names_regressors)"
   ]
  },
  {
   "cell_type": "code",
   "execution_count": null,
   "metadata": {},
   "outputs": [],
   "source": [
    "def fss_zscore(x, y, names_x, k = 10000):\n",
    "    p = x.shape[1]-1\n",
    "    k = min(p, k)\n",
    "    names_x = np.array(names_x)\n",
    "    remaining = range(0, p)\n",
    "    selected = [p]\n",
    "    current_score = best_new_score = 0.0\n",
    "    while remaining and len(selected)<=k :\n",
    "        score_candidates = []\n",
    "        for candidate in remaining:\n",
    "            model = lm.LinearRegression(fit_intercept=False)\n",
    "            indexes = selected + [candidate]\n",
    "            x_train = x[:,indexes]\n",
    "        \n",
    "            # Cambio\n",
    "            st_error = getStandardRegressionError(model,x_train,y)\n",
    "            cantidad_variables = (len(selected)+1)\n",
    "            zscore_candidate = abs(getZscore(modelo,st_error,cantidad_variables))[-1]\n",
    "            predictions_train = model.fit(x_train,y).predict(x_train)\n",
    "            residuals_train = predictions_train - y\n",
    "            zscore_train_residual = np.mean(np.power(residuals_train,2))            \n",
    "            score_candidates.append((zscore_candidate,candidate))\n",
    "            \n",
    "        score_candidates.sort()\n",
    "        score_candidates[:] = score_candidates[::-1]\n",
    "        best_new_score, best_candidate = score_candidates.pop()\n",
    "        remaining.remove(best_candidate)\n",
    "        selected.append(best_candidate)\n",
    "        print \"selected = %s ...\"%names_x[best_candidate]\n",
    "        print \"totalvars=%d, mse = %f\"%(len(indexes),best_new_score)\n",
    "    return selected\n",
    "names_regressors = X.columns[:-1] #without intercept\n",
    "fss_zscore(Xm,ym,names_regressors)"
   ]
  },
  {
   "cell_type": "code",
   "execution_count": null,
   "metadata": {},
   "outputs": [],
   "source": [
    "def fss_mse( x , y , xtest, ytest, names_x, k = 10000):\n",
    "   p = x.shape[1] - 1\n",
    "   k = min(p,k)\n",
    "   names_x = np.array(names_x)\n",
    "   remaining = range(1,p+1)\n",
    "   training_error = []\n",
    "   test_error = []\n",
    "   selected = [0]\n",
    "   current_score = 0.0\n",
    "   best_new_score = 0.0\n",
    "\n",
    "   while remaining and len(selected) <= k :\n",
    "      score_candidates = []\n",
    "      for candidate in remaining:\n",
    "         model = lm.LinearRegression(fit_intercept = False)\n",
    "         indexes = selected + [candidate]\n",
    "\n",
    "         x_train = x[:,indexes]\n",
    "         x_test = xtest[:,indexes]\n",
    "\n",
    "         predictions_train = model.fit(x_train,y).predict(x_train)\n",
    "         residuals_train = predictions_train - y\n",
    "\n",
    "         predictions_test = model.fit(x_train,y).predict(x_test)\n",
    "         residuals_test= predictions_test - ytest\n",
    "         mse_train_candidate = np.mean(np.power(residuals_train,2))\n",
    "         mse_test_candidate = np.mean(np.power(residuals_test,2))\n",
    "         score_candidates.append((mse_train_candidate, mse_test_candidate ,candidate))\n",
    "\n",
    "      score_candidates.sort()\n",
    "      score_candidates[:] = score_candidates[::-1]\n",
    "      best_new_score , test_score, best_candidate = score_candidates.pop()\n",
    "      training_error.append(best_new_score)\n",
    "      test_error.append(test_score)\n",
    "      remaining.remove(best_candidate)\n",
    "      selected.append(best_candidate)\n",
    "      print  \"selected = %s ...\" %names_x[best_candidate-1]\n",
    "      print  \"totalvars = %d, mae = %f \" %(len(indexes), best_new_score)\n",
    "   return selected , training_error, test_error\n",
    "\n",
    "#\n",
    "#Forward Step-Wise Selection with Mean Absolute Error\n",
    "#\n",
    "def fss_mae( x , y , xtest, ytest, names_x, k = 10000):\n",
    "   p = x.shape[1] - 1\n",
    "   k = min(p,k)\n",
    "   names_x = np.array(names_x)\n",
    "   remaining = range(1,p+1)\n",
    "   training_error = []\n",
    "   test_error = []\n",
    "   selected = [0]\n",
    "   current_score = 0.0\n",
    "   best_new_score = 0.0\n",
    "\n",
    "   while remaining and len(selected) <= k :\n",
    "      score_candidates = []\n",
    "      for candidate in remaining:\n",
    "         model = lm.LinearRegression(fit_intercept = False) \n",
    "         indexes = selected + [candidate]\n",
    "         x_train = x[:,indexes]\n",
    "         x_test = xtest[:,indexes]\n",
    "\n",
    "         predictions_train = model.fit(x_train,y).predict(x_train)\n",
    "         residuals_train = np.fabs(predictions_train - y)\n",
    "\n",
    "         predictions_test = model.fit(x_train,y).predict(x_test)\n",
    "         residuals_test = np.fabs(predictions_test - ytest)\n",
    "\n",
    "         mae_training_candidate = np.mean(residuals_train)\n",
    "         mae_test_candidate = np.mean(residuals_test)\n",
    "         score_candidates.append((mae_training_candidate,mae_test_candidate , candidate))\n",
    "\n",
    "      score_candidates.sort()\n",
    "      score_candidates[:] = score_candidates[::-1]\n",
    "      best_new_score , test_score ,best_candidate = score_candidates.pop()\n",
    "      training_error.append(best_new_score)\n",
    "      test_error.append(test_score)\n",
    "      remaining.remove(best_candidate)\n",
    "      selected.append(best_candidate)\n",
    "      print  \"selected = %s ...\" %names_x[best_candidate-1]\n",
    "      print  \"totalvars = %d, mse = %f \" %(len(indexes), best_new_score)\n",
    "   return selected , training_error, test_error\n",
    "#\n",
    "#Forward Step-Wise Selection with Z-score\n",
    "#\n",
    "def fss_zscore( x , y , xtest, ytest, names_x, k = 10000):\n",
    "   p = x.shape[1] - 1\n",
    "   k = min(p,k)\n",
    "   names_x = np.array(names_x)\n",
    "   remaining = range(1,p+1)\n",
    "   selected = [0]\n",
    "   training_error = []\n",
    "   test_error = []\n",
    "   current_score = 0.0\n",
    "   best_new_score = 0.0\n",
    "\n",
    "   while remaining and len(selected) <= k :\n",
    "      score_candidates = []\n",
    "      for candidate in remaining:\n",
    "         model = lm.LinearRegression(fit_intercept = False)\n",
    "         indexes = selected + [candidate]\n",
    "         \n",
    "         x_train = x[:,indexes]\n",
    "         x_test = xtest[:,indexes]\n",
    "         \n",
    "         linreg = model.fit(x_train,y)\n",
    "         std_reg = getStandardRegressionError(linreg, x_train , y )\n",
    "         \n",
    "         zscore_candidate = abs(getZscore(linreg,std_reg,len(selected)+1)[-1])\n",
    "\n",
    "         predictions_train = model.fit(x_train,y).predict(x_train)\n",
    "         residuals_train = predictions_train - y\n",
    "\n",
    "         predictions_test = model.fit(x_train,y).predict(x_test)\n",
    "         residuals_test = predictions_test - ytest\n",
    "\n",
    "         zscore_train_residual = np.mean(np.power(residuals_train,2))\n",
    "         zscore_test_residual = np.mean(np.power(residuals_test,2))\n",
    "   \n",
    "         score_candidates.append((zscore_candidate,zscore_train_residual,zscore_test_residual ,candidate))\n",
    "\n",
    "      score_candidates.sort()\n",
    "      best_new_score , train_residual, test_residual, best_candidate = score_candidates.pop()\n",
    "      training_error.append(train_residual)\n",
    "      test_error.append(test_residual)\n",
    "      remaining.remove(best_candidate)\n",
    "\n",
    "      selected.append(best_candidate)\n",
    "      print  \"selected = %s ...\" %names_x[best_candidate-1]\n",
    "      print  \"totalvars = %d, zscore = %f \" %(len(indexes), best_new_score)\n",
    "   return selected , training_error, test_error\n",
    "\n",
    "def plotFSS(train_error,test_error, method):\n",
    "    p = range(1,18)\n",
    "    plt.plot(p,train_error, color=\"green\", linewidth=3, label = \"Training Set\")\n",
    "    plt.plot(p,test_error, color=\"red\",linewidth=3, label = \"Testing set\")\n",
    "    plt.legend()\n",
    "    axes = plt.gca()\n",
    "    if method == \"mse\":\n",
    "        plt.xlabel('Numero de variables')\n",
    "        plt.ylabel('Error MSE')\n",
    "        plt.title('FFS MSE ')\n",
    "        #axes.set_ylim([0.3,0.8])\n",
    "    \n",
    "    if method == \"mae\":\n",
    "        plt.xlabel('Numero de variables')\n",
    "        plt.ylabel('FFS MAE')\n",
    "        plt.title('FFS MAE')\n",
    "        #axes.set_ylim([0.4,0.7])\n",
    "        \n",
    "    if method == \"zscore\":\n",
    "        plt.xlabel('Numero de variables')\n",
    "        plt.ylabel('FFS Z-score')\n",
    "        plt.title('FFS Zscore')\n",
    "        axes.set_xlim([0,8])\n",
    "    plt.show()\n",
    "\n",
    "selected_mse , train_error_mse , test_error_mse  = fss_mse( Xtrain.as_matrix() ,ytrain.as_matrix() , Xtest.as_matrix() ,ytest.as_matrix() ,names_regressors )\n",
    "\n",
    "selected_mae , train_error_mae, test_error_mae = fss_mae( Xtrain.as_matrix() ,ytrain.as_matrix() , Xtest.as_matrix() ,ytest.as_matrix() ,names_regressors )\n",
    "\n",
    "selected_z , train_error_z, test_error_z = fss_zscore( Xtrain.as_matrix() ,ytrain.as_matrix() , Xtest.as_matrix() ,ytest.as_matrix() ,names_regressors )\n",
    "\n",
    "plotFSS(train_error_mse , test_error_mse, \"mse\")\n",
    "plotFSS(train_error_mae , test_error_mae, \"mae\")\n",
    "plotFSS(train_error_z , test_error_z, \"zscore\")"
   ]
  },
  {
   "cell_type": "markdown",
   "metadata": {},
   "source": [
    "# Parte 3"
   ]
  },
  {
   "cell_type": "markdown",
   "metadata": {},
   "source": [
    "Ridge Regression reduce los coeficientes de regresión con una variable $\\lambda$ ,imponiendo un penalty al valor de cada coeficiente, mientras mas grande sea $\\lambda$ , mayor será la reducción, por lo que hay buscar un valor de $\\lambda$ eficiente, dado que si $\\lambda$ es muy grande, el modelo puede sufrir <strong>underfitting</strong> o un bias elevado, mientras que un $\\lambda$ demasiado bajo, puede no afectar al modelo en absoluto y no observar cambios en el <strong>overffiting</strong>.\n",
    "<br>\n",
    "<br>\n",
    "Para aplicar Ridge Regressión es necesario que los datos estén estandarizados y eliminar el intercepto en la penalización, dado que si se penaliza el intercepto, se generará un procedimiento dependiente del origen del eje $Y$"
   ]
  },
  {
   "cell_type": "code",
   "execution_count": null,
   "metadata": {},
   "outputs": [],
   "source": [
    "from sklearn.linear_model import Ridge\n",
    "import matplotlib.pylab as plt\n",
    "X2 = X.drop('intercept', axis=1,inplace=False)\n",
    "Xtrain = X2[istrain]\n",
    "ytrain = y[istrain]\n",
    "names_regressors = X2.columns\n",
    "alphas_ = np.logspace(7,1,base=10)\n",
    "coefs = []\n",
    "model = Ridge(fit_intercept=True,solver='svd')\n",
    "for a in alphas_:\n",
    "    model.set_params(alpha=a)\n",
    "    model.fit(Xtrain, ytrain)\n",
    "    coefs.append(model.coef_)\n",
    "    ax = plt.gca()\n",
    "for y_arr, label in zip(np.squeeze(coefs).T, names_regressors):\n",
    "    plt.plot(alphas_, y_arr, label=label)\n",
    "plt.legend()\n",
    "ax.set_xscale('log')\n",
    "ax.set_xlim(ax.get_xlim()[::-1]) # reverse axis\n",
    "plt.title('Regularization Path RIDGE')\n",
    "plt.axis('tight')\n",
    "plt.legend(loc=2)\n",
    "plt.show()"
   ]
  },
  {
   "cell_type": "code",
   "execution_count": null,
   "metadata": {},
   "outputs": [],
   "source": [
    "from sklearn.linear_model import Lasso\n",
    "import matplotlib.pylab as plt\n",
    "X2 = X.drop('intercept', axis=1,inplace=False)\n",
    "Xtrain = X2[istrain]\n",
    "ytrain = y[istrain]\n",
    "names_regressors = X2.columns\n",
    "alphas_ = np.logspace(0,-3,base=10)\n",
    "coefs = []\n",
    "model = Lasso(fit_intercept=True)\n",
    "for a in alphas_:\n",
    "    model.set_params(alpha=a)\n",
    "    model.fit(Xtrain, ytrain)\n",
    "    coefs.append(model.coef_)\n",
    "    ax = plt.gca()\n",
    "for y_arr, label in zip(np.squeeze(coefs).T, names_regressors):\n",
    "    plt.plot(alphas_, y_arr)\n",
    "plt.legend()\n",
    "ax.set_xscale('log')\n",
    "ax.set_xlim(ax.get_xlim()[::-1]) # reverse axis\n",
    "plt.title('Regularization Path LASSO')\n",
    "plt.axis('tight')\n",
    "plt.legend(loc=2)\n",
    "plt.show()"
   ]
  },
  {
   "cell_type": "code",
   "execution_count": null,
   "metadata": {},
   "outputs": [],
   "source": [
    "Xtest = X2[np.logical_not(istrain)]\n",
    "ytest = y[np.logical_not(istrain)]\n",
    "alphas_ = np.logspace(7,1,base=10)\n",
    "coefs = []\n",
    "model = Ridge(fit_intercept=True,solver='svd')\n",
    "mse_test = []\n",
    "mse_train = []\n",
    "for a in alphas_:\n",
    "    model.set_params(alpha=a)\n",
    "    model.fit(Xtrain, ytrain)\n",
    "    yhat_train = model.predict(Xtrain)\n",
    "    yhat_test = model.predict(Xtest)\n",
    "    mse_train.append(np.mean(np.power(yhat_train - ytrain, 2)))\n",
    "    mse_test.append(np.mean(np.power(yhat_test - ytest, 2)))\n",
    "ax = plt.gca()\n",
    "ax.plot(alphas_,mse_train,label='train error ridge')\n",
    "ax.plot(alphas_,mse_test,label='test error ridge')\n",
    "plt.legend(loc=1)\n",
    "plt.title('Regularization Path RIDGE')\n",
    "ax.set_xscale('log')\n",
    "ax.set_xlim(ax.get_xlim()[::-1])\n",
    "plt.show()\n",
    "\n",
    "\n",
    "# LASSO\n",
    "Xtest = X2[np.logical_not(istrain)]\n",
    "ytest = y[np.logical_not(istrain)]\n",
    "alphas_ = np.logspace(0,-3,base=10)\n",
    "coefs = []\n",
    "model = Lasso(fit_intercept=True)\n",
    "mse_test = []\n",
    "mse_train = []\n",
    "for a in alphas_:\n",
    "    model.set_params(alpha=a)\n",
    "    model.fit(Xtrain, ytrain)\n",
    "    yhat_train = model.predict(Xtrain)\n",
    "    yhat_test = model.predict(Xtest)\n",
    "    mse_train.append(np.mean(np.power(yhat_train - ytrain, 2)))\n",
    "    mse_test.append(np.mean(np.power(yhat_test - ytest, 2)))\n",
    "ax = plt.gca()\n",
    "ax.plot(alphas_,mse_train,label='train error lasso')\n",
    "ax.plot(alphas_,mse_test,label='test error lasso')\n",
    "plt.legend(loc=1)\n",
    "plt.title('Regularization Path LASSO')\n",
    "ax.set_xscale('log')\n",
    "ax.set_xlim(ax.get_xlim()[::-1])\n",
    "plt.show()\n"
   ]
  },
  {
   "cell_type": "markdown",
   "metadata": {},
   "source": [
    "### d) Estimación parámetro de regularización"
   ]
  },
  {
   "cell_type": "code",
   "execution_count": null,
   "metadata": {},
   "outputs": [],
   "source": [
    "def MSE(y,yhat): return np.mean(np.power(y-yhat,2))\n",
    "Xm = Xtrain.as_matrix()\n",
    "ym = ytrain.as_matrix()\n",
    "from sklearn.model_selection import KFold\n",
    "kf = KFold(n_splits=10)\n",
    "best_cv_mse = float(\"inf\")\n",
    "model = Ridge(fit_intercept=True,solver='svd')\n",
    "alphas_ = np.logspace(7,1,base=10)\n",
    "#print(largo)\n",
    "#print(alphas_)\n",
    "for a in alphas_:\n",
    "    model.set_params(alpha=a)\n",
    "    mse_list_k10 = [MSE(model.fit(Xm[train], ym[train]).predict(Xm[val]), ym[val]) \\\n",
    "        for train, val in kf.split(Xm)]\n",
    "    if np.mean(mse_list_k10) < best_cv_mse:\n",
    "        best_cv_mse = np.mean(mse_list_k10)\n",
    "        best_alpha = a\n",
    "\n",
    "print \"BEST PARAMETER=%f, MSE(CV)=%f\"%(best_alpha,best_cv_mse)"
   ]
  },
  {
   "cell_type": "markdown",
   "metadata": {},
   "source": [
    "# Parte 4"
   ]
  },
  {
   "cell_type": "code",
   "execution_count": null,
   "metadata": {
    "collapsed": true
   },
   "outputs": [],
   "source": [
    "df_A = df_scaled.sample(1000,random_state=11)\n",
    "frames = []\n",
    "valor = df_scaled.price\n",
    "length = 0.3\n",
    "for z in np.arange(int(np.min(valor)),int(np.max(valor))+1,length):\n",
    "    #un maximo de 100 datos por intervalo\n",
    "    aux = df_scaled[(df_scaled.price >= z) & (df_scaled.price < z+length)].head(100)\n",
    "    frames.append(aux)\n",
    "df_B = pd.concat(frames).sample(1000,random_state=11) #crea el dataframe"
   ]
  },
  {
   "cell_type": "markdown",
   "metadata": {},
   "source": [
    "## a) "
   ]
  },
  {
   "cell_type": "markdown",
   "metadata": {},
   "source": [
    "En esta secci\u0013on se presentar\u0013an dos muestras del dataframe utilizado en la actividades anteriores, donde cada\n",
    "una de estas tiene una propiedad distinta ya que son muestreadas en funci\u0013on del valor a predecir (logaritmo\n",
    "del precio de la casa). Por una parte se tiene una peque~na muestra A, la cual es extra\u0013\u0010da directamente de\n",
    "los datos con los que se trabaja (manteniendo la distribuci\u0013on de esta) y la muestra B, es generada con el\n",
    "prop\u0013osito de que en cada intervalo del rango de valores haya la misma cantidad de datos aproximadamente\n",
    "(simulando una distribuci\u0013on uniforme). El objetivo es familiarizarse con el concepto de Transfer Learning[2]"
   ]
  },
  {
   "cell_type": "code",
   "execution_count": null,
   "metadata": {
    "collapsed": true
   },
   "outputs": [],
   "source": [
    "X_A = df_A.iloc[:,1:].values\n",
    "y_A = df_A.price\n",
    "X_B = df_B.iloc[:,1:].values\n",
    "y_B = df_B.price\n",
    "from sklearn.model_selection import train_test_split\n",
    "Xtrain_A,Xval_A,ytrain_A,yval_A = train_test_split(X_A, y_A, test_size=0.3, random_state=42)\n",
    "Xtrain_B,Xval_B,ytrain_B,yval_B = train_test_split(X_B, y_B, test_size=0.3, random_state=42)"
   ]
  },
  {
   "cell_type": "markdown",
   "metadata": {},
   "source": [
    "## b)"
   ]
  },
  {
   "cell_type": "markdown",
   "metadata": {},
   "source": [
    "Eval\u0013ue los dos modelo de regresi\u0013on lineal que se generan al entrenar con cada muestra. Mida el error\n",
    "de cada modelo sobre ambos conjuntos de validaci\u0013on (A y B). Explique lo que observa."
   ]
  },
  {
   "cell_type": "code",
   "execution_count": null,
   "metadata": {},
   "outputs": [],
   "source": [
    "linreg = lm.LinearRegression(fit_intercept = True)\n",
    "\n",
    "modelo_A = linreg.fit(Xtrain_A, ytrain_A)\n",
    "yhat_val = linreg.predict(Xval_A)\n",
    "val_errorA = np.mean(np.power(yhat_val - yval_A, 2))\n",
    "print \"Error de validación conjunto A:\",val_errorA\n",
    "\n",
    "modelo_B = linreg.fit(Xtrain_B, ytrain_B)\n",
    "yhat_val = linreg.predict(Xval_B)\n",
    "val_errorB = np.mean(np.power(yhat_val - yval_B, 2))\n",
    "print \"Error de validación conjunto B:\",val_errorB\n"
   ]
  },
  {
   "cell_type": "markdown",
   "metadata": {},
   "source": [
    "## c)"
   ]
  },
  {
   "cell_type": "markdown",
   "metadata": {},
   "source": [
    "Eligiriamos el modelo A, dado que que experimentalmente el error de validación del conjunto A es menor que el del conjunto B, lo que implica que a con nueva data, la predicción del modelo A será más cercana que la del modelo B. Distribución normal de datos..."
   ]
  },
  {
   "cell_type": "markdown",
   "metadata": {},
   "source": [
    "# Parte 5"
   ]
  },
  {
   "cell_type": "code",
   "execution_count": null,
   "metadata": {
    "collapsed": true
   },
   "outputs": [],
   "source": [
    "En el \u0013area de la salud, diagnosticar a una persona de una enfermedad de forma r\u0013apida y correcta puede llegar\n",
    "a salvarle la vida. Los encargados de realizar estos diagn\u0013osticos, son m\u0013edicos que, observando ex\u0013amenes y\n",
    "ciertos indicadores, pueden concluir qu\u0013e enfermedad presenta el paciente. Si \u0013el medico se llegase a equivocar,\n",
    "aparte de que el paciente pueda perder la vida, el medico podr\u0013\u0010a ser demandado por negligencia arriesgando\n",
    "a~nos de c\u0013arcel o pagar sumas de dinero considerable, es por estas razones que es importante no cometer\n",
    "errores.\n",
    "Pong\u0013amonos en el contexto de que usted es contratado para generar un modelo que prediga si es que un\n",
    "paciente presenta una enfermedad cardiaca a partir de ciertos indicadores, tales como la edad, sexo, presi\u0013on"
   ]
  }
 ],
 "metadata": {
  "kernelspec": {
   "display_name": "Python 2",
   "language": "python",
   "name": "python2"
  },
  "language_info": {
   "codemirror_mode": {
    "name": "ipython",
    "version": 2
   },
   "file_extension": ".py",
   "mimetype": "text/x-python",
   "name": "python",
   "nbconvert_exporter": "python",
   "pygments_lexer": "ipython2",
   "version": "2.7.13"
  }
 },
 "nbformat": 4,
 "nbformat_minor": 2
}
