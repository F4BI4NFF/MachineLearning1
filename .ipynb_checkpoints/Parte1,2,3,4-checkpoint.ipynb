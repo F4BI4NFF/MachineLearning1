{
 "cells": [
  {
   "cell_type": "markdown",
   "metadata": {},
   "source": [
    "# Parte 1\n",
    "\n",
    "### Integrantes: Fernanda Weiss y Fabián Fernández"
   ]
  },
  {
   "cell_type": "markdown",
   "metadata": {},
   "source": [
    "En el presente se trabajará con el dataset *House Sales in King County, USA* el cuál se utilizará en el presente trabajo para evaluar modelos simples de regresión líneal. El dataset nos entrega información sobre distintas características asociadas a las ventas de casas en la localidad King County, en el rango de un año (entre mayo de 2014 y mayo de 2015), como la cantidad de habitaciones, cantidad de baños, número de pisos, etc."
   ]
  },
  {
   "cell_type": "markdown",
   "metadata": {},
   "source": [
    "### a) Construcción de dataset"
   ]
  },
  {
   "cell_type": "markdown",
   "metadata": {},
   "source": [
    "[//]: <> (a. Construya un dataframe con los datos a analizar descargándolos desde la plataforma como se indic´o. Explique por qu´e se realiza la l´ınea 4.)\n",
    "\n",
    "Comenzaremos construyendo un dataframe con los datos descritos previamente. "
   ]
  },
  {
   "cell_type": "code",
   "execution_count": 39,
   "metadata": {
    "scrolled": false
   },
   "outputs": [
    {
     "data": {
      "text/html": [
       "<div>\n",
       "<style>\n",
       "    .dataframe thead tr:only-child th {\n",
       "        text-align: right;\n",
       "    }\n",
       "\n",
       "    .dataframe thead th {\n",
       "        text-align: left;\n",
       "    }\n",
       "\n",
       "    .dataframe tbody tr th {\n",
       "        vertical-align: top;\n",
       "    }\n",
       "</style>\n",
       "<table border=\"1\" class=\"dataframe\">\n",
       "  <thead>\n",
       "    <tr style=\"text-align: right;\">\n",
       "      <th></th>\n",
       "      <th>price</th>\n",
       "      <th>bedrooms</th>\n",
       "      <th>bathrooms</th>\n",
       "      <th>sqft_living</th>\n",
       "      <th>sqft_lot</th>\n",
       "      <th>floors</th>\n",
       "      <th>waterfront</th>\n",
       "      <th>view</th>\n",
       "      <th>condition</th>\n",
       "      <th>grade</th>\n",
       "      <th>sqft_above</th>\n",
       "      <th>sqft_basement</th>\n",
       "      <th>yr_built</th>\n",
       "      <th>yr_renovated</th>\n",
       "      <th>lat</th>\n",
       "      <th>long</th>\n",
       "      <th>sqft_living15</th>\n",
       "      <th>sqft_lot15</th>\n",
       "    </tr>\n",
       "  </thead>\n",
       "  <tbody>\n",
       "    <tr>\n",
       "      <th>0</th>\n",
       "      <td>221900.0</td>\n",
       "      <td>3</td>\n",
       "      <td>1.00</td>\n",
       "      <td>1180</td>\n",
       "      <td>5650</td>\n",
       "      <td>1.0</td>\n",
       "      <td>0</td>\n",
       "      <td>0</td>\n",
       "      <td>3</td>\n",
       "      <td>7</td>\n",
       "      <td>1180</td>\n",
       "      <td>0</td>\n",
       "      <td>1955</td>\n",
       "      <td>0</td>\n",
       "      <td>47.5112</td>\n",
       "      <td>-122.257</td>\n",
       "      <td>1340</td>\n",
       "      <td>5650</td>\n",
       "    </tr>\n",
       "    <tr>\n",
       "      <th>1</th>\n",
       "      <td>538000.0</td>\n",
       "      <td>3</td>\n",
       "      <td>2.25</td>\n",
       "      <td>2570</td>\n",
       "      <td>7242</td>\n",
       "      <td>2.0</td>\n",
       "      <td>0</td>\n",
       "      <td>0</td>\n",
       "      <td>3</td>\n",
       "      <td>7</td>\n",
       "      <td>2170</td>\n",
       "      <td>400</td>\n",
       "      <td>1951</td>\n",
       "      <td>1991</td>\n",
       "      <td>47.7210</td>\n",
       "      <td>-122.319</td>\n",
       "      <td>1690</td>\n",
       "      <td>7639</td>\n",
       "    </tr>\n",
       "    <tr>\n",
       "      <th>2</th>\n",
       "      <td>180000.0</td>\n",
       "      <td>2</td>\n",
       "      <td>1.00</td>\n",
       "      <td>770</td>\n",
       "      <td>10000</td>\n",
       "      <td>1.0</td>\n",
       "      <td>0</td>\n",
       "      <td>0</td>\n",
       "      <td>3</td>\n",
       "      <td>6</td>\n",
       "      <td>770</td>\n",
       "      <td>0</td>\n",
       "      <td>1933</td>\n",
       "      <td>0</td>\n",
       "      <td>47.7379</td>\n",
       "      <td>-122.233</td>\n",
       "      <td>2720</td>\n",
       "      <td>8062</td>\n",
       "    </tr>\n",
       "    <tr>\n",
       "      <th>3</th>\n",
       "      <td>604000.0</td>\n",
       "      <td>4</td>\n",
       "      <td>3.00</td>\n",
       "      <td>1960</td>\n",
       "      <td>5000</td>\n",
       "      <td>1.0</td>\n",
       "      <td>0</td>\n",
       "      <td>0</td>\n",
       "      <td>5</td>\n",
       "      <td>7</td>\n",
       "      <td>1050</td>\n",
       "      <td>910</td>\n",
       "      <td>1965</td>\n",
       "      <td>0</td>\n",
       "      <td>47.5208</td>\n",
       "      <td>-122.393</td>\n",
       "      <td>1360</td>\n",
       "      <td>5000</td>\n",
       "    </tr>\n",
       "    <tr>\n",
       "      <th>4</th>\n",
       "      <td>510000.0</td>\n",
       "      <td>3</td>\n",
       "      <td>2.00</td>\n",
       "      <td>1680</td>\n",
       "      <td>8080</td>\n",
       "      <td>1.0</td>\n",
       "      <td>0</td>\n",
       "      <td>0</td>\n",
       "      <td>3</td>\n",
       "      <td>8</td>\n",
       "      <td>1680</td>\n",
       "      <td>0</td>\n",
       "      <td>1987</td>\n",
       "      <td>0</td>\n",
       "      <td>47.6168</td>\n",
       "      <td>-122.045</td>\n",
       "      <td>1800</td>\n",
       "      <td>7503</td>\n",
       "    </tr>\n",
       "  </tbody>\n",
       "</table>\n",
       "</div>"
      ],
      "text/plain": [
       "      price  bedrooms  bathrooms  sqft_living  sqft_lot  floors  waterfront  \\\n",
       "0  221900.0         3       1.00         1180      5650     1.0           0   \n",
       "1  538000.0         3       2.25         2570      7242     2.0           0   \n",
       "2  180000.0         2       1.00          770     10000     1.0           0   \n",
       "3  604000.0         4       3.00         1960      5000     1.0           0   \n",
       "4  510000.0         3       2.00         1680      8080     1.0           0   \n",
       "\n",
       "   view  condition  grade  sqft_above  sqft_basement  yr_built  yr_renovated  \\\n",
       "0     0          3      7        1180              0      1955             0   \n",
       "1     0          3      7        2170            400      1951          1991   \n",
       "2     0          3      6         770              0      1933             0   \n",
       "3     0          5      7        1050            910      1965             0   \n",
       "4     0          3      8        1680              0      1987             0   \n",
       "\n",
       "       lat     long  sqft_living15  sqft_lot15  \n",
       "0  47.5112 -122.257           1340        5650  \n",
       "1  47.7210 -122.319           1690        7639  \n",
       "2  47.7379 -122.233           2720        8062  \n",
       "3  47.5208 -122.393           1360        5000  \n",
       "4  47.6168 -122.045           1800        7503  "
      ]
     },
     "execution_count": 39,
     "metadata": {},
     "output_type": "execute_result"
    }
   ],
   "source": [
    "import pandas as pd\n",
    "import numpy as np\n",
    "df = pd.read_csv(\"kc_house_data.csv\")\n",
    "df.drop(['id','date','zipcode',],axis=1,inplace=True)\n",
    "df.head()"
   ]
  },
  {
   "cell_type": "markdown",
   "metadata": {},
   "source": [
    "Es importante notar que al construir el dataframe se realiza una modificación a los datos originales en la línea 4, la que realiza lo siguiente:\n",
    "\n",
    "* Se eliminan las columnas que no agregan valor al análisis que se realizará, estas columnas son el *identificador (id), fecha (date) y cógido zip* (zipcode), esto es, no será posible realizar una estimación del precio con estas variables.\n",
    "\n",
    "\n",
    "\n",
    "* Mediante la opción *axis=1* se especifica el eje a través del cual se hará la acción, es decir en fila o columna. Por defecto se tiene *axis=0* que indica que se realice por fila, al indicar *axis=1* se indica que se realice por columna.\n",
    "[//]: <> (It specifies the axis along which the means are computed. By default axis=0. This is consistent with the numpy.mean usage when axis is specified explicitly -in numpy.mean, axis==None by default, which computes the mean  value over the flattened array , in which axis=0 along the rows -namely, index in pandas, and axis=1 along the columns. https://stackoverflow.com/questions/22149584/what-does-axis-in-pandas-mean Note: axis=1 denotes that we are referring to a column, not a row )\n",
    "* Mediante la opción *inplace* se indica que la modificación se realice directamente en el dataframe, sin tener que reasignarlo.\n",
    "[//]: <> (https://stackoverflow.com/questions/13411544/delete-column-from-pandas-dataframe-using-python-del)"
   ]
  },
  {
   "cell_type": "markdown",
   "metadata": {},
   "source": [
    "### b) Descripción de dataset"
   ]
  },
  {
   "cell_type": "markdown",
   "metadata": {},
   "source": [
    "[//]: <> (b. Describa brevemente el dataset a utilizar.)\n",
    "Luego se describe brevemente el dataset a utilizar."
   ]
  },
  {
   "cell_type": "code",
   "execution_count": 40,
   "metadata": {
    "scrolled": true
   },
   "outputs": [
    {
     "name": "stdout",
     "output_type": "stream",
     "text": [
      "info\n",
      "<class 'pandas.core.frame.DataFrame'>\n",
      "RangeIndex: 21613 entries, 0 to 21612\n",
      "Data columns (total 18 columns):\n",
      "price            21613 non-null float64\n",
      "bedrooms         21613 non-null int64\n",
      "bathrooms        21613 non-null float64\n",
      "sqft_living      21613 non-null int64\n",
      "sqft_lot         21613 non-null int64\n",
      "floors           21613 non-null float64\n",
      "waterfront       21613 non-null int64\n",
      "view             21613 non-null int64\n",
      "condition        21613 non-null int64\n",
      "grade            21613 non-null int64\n",
      "sqft_above       21613 non-null int64\n",
      "sqft_basement    21613 non-null int64\n",
      "yr_built         21613 non-null int64\n",
      "yr_renovated     21613 non-null int64\n",
      "lat              21613 non-null float64\n",
      "long             21613 non-null float64\n",
      "sqft_living15    21613 non-null int64\n",
      "sqft_lot15       21613 non-null int64\n",
      "dtypes: float64(5), int64(13)\n",
      "memory usage: 3.0 MB\n"
     ]
    }
   ],
   "source": [
    "\n",
    "#Return a tuple representing the dimensionality of the DataFrame\n",
    "print \"info\"\n",
    "df.info()\n"
   ]
  },
  {
   "cell_type": "markdown",
   "metadata": {},
   "source": [
    "Con df.info() es posible ver la información asociada a cada columna, la cantidad de datos, si tiene algún dato nulo, y el tipo de dato. Los atributos para predecir el valor de una casa están especificados como:\n",
    "\n",
    "<ul>\n",
    "    <li><strong>price</strong> : Corresponda al precio de la casa, es la predicción objetivo del modelo. </li>\n",
    "    <li><strong>bedrooms</strong> : Número de dormitorios por casa. </li>\n",
    "    <li><strong>bathrooms</strong> : Número de baños por dormitorio.</li>\n",
    "    <li><strong>sqft_living</strong> : Pies cuadrados de la casa. </li>\n",
    "    <li><strong>sqft_lot</strong> : Pies de cuadrados del terreno. </li>\n",
    "    <li><strong>floors</strong> : Total de pisos en la casa. </li>\n",
    "    <li><strong>waterfront</strong> : Casa que tiene una vista al mar. </li>\n",
    "    <li><strong>view</strong> : Cantidad de veces que ha sido vista la casa. </li>\n",
    "    <li><strong>condition</strong> : Que tan buena es la condición de la casa. </li>\n",
    "    <li><strong>grade</strong> : Grado general dado a la unidad de vivienda, basado en el sistema de clasificación del condado        de King.  </li>\n",
    "    <li><strong>sqft_above</strong>: Pies cuadrados aparte del sótano. </li>\n",
    "    <li><strong>sqtf_basement</strong> : Pies cuadrados del sótano. </li>\n",
    "    <li><strong>yr_built</strong> : Año de construcción de la vivienda. </li>\n",
    "    <li><strong>yr_renovate</strong> : Año en que la casa fue renovada. </li>\n",
    "    <li><strong>lat</strong> : Coordenada de latitud. </li>\n",
    "    <li><strong>long</strong> : Coordenada de longitud. </li>\n",
    "    <li><strong>sqft_living15</strong>: Área de la sala de estar en 2015 ( implica alguna renovación). Esto podría o no haber       afectado al área del terreno. </li>\n",
    "    <li><strong>sqft_lot15</strong> : Área del tamaño del terreno en 2015 ( implica alguna renovación).</li>\n",
    "</ul>\n"
   ]
  },
  {
   "cell_type": "code",
   "execution_count": 41,
   "metadata": {},
   "outputs": [
    {
     "name": "stdout",
     "output_type": "stream",
     "text": [
      "shape: (21613, 18)\n"
     ]
    }
   ],
   "source": [
    "print \"shape:\",df.shape"
   ]
  },
  {
   "cell_type": "markdown",
   "metadata": {},
   "source": [
    "El comando df.shape visualiza la dimensión del dataframe. La cual consiste en 21613 datos entre el conjunto de entrenamiento y de prueba. Cada dato contiene 18 atributos, los anteriormente descritos."
   ]
  },
  {
   "cell_type": "code",
   "execution_count": 42,
   "metadata": {},
   "outputs": [
    {
     "name": "stdout",
     "output_type": "stream",
     "text": [
      "Descripción\n"
     ]
    },
    {
     "data": {
      "text/html": [
       "<div>\n",
       "<style>\n",
       "    .dataframe thead tr:only-child th {\n",
       "        text-align: right;\n",
       "    }\n",
       "\n",
       "    .dataframe thead th {\n",
       "        text-align: left;\n",
       "    }\n",
       "\n",
       "    .dataframe tbody tr th {\n",
       "        vertical-align: top;\n",
       "    }\n",
       "</style>\n",
       "<table border=\"1\" class=\"dataframe\">\n",
       "  <thead>\n",
       "    <tr style=\"text-align: right;\">\n",
       "      <th></th>\n",
       "      <th>price</th>\n",
       "      <th>bedrooms</th>\n",
       "      <th>bathrooms</th>\n",
       "      <th>sqft_living</th>\n",
       "      <th>sqft_lot</th>\n",
       "      <th>floors</th>\n",
       "      <th>waterfront</th>\n",
       "      <th>view</th>\n",
       "      <th>condition</th>\n",
       "      <th>grade</th>\n",
       "      <th>sqft_above</th>\n",
       "      <th>sqft_basement</th>\n",
       "      <th>yr_built</th>\n",
       "      <th>yr_renovated</th>\n",
       "      <th>lat</th>\n",
       "      <th>long</th>\n",
       "      <th>sqft_living15</th>\n",
       "      <th>sqft_lot15</th>\n",
       "    </tr>\n",
       "  </thead>\n",
       "  <tbody>\n",
       "    <tr>\n",
       "      <th>count</th>\n",
       "      <td>2.161300e+04</td>\n",
       "      <td>21613.000000</td>\n",
       "      <td>21613.000000</td>\n",
       "      <td>21613.000000</td>\n",
       "      <td>2.161300e+04</td>\n",
       "      <td>21613.000000</td>\n",
       "      <td>21613.000000</td>\n",
       "      <td>21613.000000</td>\n",
       "      <td>21613.000000</td>\n",
       "      <td>21613.000000</td>\n",
       "      <td>21613.000000</td>\n",
       "      <td>21613.000000</td>\n",
       "      <td>21613.000000</td>\n",
       "      <td>21613.000000</td>\n",
       "      <td>21613.000000</td>\n",
       "      <td>21613.000000</td>\n",
       "      <td>21613.000000</td>\n",
       "      <td>21613.000000</td>\n",
       "    </tr>\n",
       "    <tr>\n",
       "      <th>mean</th>\n",
       "      <td>5.400881e+05</td>\n",
       "      <td>3.370842</td>\n",
       "      <td>2.114757</td>\n",
       "      <td>2079.899736</td>\n",
       "      <td>1.510697e+04</td>\n",
       "      <td>1.494309</td>\n",
       "      <td>0.007542</td>\n",
       "      <td>0.234303</td>\n",
       "      <td>3.409430</td>\n",
       "      <td>7.656873</td>\n",
       "      <td>1788.390691</td>\n",
       "      <td>291.509045</td>\n",
       "      <td>1971.005136</td>\n",
       "      <td>84.402258</td>\n",
       "      <td>47.560053</td>\n",
       "      <td>-122.213896</td>\n",
       "      <td>1986.552492</td>\n",
       "      <td>12768.455652</td>\n",
       "    </tr>\n",
       "    <tr>\n",
       "      <th>std</th>\n",
       "      <td>3.671272e+05</td>\n",
       "      <td>0.930062</td>\n",
       "      <td>0.770163</td>\n",
       "      <td>918.440897</td>\n",
       "      <td>4.142051e+04</td>\n",
       "      <td>0.539989</td>\n",
       "      <td>0.086517</td>\n",
       "      <td>0.766318</td>\n",
       "      <td>0.650743</td>\n",
       "      <td>1.175459</td>\n",
       "      <td>828.090978</td>\n",
       "      <td>442.575043</td>\n",
       "      <td>29.373411</td>\n",
       "      <td>401.679240</td>\n",
       "      <td>0.138564</td>\n",
       "      <td>0.140828</td>\n",
       "      <td>685.391304</td>\n",
       "      <td>27304.179631</td>\n",
       "    </tr>\n",
       "    <tr>\n",
       "      <th>min</th>\n",
       "      <td>7.500000e+04</td>\n",
       "      <td>0.000000</td>\n",
       "      <td>0.000000</td>\n",
       "      <td>290.000000</td>\n",
       "      <td>5.200000e+02</td>\n",
       "      <td>1.000000</td>\n",
       "      <td>0.000000</td>\n",
       "      <td>0.000000</td>\n",
       "      <td>1.000000</td>\n",
       "      <td>1.000000</td>\n",
       "      <td>290.000000</td>\n",
       "      <td>0.000000</td>\n",
       "      <td>1900.000000</td>\n",
       "      <td>0.000000</td>\n",
       "      <td>47.155900</td>\n",
       "      <td>-122.519000</td>\n",
       "      <td>399.000000</td>\n",
       "      <td>651.000000</td>\n",
       "    </tr>\n",
       "    <tr>\n",
       "      <th>25%</th>\n",
       "      <td>3.219500e+05</td>\n",
       "      <td>3.000000</td>\n",
       "      <td>1.750000</td>\n",
       "      <td>1427.000000</td>\n",
       "      <td>5.040000e+03</td>\n",
       "      <td>1.000000</td>\n",
       "      <td>0.000000</td>\n",
       "      <td>0.000000</td>\n",
       "      <td>3.000000</td>\n",
       "      <td>7.000000</td>\n",
       "      <td>1190.000000</td>\n",
       "      <td>0.000000</td>\n",
       "      <td>1951.000000</td>\n",
       "      <td>0.000000</td>\n",
       "      <td>47.471000</td>\n",
       "      <td>-122.328000</td>\n",
       "      <td>1490.000000</td>\n",
       "      <td>5100.000000</td>\n",
       "    </tr>\n",
       "    <tr>\n",
       "      <th>50%</th>\n",
       "      <td>4.500000e+05</td>\n",
       "      <td>3.000000</td>\n",
       "      <td>2.250000</td>\n",
       "      <td>1910.000000</td>\n",
       "      <td>7.618000e+03</td>\n",
       "      <td>1.500000</td>\n",
       "      <td>0.000000</td>\n",
       "      <td>0.000000</td>\n",
       "      <td>3.000000</td>\n",
       "      <td>7.000000</td>\n",
       "      <td>1560.000000</td>\n",
       "      <td>0.000000</td>\n",
       "      <td>1975.000000</td>\n",
       "      <td>0.000000</td>\n",
       "      <td>47.571800</td>\n",
       "      <td>-122.230000</td>\n",
       "      <td>1840.000000</td>\n",
       "      <td>7620.000000</td>\n",
       "    </tr>\n",
       "    <tr>\n",
       "      <th>75%</th>\n",
       "      <td>6.450000e+05</td>\n",
       "      <td>4.000000</td>\n",
       "      <td>2.500000</td>\n",
       "      <td>2550.000000</td>\n",
       "      <td>1.068800e+04</td>\n",
       "      <td>2.000000</td>\n",
       "      <td>0.000000</td>\n",
       "      <td>0.000000</td>\n",
       "      <td>4.000000</td>\n",
       "      <td>8.000000</td>\n",
       "      <td>2210.000000</td>\n",
       "      <td>560.000000</td>\n",
       "      <td>1997.000000</td>\n",
       "      <td>0.000000</td>\n",
       "      <td>47.678000</td>\n",
       "      <td>-122.125000</td>\n",
       "      <td>2360.000000</td>\n",
       "      <td>10083.000000</td>\n",
       "    </tr>\n",
       "    <tr>\n",
       "      <th>max</th>\n",
       "      <td>7.700000e+06</td>\n",
       "      <td>33.000000</td>\n",
       "      <td>8.000000</td>\n",
       "      <td>13540.000000</td>\n",
       "      <td>1.651359e+06</td>\n",
       "      <td>3.500000</td>\n",
       "      <td>1.000000</td>\n",
       "      <td>4.000000</td>\n",
       "      <td>5.000000</td>\n",
       "      <td>13.000000</td>\n",
       "      <td>9410.000000</td>\n",
       "      <td>4820.000000</td>\n",
       "      <td>2015.000000</td>\n",
       "      <td>2015.000000</td>\n",
       "      <td>47.777600</td>\n",
       "      <td>-121.315000</td>\n",
       "      <td>6210.000000</td>\n",
       "      <td>871200.000000</td>\n",
       "    </tr>\n",
       "  </tbody>\n",
       "</table>\n",
       "</div>"
      ],
      "text/plain": [
       "              price      bedrooms     bathrooms   sqft_living      sqft_lot  \\\n",
       "count  2.161300e+04  21613.000000  21613.000000  21613.000000  2.161300e+04   \n",
       "mean   5.400881e+05      3.370842      2.114757   2079.899736  1.510697e+04   \n",
       "std    3.671272e+05      0.930062      0.770163    918.440897  4.142051e+04   \n",
       "min    7.500000e+04      0.000000      0.000000    290.000000  5.200000e+02   \n",
       "25%    3.219500e+05      3.000000      1.750000   1427.000000  5.040000e+03   \n",
       "50%    4.500000e+05      3.000000      2.250000   1910.000000  7.618000e+03   \n",
       "75%    6.450000e+05      4.000000      2.500000   2550.000000  1.068800e+04   \n",
       "max    7.700000e+06     33.000000      8.000000  13540.000000  1.651359e+06   \n",
       "\n",
       "             floors    waterfront          view     condition         grade  \\\n",
       "count  21613.000000  21613.000000  21613.000000  21613.000000  21613.000000   \n",
       "mean       1.494309      0.007542      0.234303      3.409430      7.656873   \n",
       "std        0.539989      0.086517      0.766318      0.650743      1.175459   \n",
       "min        1.000000      0.000000      0.000000      1.000000      1.000000   \n",
       "25%        1.000000      0.000000      0.000000      3.000000      7.000000   \n",
       "50%        1.500000      0.000000      0.000000      3.000000      7.000000   \n",
       "75%        2.000000      0.000000      0.000000      4.000000      8.000000   \n",
       "max        3.500000      1.000000      4.000000      5.000000     13.000000   \n",
       "\n",
       "         sqft_above  sqft_basement      yr_built  yr_renovated           lat  \\\n",
       "count  21613.000000   21613.000000  21613.000000  21613.000000  21613.000000   \n",
       "mean    1788.390691     291.509045   1971.005136     84.402258     47.560053   \n",
       "std      828.090978     442.575043     29.373411    401.679240      0.138564   \n",
       "min      290.000000       0.000000   1900.000000      0.000000     47.155900   \n",
       "25%     1190.000000       0.000000   1951.000000      0.000000     47.471000   \n",
       "50%     1560.000000       0.000000   1975.000000      0.000000     47.571800   \n",
       "75%     2210.000000     560.000000   1997.000000      0.000000     47.678000   \n",
       "max     9410.000000    4820.000000   2015.000000   2015.000000     47.777600   \n",
       "\n",
       "               long  sqft_living15     sqft_lot15  \n",
       "count  21613.000000   21613.000000   21613.000000  \n",
       "mean    -122.213896    1986.552492   12768.455652  \n",
       "std        0.140828     685.391304   27304.179631  \n",
       "min     -122.519000     399.000000     651.000000  \n",
       "25%     -122.328000    1490.000000    5100.000000  \n",
       "50%     -122.230000    1840.000000    7620.000000  \n",
       "75%     -122.125000    2360.000000   10083.000000  \n",
       "max     -121.315000    6210.000000  871200.000000  "
      ]
     },
     "execution_count": 42,
     "metadata": {},
     "output_type": "execute_result"
    }
   ],
   "source": [
    "print \"Descripción\"\n",
    "df.describe()\n"
   ]
  },
  {
   "cell_type": "markdown",
   "metadata": {},
   "source": [
    "Se ven las 18 columnas que contiene el dataframe, además podemos observar las características de cada una de ellas, como la cantidad de registros para cada una, el promedio, desviación estándar, mínimo, máximo y los percentiles 20, 50 y 75.\n",
    "\n",
    "Cada columna indica una característica de la casa en venta. Se puede observar que existen 21.613 registros de casas, en las cuales se cumple que no existen valores nulos y son valores númericos, donde la mayoría son enteros, excepto cinco características entre las que se encuentran los baños y pisos, lo que es extraño que no sean valores enteros. "
   ]
  },
  {
   "cell_type": "markdown",
   "metadata": {},
   "source": [
    "### c) Normalización de datos y transformación variable a predecir"
   ]
  },
  {
   "cell_type": "markdown",
   "metadata": {},
   "source": [
    "[//]: <> (c. Normalice los datos antes de trabajar y aplique una transformación adecuada a la variable a predecir. Explique la importancia/conveniencia de realizar estas dos operaciones.)\n",
    "\n",
    "A continuación se procede a normalizar los datos y aplicar una transformación a la variable precio:"
   ]
  },
  {
   "cell_type": "code",
   "execution_count": 43,
   "metadata": {
    "collapsed": true
   },
   "outputs": [],
   "source": [
    "from sklearn.preprocessing import StandardScaler\n",
    "scaler = StandardScaler()\n",
    "df_scaled = pd.DataFrame(scaler.fit_transform(df), columns=df.columns)\n",
    "df_scaled['price'] = np.log(df['price'])  #creo que esta es la transformación \n"
   ]
  },
  {
   "cell_type": "markdown",
   "metadata": {},
   "source": [
    "Se creó un nuevo dataframe en base al anterior, pero normalizado. Ésta transformación centra los valores con media 0 y los escala en una varianza unitaria.\n",
    "\n",
    "Es importante mencionar que es conveniente hacer estas operaciones dado que en varias funciones objetivos del ámbito de maching learning, se utilizan elementos que asumen que todas las características están centradas en 0, como por ejemplo regularizadores y kernels. Además es importante que las varianzas estén en el mismo orden, pues de lo contrario alguna de las características podría predominar dentro de la función objetivo, y así la máquina no puede aprender correctamentemente las otras características.\n",
    "\n",
    "Por otro lado, se debe destacar la transformación posterior que se le realizó a la característica del precio, la cual consiste en una linealización de los datos al aplicar la función logarítmica. Esto es, ya que no se sabe a priori el comportamiento de la variable **precio**, dado que  puede ser cuadrática, cúbica o de otro grado, como la regresión precide una variable lineal, se tiene que dejar de esta forma para que el modelo propuesto sea válido."
   ]
  },
  {
   "cell_type": "markdown",
   "metadata": {},
   "source": [
    "### d) Regresión lineal de mínimos cuadrados básica"
   ]
  },
  {
   "cell_type": "markdown",
   "metadata": {},
   "source": [
    "[//]: <> (d Realice una regresión lineal de mínimos cuadrados básica. Explique la importancia/conveniencia del paso 4 y los argumentos que se deben entregar a la función que implementa la regresión lineal. http://sebastianraschka.com/Articles/2014_about_feature_scaling.html#standardization-and-min-max-scaling)\n",
    "\n",
    "Se procede a realizar una regresión líneal de mínimos cuadrados básica,"
   ]
  },
  {
   "cell_type": "code",
   "execution_count": 44,
   "metadata": {
    "collapsed": true
   },
   "outputs": [],
   "source": [
    "import sklearn.linear_model as lm\n",
    "X = df_scaled.iloc[:,1:] #use .ix instead, in older pandas version\n",
    "N = X.shape[0]\n",
    "X.insert(X.shape[1], 'intercept', np.ones(N)) ##Agregamos interceptos a matriz X\n",
    "y = df_scaled['price']  #Variable transformada!!!!!\n",
    "#mascara estatica con el 70% de los datos\n",
    "mascara = np.zeros(len(X))\n",
    "limit = int(len(X)*0.7)\n",
    "mascara[:limit] = 1\n",
    "istrain = mascara== 1\n",
    "# Acá toma el 70% de los datos para entrenar.\n",
    "# Define el conjunto de entrenamiento\n",
    "Xtrain = X[istrain]\n",
    "ytrain = y[istrain]\n",
    "\n",
    "#Define el conjunto de test\n",
    "Xtest = X[np.logical_not(istrain)]\n",
    "ytest = y[np.logical_not(istrain)]\n",
    "\n",
    "linreg = lm.LinearRegression(fit_intercept = False)\n",
    "modelo = linreg.fit(Xtrain, ytrain)"
   ]
  },
  {
   "cell_type": "markdown",
   "metadata": {},
   "source": [
    "Es importante destacar, que en la línea 4 se añaden una nueva columna al dataframe con coeficientes unitarios la cual permitirá que se agreguen los interceptos sin alteración de estos en la regresión lineal.\n",
    "El argumento que se debe entregar a la función es fit_intercept con valor falso, dado que los interceptos ya fueron considerados según la explicación anterior. "
   ]
  },
  {
   "cell_type": "markdown",
   "metadata": {},
   "source": [
    "###  e) Pesos y Z-score"
   ]
  },
  {
   "cell_type": "markdown",
   "metadata": {},
   "source": [
    "A continuación se presenta una tabla con los pesos y Z-score correspondientes a cada predictor."
   ]
  },
  {
   "cell_type": "code",
   "execution_count": 45,
   "metadata": {
    "collapsed": true
   },
   "outputs": [],
   "source": [
    "from numpy import linalg as LA\n",
    "def getStandardRegressionError(linreg, Xtrain , ytrain ):\n",
    "   std_reg = np.sqrt(((linreg.predict(Xtrain) - ytrain) ** 2).sum()/21594)\n",
    "   return std_reg\n",
    "\n",
    "def getZscore(linreg,std_reg,K):\n",
    "   inverse_covariance = np.linalg.inv(Xtrain.transpose().dot(Xtrain))\n",
    "   z_score = np.ones(K)\n",
    "   for i in range(0,K):\n",
    "      z_score[i] = linreg.coef_[i]/(std_reg *np.sqrt((inverse_covariance[i,i])))\n",
    "      \n",
    "   return z_score \n",
    "\n",
    "st_error = getStandardRegressionError(modelo,Xtrain,ytrain)\n",
    "#print(regresion_error)\n",
    "\n",
    "cantidad_variables = (len(modelo.coef_[:]))\n",
    "\n",
    "Z_score = getZscore(modelo,st_error,cantidad_variables)\n",
    "nombres = list(Xtrain.columns[:-1])\n",
    "nombres.append('intercept')\n",
    "def do_table(nombres,modelo,Z_score):\n",
    "    cantidad_variables = (len(modelo.coef_[:]))\n",
    "    for i in range(cantidad_variables):\n",
    "        print('<tr><td>'+nombres[i]+'</td><td>'+str(round(modelo.coef_[i],4))+'</td><td>'+str(round(Z_score[i],4))+'</td></tr>')\n",
    "    \n",
    "#do_table(nombres,modelo,Z_score)"
   ]
  },
  {
   "cell_type": "markdown",
   "metadata": {},
   "source": [
    "<table style=\"width:100%\">\n",
    "<tr>\n",
    "        <th>Atributo</th>\n",
    "        <th>Coeficiente</th>\n",
    "        <th>Z-score</th>\n",
    "</tr>\n",
    "<tr><td>bedrooms</td><td>-0.0071</td><td>-3.1244</td></tr>\n",
    "<tr><td>bathrooms</td><td>0.057</td><td>17.8574</td></tr>\n",
    "<tr><td>sqft_living</td><td>-3.54349922406e+12</td><td>-31427226.961</td></tr>\n",
    "<tr><td>sqft_lot</td><td>0.0225</td><td>9.2179</td></tr>\n",
    "<tr><td>floors</td><td>0.0372</td><td>14.5084</td></tr>\n",
    "<tr><td>waterfront</td><td>0.0333</td><td>17.5574</td></tr>\n",
    "<tr><td>view</td><td>0.0424</td><td>20.9556</td></tr>\n",
    "<tr><td>condition</td><td>0.0458</td><td>24.809</td></tr>\n",
    "<tr><td>grade</td><td>0.1844</td><td>56.904</td></tr>\n",
    "<tr><td>sqft_above</td><td>3.19491406164e+12</td><td>31427226.961</td></tr>\n",
    "<tr><td>sqft_basement</td><td>1.70752884084e+12</td><td>31427226.961</td></tr>\n",
    "<tr><td>yr_built</td><td>-0.1101</td><td>-40.4754</td></tr>\n",
    "<tr><td>yr_renovated</td><td>0.0146</td><td>8.1521</td></tr>\n",
    "<tr><td>lat</td><td>0.1858</td><td>102.2836</td></tr>\n",
    "<tr><td>long</td><td>-0.0043</td><td>-1.9904</td></tr>\n",
    "<tr><td>sqft_living15</td><td>0.0883</td><td>28.9337</td></tr>\n",
    "<tr><td>sqft_lot15</td><td>-0.0082</td><td>-3.2716</td></tr>\n",
    "<tr><td>intercept</td><td>13.0395</td><td>7435.1966</td></tr>\n",
    "</table>"
   ]
  },
  {
   "cell_type": "code",
   "execution_count": 46,
   "metadata": {},
   "outputs": [
    {
     "name": "stdout",
     "output_type": "stream",
     "text": [
      "Condicionamiento de la matriz X: 3.20933985079e+15\n"
     ]
    }
   ],
   "source": [
    "print \"Condicionamiento de la matriz X:\", LA.cond(Xtrain)"
   ]
  },
  {
   "cell_type": "markdown",
   "metadata": {},
   "source": [
    "Observando la tabla anterior, es posible dar cuenta de existen cosas anómalas en el resultado de la regresión lineal. Por ejemplo, los atributos *sqft_living, sqft_above y sqft_basement* tienen un peso y z-score demasiado alto en comparación al resto de las características. \n",
    "\n",
    "Lo anterior es atribuible al mal condicionamiento de la matriz, que es de $3,21 \\cdot 10^{15}$, valor que está muy lejana al 1 que es el valor que implica que la matriz esté bien condicionada. Este mal condicionamiento de la matriz puede ser porque existen características que son linealmente dependientes de otras. El gran valor del número de condicionamiento implica que esta matriz está muy cercana a hacer singular ( no invertible ) y el cálculo de su inversa, o solución de un sistema lineal de ecuaciones es propenso a grandes errores numéricos.\n",
    "\n",
    "Para ver las variables que están más correlacionadas con la respuesta, podemos suponer una hipótesis nula tal que  $H_{0} :B _{j}= 0$ , la cual se acepta o rechaza dependiendo de los valores de Z-scores:\n",
    "\n",
    "<center>${z_{j}= \\frac{B_{j}}{\\lambda \\sqrt{v_{jj}}}}$</center>\n",
    "\n",
    "Donde,\n",
    "\n",
    "<center>$v_{jj} = (X^{T}X)^{-1}_{jj}$</center>\n",
    "\n",
    "Esto lo hacemos al 5% con la distribución t con 21593 grados de libertad, bajo esto, todo valor absoluto de Z-score mayor a 1.960 conllevará un rechazo a la hipotesis nula, implicando que su coeficiente es no nulo, por ende estará correlacionado con la respuesta. Con este criterio, todos los atributos serían relevantes pero está sesgado al mal condicionamiento de la matriz.\t"
   ]
  },
  {
   "cell_type": "markdown",
   "metadata": {},
   "source": [
    "### f) Método de corrección de lo observado"
   ]
  },
  {
   "cell_type": "markdown",
   "metadata": {},
   "source": [
    "Para corregir lo anterior, se podrían aplicar dos métodos por lo bajo:\n",
    "1. Encontrar las características linealmente dependientes de otras y eliminarlas.\n",
    "2. Aplicar un regularizador que afecte lo menos posible a la regresión lineal original, pero que aún así arregle los atributos inconsistentes.\n",
    "\n",
    "De las opciones anteriores se escogerá la segunda, debido que la primera requiere mucho costo computacional para encontrar las características linealmente dependientes, y además, el hecho de eliminar características por completo,  consideramos una medida demasiado radical.\n",
    "\n",
    "Por lo tanto, se aplica un regularizador de Ridge con un lambda lo más pequeño posible. Para obtener este pequeño valor, se obtienen los valores propios de la matriz original, así el más diminuto se considera como el parámetro lambda para la regularización de Ridge. \n",
    "*( T. Hastie, R. Tibshirani, and J. Friedman. The Elements of Statistical Learning. Springer Series in\n",
    "Statistics. Springer New York Inc., New York, NY, USA, 2009. Capitulo 3 63-64)*\n"
   ]
  },
  {
   "cell_type": "markdown",
   "metadata": {},
   "source": [
    "Se sabe que para obtener los valores propios de una matriz, ésta debe ser cuadrada, sin embargo nuestra matriz es rectangular de 21613 x 18. Por lo tanto, se calculan los valores propios de la matriz original por su transpuesta. El resultado anterior, no dará el valor exacto del menor valor propio, pero si dará un valor aproximado de este, que es lo que buscamos."
   ]
  },
  {
   "cell_type": "code",
   "execution_count": 66,
   "metadata": {},
   "outputs": [
    {
     "name": "stdout",
     "output_type": "stream",
     "text": [
      "[4, 7, 11, 17]\n"
     ]
    }
   ],
   "source": [
    "from sklearn.linear_model import Ridge \n",
    "\n",
    "Z = Xtrain.transpose().dot(Xtrain)\n",
    "[V, D] = LA.eig(Z)\n",
    "min_eigenvalue =  min(V) # Equivale al valor propio de la matriz\n",
    "eigenvalue_mean = V.mean()\n",
    "min_eigenvalue = eigenvalue_mean\n",
    "#https://stackoverflow.com/questions/22631956/how-to-find-eigenvalues-for-non-quadratic-matrix\n",
    "clf = Ridge(alpha=min_eigenvalue,fit_intercept=False)\n",
    "modelo_regularizado = clf.fit(Xtrain, ytrain)\n",
    "st_error_reg = getStandardRegressionError(modelo_regularizado,Xtrain,ytrain)\n",
    "Z_score_reg = getZscore(modelo_regularizado,st_error_reg,cantidad_variables)\n",
    "\n",
    "#for i in range(cantidad_variables):\n",
    "    #print Z_score[i],modelo.coef_[i],Z_score_reg[i],modelo_regularizado.coef_[i]\n",
    "    \n",
    "#do_table(nombres,modelo_regularizado,Z_score_reg)\n",
    "\n",
    "#Ver relevantes:\n",
    "relevantes = []\n",
    "for i in range(cantidad_variables):\n",
    "    if (abs(Z_score_reg[i]) > 1.96):\n",
    "        relevantes.append(i)\n",
    "print relevantes\n",
    "    \n"
   ]
  },
  {
   "cell_type": "markdown",
   "metadata": {},
   "source": [
    "<table style=\"width:100%\">\n",
    "<tr>\n",
    "        <th>Atributo</th>\n",
    "        <th>Coeficiente</th>\n",
    "        <th>Z-score</th>\n",
    "</tr>\n",
    "<tr><td>bedrooms</td><td>0.0458</td><td>0.7864</td></tr>\n",
    "<tr><td>bathrooms</td><td>-0.0721</td><td>-0.8836</td></tr>\n",
    "<tr><td>sqft_living</td><td>0.075</td><td>0.0</td></tr>\n",
    "<tr><td>sqft_lot</td><td>0.0543</td><td>0.8705</td></tr>\n",
    "<tr><td>floors</td><td>-0.2586</td><td>-3.949</td></tr>\n",
    "<tr><td>waterfront</td><td>0.0177</td><td>0.3654</td></tr>\n",
    "<tr><td>view</td><td>0.0672</td><td>1.3001</td></tr>\n",
    "<tr><td>condition</td><td>0.1267</td><td>2.6891</td></tr>\n",
    "<tr><td>grade</td><td>0.034</td><td>0.4105</td></tr>\n",
    "<tr><td>sqft_above</td><td>0.0454</td><td>0.0</td></tr>\n",
    "<tr><td>sqft_basement</td><td>0.0708</td><td>0.0</td></tr>\n",
    "<tr><td>yr_built</td><td>-0.3935</td><td>-5.6613</td></tr>\n",
    "<tr><td>yr_renovated</td><td>0.0377</td><td>0.8203</td></tr>\n",
    "<tr><td>lat</td><td>0.09</td><td>1.9393</td></tr>\n",
    "<tr><td>long</td><td>0.0662</td><td>1.2076</td></tr>\n",
    "<tr><td>sqft_living15</td><td>0.1254</td><td>1.6093</td></tr>\n",
    "<tr><td>sqft_lot15</td><td>0.0723</td><td>1.1318</td></tr>\n",
    "<tr><td>intercept</td><td>6.4896</td><td>144.8315</td></tr>\n",
    "</table>"
   ]
  },
  {
   "cell_type": "markdown",
   "metadata": {},
   "source": [
    "Realizando la regresión lineal con el regularizador de Ridge, se puede ver mediante los nuevos pesos y z-score obtenidos que solo se modificaron los atributos que anteriormente tenían problemas, afectando de forma casi nula al resto, gracias al pequeño regularizador. En base al estadístico observamos que las variables más correlacionadas con este nuevo modelo regurizado corresponden a la cantidad de pisos que tiene la casa, la condición en la cual se encuentra y el año en que fue construida "
   ]
  },
  {
   "cell_type": "markdown",
   "metadata": {},
   "source": [
    "### g) Validación cruzada"
   ]
  },
  {
   "cell_type": "markdown",
   "metadata": {},
   "source": [
    "Se estimará el error de predicción utilizando validación cruzada con número de folds K=5 y K=10."
   ]
  },
  {
   "cell_type": "markdown",
   "metadata": {},
   "source": [
    "### Modelo no regularizado"
   ]
  },
  {
   "cell_type": "code",
   "execution_count": 48,
   "metadata": {},
   "outputs": [
    {
     "name": "stdout",
     "output_type": "stream",
     "text": [
      "mse_test: 0.0654124075861\n",
      "mse_cv 0.0646902919559\n"
     ]
    }
   ],
   "source": [
    "#K=5\n",
    "yhat_test = linreg.predict(Xtest)\n",
    "mse_test = np.mean(np.power(yhat_test - ytest, 2))\n",
    "Xm = Xtrain.as_matrix()\n",
    "ym = ytrain.as_matrix()\n",
    "from sklearn.model_selection import KFold\n",
    "kf = KFold(n_splits=5)\n",
    "mse_cv = 0\n",
    "for train, val in kf.split(Xm):\n",
    "    linreg = lm.LinearRegression(fit_intercept = False)\n",
    "    linreg.fit(Xm[train], ym[train])\n",
    "    yhat_val = linreg.predict(Xm[val])\n",
    "    mse_fold = np.mean(np.power(yhat_val - ym[val], 2))\n",
    "    mse_cv += mse_fold\n",
    "mse_cv_5 = mse_cv / 5\n",
    "print \"mse_test:\",mse_test\n",
    "print \"mse_cv\",mse_cv_5"
   ]
  },
  {
   "cell_type": "code",
   "execution_count": 49,
   "metadata": {},
   "outputs": [
    {
     "name": "stdout",
     "output_type": "stream",
     "text": [
      "mse_test: 0.0653598742452\n",
      "mse_cv 0.0646905656615\n",
      "Diferencia k=5 y k=10 2.73705611634e-07\n"
     ]
    }
   ],
   "source": [
    "#K = 10\n",
    "\n",
    "yhat_test = linreg.predict(Xtest)\n",
    "mse_test = np.mean(np.power(yhat_test - ytest, 2))\n",
    "Xm = Xtrain.as_matrix()\n",
    "ym = ytrain.as_matrix()\n",
    "from sklearn.model_selection import KFold\n",
    "kf = KFold(n_splits=10)\n",
    "mse_cv = 0\n",
    "for train, val in kf.split(Xm):\n",
    "    linreg = lm.LinearRegression(fit_intercept = False)\n",
    "    linreg.fit(Xm[train], ym[train])\n",
    "    yhat_val = linreg.predict(Xm[val])\n",
    "    mse_fold = np.mean(np.power(yhat_val - ym[val], 2))\n",
    "    mse_cv += mse_fold\n",
    "mse_cv_10 = mse_cv / 10\n",
    "print \"mse_test:\",mse_test\n",
    "print \"mse_cv\",mse_cv_10\n",
    "print \"Diferencia k=5 y k=10\",(mse_cv_10 - mse_cv_5)"
   ]
  },
  {
   "cell_type": "code",
   "execution_count": 50,
   "metadata": {},
   "outputs": [
    {
     "name": "stdout",
     "output_type": "stream",
     "text": [
      "Diferencia k=15 y k=10 1.02138864932e-05\n"
     ]
    }
   ],
   "source": [
    "yhat_test = linreg.predict(Xtest)\n",
    "mse_test = np.mean(np.power(yhat_test - ytest, 2))\n",
    "Xm = Xtrain.as_matrix()\n",
    "ym = ytrain.as_matrix()\n",
    "from sklearn.model_selection import KFold\n",
    "kf = KFold(n_splits=15)\n",
    "mse_cv = 0\n",
    "for train, val in kf.split(Xm):\n",
    "    linreg = lm.LinearRegression(fit_intercept = False)\n",
    "    linreg.fit(Xm[train], ym[train])\n",
    "    yhat_val = linreg.predict(Xm[val])\n",
    "    mse_fold = np.mean(np.power(yhat_val - ym[val], 2))\n",
    "    mse_cv += mse_fold\n",
    "mse_cv_15 = mse_cv / 15\n",
    "print \"Diferencia k=15 y k=10\",(mse_cv_15 - mse_cv_10)"
   ]
  },
  {
   "cell_type": "code",
   "execution_count": 51,
   "metadata": {},
   "outputs": [
    {
     "name": "stdout",
     "output_type": "stream",
     "text": [
      "Diferencia k=15 y k=10000 -2.00950435097e-06\n"
     ]
    }
   ],
   "source": [
    "yhat_test = linreg.predict(Xtest)\n",
    "mse_test = np.mean(np.power(yhat_test - ytest, 2))\n",
    "Xm = Xtrain.as_matrix()\n",
    "ym = ytrain.as_matrix()\n",
    "from sklearn.model_selection import KFold\n",
    "kf = KFold(n_splits=10000)\n",
    "mse_cv = 0\n",
    "for train, val in kf.split(Xm):\n",
    "    linreg = lm.LinearRegression(fit_intercept = False)\n",
    "    linreg.fit(Xm[train], ym[train])\n",
    "    yhat_val = linreg.predict(Xm[val])\n",
    "    mse_fold = np.mean(np.power(yhat_val - ym[val], 2))\n",
    "    mse_cv += mse_fold\n",
    "mse_cv_1000 = mse_cv / 10000\n",
    "print \"Diferencia k=15 y k=10000\",(mse_cv_1000 - mse_cv_15)"
   ]
  },
  {
   "cell_type": "markdown",
   "metadata": {},
   "source": [
    "### Modelo  regularizado"
   ]
  },
  {
   "cell_type": "code",
   "execution_count": 52,
   "metadata": {},
   "outputs": [
    {
     "name": "stdout",
     "output_type": "stream",
     "text": [
      "mse_test: 0.0653128519496\n",
      "mse_cv 0.0645286863186\n"
     ]
    }
   ],
   "source": [
    "#K=5\n",
    "yhat_test = linreg.predict(Xtest)\n",
    "mse_test = np.mean(np.power(yhat_test - ytest, 2))\n",
    "Xm = Xtrain.as_matrix()\n",
    "ym = ytrain.as_matrix()\n",
    "from sklearn.model_selection import KFold\n",
    "kf = KFold(n_splits=5)\n",
    "mse_cv = 0\n",
    "for train, val in kf.split(Xm):\n",
    "    clf = Ridge(alpha=min_eigenvalue,fit_intercept=False)\n",
    "    modelo_regularizado = clf.fit(Xtrain, ytrain)\n",
    "    yhat_val = modelo_regularizado.predict(Xm[val])\n",
    "    mse_fold = np.mean(np.power(yhat_val - ym[val], 2))\n",
    "    mse_cv += mse_fold\n",
    "mse_cv_5 = mse_cv / 5\n",
    "print \"mse_test:\",mse_test\n",
    "print \"mse_cv\",mse_cv_5"
   ]
  },
  {
   "cell_type": "code",
   "execution_count": 53,
   "metadata": {},
   "outputs": [
    {
     "name": "stdout",
     "output_type": "stream",
     "text": [
      "mse_test: 0.0653128519496\n",
      "mse_cv K=5: 0.0645286863186\n",
      "mse_cv K=10: 0.06452854563\n",
      "Diferencia k=5 y k=10 -1.40688663872e-07\n",
      "diferencia k=5 y mse_test 0.000784165630979\n",
      "diferencia k=10 y mse_test 0.000784306319643\n"
     ]
    }
   ],
   "source": [
    "#K = 10\n",
    "yhat_test = linreg.predict(Xtest)\n",
    "mse_test = np.mean(np.power(yhat_test - ytest, 2))\n",
    "Xm = Xtrain.as_matrix()\n",
    "ym = ytrain.as_matrix()\n",
    "from sklearn.model_selection import KFold\n",
    "kf = KFold(n_splits=10)\n",
    "mse_cv = 0\n",
    "for train, val in kf.split(Xm):\n",
    "    clf = Ridge(alpha=min_eigenvalue,fit_intercept=False)\n",
    "    modelo_regularizado = clf.fit(Xtrain, ytrain)\n",
    "    yhat_val = modelo_regularizado.predict(Xm[val])\n",
    "    mse_fold = np.mean(np.power(yhat_val - ym[val], 2))\n",
    "    mse_cv += mse_fold\n",
    "mse_cv_10 = mse_cv / 10\n",
    "print \"mse_test:\",mse_test\n",
    "print \"mse_cv K=5:\",mse_cv_5\n",
    "print \"mse_cv K=10:\",mse_cv_10\n",
    "print \"Diferencia k=5 y k=10\",(mse_cv_10 - mse_cv_5)\n",
    "print \"diferencia k=5 y mse_test\",(mse_test - mse_cv_5)\n",
    "print \"diferencia k=10 y mse_test\",(mse_test - mse_cv_10)"
   ]
  },
  {
   "cell_type": "markdown",
   "metadata": {},
   "source": [
    "En base a los errores de validación obtenidos, se puede concluir que al realizar validación cruzada con un 5 folds se obtiene un valor milésimas más cercano al error real del modelo que con 10 folds. Hay un cierto número de folds óptimo que puede predecir de mejor manera el error del modelo, luego de eso el error de validación se aleja del error real del modelo lentamente. "
   ]
  },
  {
   "cell_type": "code",
   "execution_count": null,
   "metadata": {
    "collapsed": true
   },
   "outputs": [],
   "source": [
    "#Hacer gráfico k=1 a 10 para encontrar k* proximamente.. tarea2"
   ]
  },
  {
   "cell_type": "markdown",
   "metadata": {},
   "source": [
    "(h) Mida los errores de predicci´on para cada dato de entrenamiento. Utilizando un “quantile-quantile plot”\n",
    "determine si es razonable la hip´otesis de normalidad sobre los residuos del modelo."
   ]
  },
  {
   "cell_type": "markdown",
   "metadata": {},
   "source": [
    "### h)  Quantile-Quantile plot"
   ]
  },
  {
   "cell_type": "markdown",
   "metadata": {},
   "source": [
    "A continuación se presenta un gráfico quantile-quantile plot sobre los residuos del modelo contra la hipótesis de normalidad."
   ]
  },
  {
   "cell_type": "code",
   "execution_count": 67,
   "metadata": {},
   "outputs": [
    {
     "data": {
      "image/png": "[encoded data removed]",
      "text/plain": [
       "<matplotlib.figure.Figure at 0xea85908>"
      ]
     },
     "metadata": {},
     "output_type": "display_data"
    }
   ],
   "source": [
    "import scipy.stats as stats\n",
    "import matplotlib.pyplot as plt\n",
    "def getQQPlot(Xtrain,ytrain):\n",
    "   predict = linreg.predict(Xtrain)\n",
    "   ytrain = np.asarray(ytrain)\n",
    "   prediction_error = predict - ytrain \n",
    "   \n",
    "   normal = stats.probplot(prediction_error, dist='norm', plot=plt)\n",
    "   plt.ylabel('Training Data Error')\n",
    "   plt.title('Quantile-Quantile Plot')\n",
    "   plt.show()\n",
    "   prediction_error.sort()\n",
    "   norm= np.random.normal(0,2,len(predict))\n",
    "   norm.sort()\n",
    "   slope, intercept, r_value, p_value, std_err = stats.linregress(prediction_error,norm)\n",
    "   \n",
    "\n",
    "getQQPlot(Xtrain,ytrain)\n"
   ]
  },
  {
   "cell_type": "markdown",
   "metadata": {},
   "source": [
    "$R^{2}: 0.9970$"
   ]
  },
  {
   "cell_type": "markdown",
   "metadata": {},
   "source": [
    "En base al gráfico, donde la línea roja corresponde a la hipótesis de normalidad y los puntos azules corresponden al comportamiento de los residuos, es posible determinar que los residuos sí se ajustan bien a la distribución normal. El coeficiente de determinación $R^{2} = 0.997$ respalda lo anteriormente mencionado dado que es cercano a 1 el cual indica máxima correlación entre los datos."
   ]
  },
  {
   "cell_type": "markdown",
   "metadata": {},
   "source": [
    "# Parte 2"
   ]
  },
  {
   "cell_type": "markdown",
   "metadata": {},
   "source": [
    "(a) Construya una funci\u0013on que implemente Forward Step-wise Selection (FSS). Es decir, partiendo con un\n",
    "modelo sin predictores (variables), agregue un predictor a la vez, re-ajustando el modelo de regresi\u0013on\n",
    "en cada paso. Para seleccionar localmente una variable, proponga/implemente un criterio distinto al\n",
    "utilizado en el c\u0013odigo de ejemplo. Construya un gr\u0013a\f",
    "co que muestre el error de entrenamiento y el error\n",
    "de pruebas como funci\u0013on del n\u0013umero de variables en el modelo. Ordene el eje x de menor a mayor."
   ]
  },
  {
   "cell_type": "markdown",
   "metadata": {},
   "source": [
    "### a) Forward Step-wise Selection (FSS)"
   ]
  },
  {
   "cell_type": "markdown",
   "metadata": {},
   "source": [
    "FSS consiste en ir agregando un predictor a la vez según algun criterio, reajustando el modelo cada vez que se agregue una variable, estos criterios pueden ser variados, aqui proponemos 2 aparte del error cuadrático medio:\n",
    "\n",
    "1) Error absoluto medio<br><br>\n",
    "<center> ${\\frac{1}{n} \\sum ^{n}_{i=1} |y_{predict} - y_{i}|}$ <br>\n",
    "<br></center>\n",
    "\n",
    "2) Z-score:\n",
    "<center>${z_{j}= \\frac{B_{j}}{\\lambda \\sqrt{v_{jj}}}}$</center>\n"
   ]
  },
  {
   "cell_type": "code",
   "execution_count": 70,
   "metadata": {},
   "outputs": [
    {
     "name": "stdout",
     "output_type": "stream",
     "text": [
      "selected = grade ...\n",
      "totalvars=2, mse = 0.143260\n",
      "selected = lat ...\n",
      "totalvars=3, mse = 0.103340\n",
      "selected = sqft_living ...\n",
      "totalvars=4, mse = 0.084960\n",
      "selected = yr_built ...\n",
      "totalvars=5, mse = 0.075447\n",
      "selected = view ...\n",
      "totalvars=6, mse = 0.071782\n",
      "selected = sqft_living15 ...\n",
      "totalvars=7, mse = 0.069979\n",
      "selected = bathrooms ...\n",
      "totalvars=8, mse = 0.068251\n",
      "selected = condition ...\n",
      "totalvars=9, mse = 0.066864\n",
      "selected = waterfront ...\n",
      "totalvars=10, mse = 0.065836\n",
      "selected = floors ...\n",
      "totalvars=11, mse = 0.065107\n",
      "selected = sqft_lot ...\n",
      "totalvars=12, mse = 0.064820\n",
      "selected = yr_renovated ...\n",
      "totalvars=13, mse = 0.064619\n",
      "selected = bedrooms ...\n",
      "totalvars=14, mse = 0.064583\n",
      "selected = sqft_basement ...\n",
      "totalvars=15, mse = 0.064554\n",
      "selected = sqft_lot15 ...\n",
      "totalvars=16, mse = 0.064527\n",
      "selected = long ...\n",
      "totalvars=17, mse = 0.064516\n",
      "selected = sqft_above ...\n",
      "totalvars=18, mse = 0.064516\n"
     ]
    },
    {
     "data": {
      "text/plain": [
       "[17L, 8, 13, 2, 11, 6, 15, 1, 7, 5, 4, 3, 12, 0, 10, 16, 14, 9]"
      ]
     },
     "execution_count": 70,
     "metadata": {},
     "output_type": "execute_result"
    }
   ],
   "source": [
    "#Error cuadrado\n",
    "\n",
    "def fss(x, y, names_x, k = 10000):\n",
    "    p = x.shape[1]-1\n",
    "    k = min(p, k)\n",
    "    names_x = np.array(names_x)\n",
    "    remaining = range(0, p)\n",
    "    selected = [p]\n",
    "    current_score = best_new_score = 0.0\n",
    "    while remaining and len(selected)<=k :\n",
    "        score_candidates = []\n",
    "        for candidate in remaining:\n",
    "            model = lm.LinearRegression(fit_intercept=False)\n",
    "            indexes = selected + [candidate]\n",
    "            x_train = x[:,indexes]\n",
    "            predictions_train = model.fit(x_train, y).predict(x_train)\n",
    "            residuals_train = predictions_train - y\n",
    "            mse_candidate = np.mean(np.power(residuals_train, 2))\n",
    "            score_candidates.append((mse_candidate, candidate))\n",
    "        score_candidates.sort()\n",
    "        score_candidates[:] = score_candidates[::-1]\n",
    "        best_new_score, best_candidate = score_candidates.pop()\n",
    "        remaining.remove(best_candidate)\n",
    "        selected.append(best_candidate)\n",
    "        print \"selected = %s ...\"%names_x[best_candidate]\n",
    "        print \"totalvars=%d, mse = %f\"%(len(indexes),best_new_score)\n",
    "    return selected\n",
    "names_regressors = X.columns[:-1] #without intercept\n",
    "fss(Xm,ym,names_regressors)"
   ]
  },
  {
   "cell_type": "code",
   "execution_count": 71,
   "metadata": {},
   "outputs": [
    {
     "name": "stdout",
     "output_type": "stream",
     "text": [
      "selected = grade ...\n",
      "totalvars=2, mse = 0.302697\n",
      "selected = lat ...\n",
      "totalvars=3, mse = 0.249518\n",
      "selected = sqft_living ...\n",
      "totalvars=4, mse = 0.225651\n",
      "selected = yr_built ...\n",
      "totalvars=5, mse = 0.211753\n",
      "selected = view ...\n",
      "totalvars=6, mse = 0.206941\n",
      "selected = bathrooms ...\n",
      "totalvars=7, mse = 0.204301\n",
      "selected = sqft_living15 ...\n",
      "totalvars=8, mse = 0.202069\n",
      "selected = condition ...\n",
      "totalvars=9, mse = 0.200426\n",
      "selected = floors ...\n",
      "totalvars=10, mse = 0.198749\n",
      "selected = waterfront ...\n",
      "totalvars=11, mse = 0.197509\n",
      "selected = sqft_lot ...\n",
      "totalvars=12, mse = 0.197028\n",
      "selected = bedrooms ...\n",
      "totalvars=13, mse = 0.196811\n",
      "selected = yr_renovated ...\n",
      "totalvars=14, mse = 0.196634\n",
      "selected = sqft_basement ...\n",
      "totalvars=15, mse = 0.196472\n",
      "selected = sqft_lot15 ...\n",
      "totalvars=16, mse = 0.196463\n",
      "selected = sqft_above ...\n",
      "totalvars=17, mse = 0.196425\n",
      "selected = long ...\n",
      "totalvars=18, mse = 0.196594\n"
     ]
    },
    {
     "data": {
      "text/plain": [
       "[17L, 8, 13, 2, 11, 6, 1, 15, 7, 4, 5, 3, 0, 12, 10, 16, 9, 14]"
      ]
     },
     "execution_count": 71,
     "metadata": {},
     "output_type": "execute_result"
    }
   ],
   "source": [
    "#Error_Abs\n",
    "def fss_abs(x, y, names_x, k = 10000):\n",
    "    p = x.shape[1]-1\n",
    "    k = min(p, k)\n",
    "    names_x = np.array(names_x)\n",
    "    remaining = range(0, p)\n",
    "    selected = [p]\n",
    "    current_score = best_new_score = 0.0\n",
    "    while remaining and len(selected)<=k :\n",
    "        score_candidates = []\n",
    "        for candidate in remaining:\n",
    "            model = lm.LinearRegression(fit_intercept=False)\n",
    "            indexes = selected + [candidate]\n",
    "            x_train = x[:,indexes]\n",
    "            predictions_train = model.fit(x_train, y).predict(x_train)\n",
    "            residuals_train = predictions_train - y\n",
    "            mse_candidate = np.mean(np.fabs(residuals_train))\n",
    "            score_candidates.append((mse_candidate, candidate))\n",
    "        score_candidates.sort()\n",
    "        score_candidates[:] = score_candidates[::-1]\n",
    "        best_new_score, best_candidate = score_candidates.pop()\n",
    "        remaining.remove(best_candidate)\n",
    "        selected.append(best_candidate)\n",
    "        print \"selected = %s ...\"%names_x[best_candidate]\n",
    "        print \"totalvars=%d, mse = %f\"%(len(indexes),best_new_score)\n",
    "    return selected\n",
    "names_regressors = X.columns[:-1] #without intercept\n",
    "fss_abs(Xm,ym,names_regressors)"
   ]
  },
  {
   "cell_type": "code",
   "execution_count": 73,
   "metadata": {},
   "outputs": [
    {
     "name": "stdout",
     "output_type": "stream",
     "text": [
      "selected = long ...\n",
      "totalvars=2, mse = 8.619193\n",
      "selected = yr_built ...\n",
      "totalvars=3, mse = 15180135.470110\n",
      "selected = condition ...\n",
      "totalvars=4, mse = 4.464945\n",
      "selected = sqft_lot15 ...\n",
      "totalvars=5, mse = 7.055571\n",
      "selected = sqft_lot ...\n",
      "totalvars=6, mse = 8.551261\n",
      "selected = yr_renovated ...\n",
      "totalvars=7, mse = 10.327044\n",
      "selected = waterfront ...\n",
      "totalvars=8, mse = 12.404033\n",
      "selected = view ...\n",
      "totalvars=9, mse = 29.794904\n",
      "selected = sqft_basement ...\n",
      "totalvars=10, mse = 17015727.986895\n",
      "selected = bedrooms ...\n",
      "totalvars=11, mse = 17619681.931917\n",
      "selected = floors ...\n",
      "totalvars=12, mse = 24.542681\n",
      "selected = bathrooms ...\n",
      "totalvars=13, mse = 5.240407\n",
      "selected = sqft_living ...\n",
      "totalvars=14, mse = 74.053937\n",
      "selected = sqft_above ...\n",
      "totalvars=15, mse = 1.441014\n",
      "selected = sqft_living15 ...\n",
      "totalvars=16, mse = 21.933431\n",
      "selected = grade ...\n",
      "totalvars=17, mse = 2.682712\n",
      "selected = lat ...\n",
      "totalvars=18, mse = 7435.786380\n"
     ]
    },
    {
     "data": {
      "text/plain": [
       "[17L, 14, 11, 7, 16, 3, 12, 5, 6, 10, 0, 4, 1, 2, 9, 15, 8, 13]"
      ]
     },
     "execution_count": 73,
     "metadata": {},
     "output_type": "execute_result"
    }
   ],
   "source": [
    "def fss_zscore(x, y, names_x, k = 10000):\n",
    "    p = x.shape[1]-1\n",
    "    k = min(p, k)\n",
    "    names_x = np.array(names_x)\n",
    "    remaining = range(0, p)\n",
    "    selected = [p]\n",
    "    current_score = best_new_score = 0.0\n",
    "    while remaining and len(selected)<=k :\n",
    "        score_candidates = []\n",
    "        for candidate in remaining:\n",
    "            model = lm.LinearRegression(fit_intercept=False)\n",
    "            indexes = selected + [candidate]\n",
    "            x_train = x[:,indexes]\n",
    "            model = model.fit(x_train,y)\n",
    "\n",
    "            # Cambio\n",
    "            st_error = getStandardRegressionError(model,x_train,y)\n",
    "            cantidad_variables = (len(selected)+1)\n",
    "            zscore_candidate = abs(getZscore(modelo,st_error,cantidad_variables))[-1]\n",
    "            predictions_train = model.fit(x_train,y).predict(x_train)\n",
    "            residuals_train = predictions_train - y\n",
    "            zscore_train_residual = np.mean(np.power(residuals_train,2))            \n",
    "            score_candidates.append((zscore_candidate,candidate))\n",
    "            \n",
    "        score_candidates.sort()\n",
    "        score_candidates[:] = score_candidates[::-1]\n",
    "        best_new_score, best_candidate = score_candidates.pop()\n",
    "        remaining.remove(best_candidate)\n",
    "        selected.append(best_candidate)\n",
    "        print \"selected = %s ...\"%names_x[best_candidate]\n",
    "        print \"totalvars=%d, mse = %f\"%(len(indexes),best_new_score)\n",
    "    return selected\n",
    "names_regressors = X.columns[:-1] #without intercept\n",
    "fss_zscore(Xm,ym,names_regressors)"
   ]
  },
  {
   "cell_type": "code",
   "execution_count": 105,
   "metadata": {},
   "outputs": [
    {
     "name": "stdout",
     "output_type": "stream",
     "text": [
      "selected = sqft_lot15 ...\n",
      "totalvars = 2, mae = 0.244675 \n",
      "selected = condition ...\n",
      "totalvars = 3, mae = 0.140688 \n",
      "selected = yr_renovated ...\n",
      "totalvars = 4, mae = 0.099757 \n",
      "selected = bathrooms ...\n",
      "totalvars = 5, mae = 0.084883 \n",
      "selected = sqft_basement ...\n",
      "totalvars = 6, mae = 0.075398 \n",
      "selected = waterfront ...\n",
      "totalvars = 7, mae = 0.071780 \n",
      "selected = long ...\n",
      "totalvars = 8, mae = 0.069979 \n",
      "selected = bedrooms ...\n",
      "totalvars = 9, mae = 0.068171 \n",
      "selected = view ...\n",
      "totalvars = 10, mae = 0.066749 \n",
      "selected = floors ...\n",
      "totalvars = 11, mae = 0.065757 \n",
      "selected = sqft_lot ...\n",
      "totalvars = 12, mae = 0.065047 \n",
      "selected = sqft_living ...\n",
      "totalvars = 13, mae = 0.064778 \n",
      "selected = yr_built ...\n",
      "totalvars = 14, mae = 0.064583 \n",
      "selected = grade ...\n",
      "totalvars = 15, mae = 0.064554 \n",
      "selected = sqft_living15 ...\n",
      "totalvars = 16, mae = 0.064527 \n",
      "selected = lat ...\n",
      "totalvars = 17, mae = 0.064516 \n",
      "selected = sqft_above ...\n",
      "totalvars = 18, mae = 0.064519 \n",
      "selected = sqft_lot15 ...\n",
      "totalvars = 2, mse = 0.393865 \n",
      "selected = condition ...\n",
      "totalvars = 3, mse = 0.299480 \n",
      "selected = yr_renovated ...\n",
      "totalvars = 4, mse = 0.245071 \n",
      "selected = bathrooms ...\n",
      "totalvars = 5, mse = 0.225428 \n",
      "selected = sqft_basement ...\n",
      "totalvars = 6, mse = 0.211600 \n",
      "selected = waterfront ...\n",
      "totalvars = 7, mse = 0.206922 \n",
      "selected = bedrooms ...\n",
      "totalvars = 8, mse = 0.203982 \n",
      "selected = long ...\n",
      "totalvars = 9, mse = 0.201747 \n",
      "selected = view ...\n",
      "totalvars = 10, mse = 0.200022 \n",
      "selected = sqft_lot ...\n",
      "totalvars = 11, mse = 0.198398 \n",
      "selected = floors ...\n",
      "totalvars = 12, mse = 0.197225 \n",
      "selected = sqft_living ...\n",
      "totalvars = 13, mse = 0.196811 \n",
      "selected = yr_built ...\n",
      "totalvars = 14, mse = 0.196634 \n",
      "selected = grade ...\n",
      "totalvars = 15, mse = 0.196472 \n",
      "selected = sqft_living15 ...\n",
      "totalvars = 16, mse = 0.196463 \n",
      "selected = sqft_above ...\n",
      "totalvars = 17, mse = 0.196472 \n",
      "selected = lat ...\n",
      "totalvars = 18, mse = 0.196574 \n",
      "selected = sqft_lot15 ...\n",
      "totalvars = 2, zscore = 2095.777484 \n",
      "selected = bathrooms ...\n",
      "totalvars = 3, zscore = 0.000002 \n",
      "selected = yr_renovated ...\n",
      "totalvars = 4, zscore = 71.685383 \n",
      "selected = condition ...\n",
      "totalvars = 5, zscore = 61.573267 \n",
      "selected = sqft_basement ...\n",
      "totalvars = 6, zscore = 57.025710 \n",
      "selected = long ...\n",
      "totalvars = 7, zscore = 37.580937 \n",
      "selected = bedrooms ...\n",
      "totalvars = 8, zscore = 41.076698 \n",
      "selected = waterfront ...\n",
      "totalvars = 9, zscore = 17.061303 \n",
      "selected = view ...\n",
      "totalvars = 10, zscore = 0.000000 \n",
      "selected = sqft_lot ...\n",
      "totalvars = 11, zscore = 0.000001 \n",
      "selected = floors ...\n",
      "totalvars = 12, zscore = 12.400431 \n",
      "selected = sqft_living ...\n",
      "totalvars = 13, zscore = 9.082502 \n",
      "selected = yr_built ...\n",
      "totalvars = 14, zscore = 7.963312 \n",
      "selected = grade ...\n",
      "totalvars = 15, zscore = 6.650798 \n",
      "selected = sqft_above ...\n",
      "totalvars = 16, zscore = 572903910048212.750000 \n",
      "selected = sqft_living15 ...\n",
      "totalvars = 17, zscore = 2.684891 \n",
      "selected = lat ...\n",
      "totalvars = 18, zscore = 2.470447 \n"
     ]
    },
    {
     "data": {
      "image/png": "[encoded data removed]",
      "text/plain": [
       "<matplotlib.figure.Figure at 0x102e5160>"
      ]
     },
     "metadata": {},
     "output_type": "display_data"
    },
    {
     "data": {
      "image/png": "[encoded data removed]",
      "text/plain": [
       "<matplotlib.figure.Figure at 0x102e5e48>"
      ]
     },
     "metadata": {},
     "output_type": "display_data"
    },
    {
     "data": {
      "image/png": "[encoded data removed]",
      "text/plain": [
       "<matplotlib.figure.Figure at 0x108e4128>"
      ]
     },
     "metadata": {},
     "output_type": "display_data"
    }
   ],
   "source": [
    "def fss_mse( x , y , xtest, ytest, names_x, k = 10000):\n",
    "   p = x.shape[1] - 1\n",
    "   k = min(p,k)\n",
    "   names_x = np.array(names_x)\n",
    "   remaining = range(1,p+1)\n",
    "   training_error = []\n",
    "   test_error = []\n",
    "   selected = [0]\n",
    "   current_score = 0.0\n",
    "   best_new_score = 0.0\n",
    "   fss_mse = []\n",
    "\n",
    "   while remaining and len(selected) <= k :\n",
    "      score_candidates = []\n",
    "      for candidate in remaining:\n",
    "         model = lm.LinearRegression(fit_intercept = False)\n",
    "         indexes = selected + [candidate]\n",
    "\n",
    "         x_train = x[:,indexes]\n",
    "         x_test = xtest[:,indexes]\n",
    "\n",
    "         predictions_train = model.fit(x_train,y).predict(x_train)\n",
    "         residuals_train = predictions_train - y\n",
    "\n",
    "         predictions_test = model.fit(x_train,y).predict(x_test)\n",
    "         residuals_test= predictions_test - ytest\n",
    "         mse_train_candidate = np.mean(np.power(residuals_train,2))\n",
    "         mse_test_candidate = np.mean(np.power(residuals_test,2))\n",
    "         score_candidates.append((mse_train_candidate, mse_test_candidate ,candidate))\n",
    "\n",
    "      score_candidates.sort()\n",
    "      score_candidates[:] = score_candidates[::-1]\n",
    "      best_new_score , test_score, best_candidate = score_candidates.pop()\n",
    "      training_error.append(best_new_score)\n",
    "      test_error.append(test_score)\n",
    "      remaining.remove(best_candidate)\n",
    "      selected.append(best_candidate)\n",
    "      print  \"selected = %s ...\" %names_x[best_candidate-1]\n",
    "      fss_mse.append(best_new_score)\n",
    "      print  \"totalvars = %d, mae = %f \" %(len(indexes), best_new_score)\n",
    "   #print fss_mse\n",
    "   return selected , training_error, test_error\n",
    "\n",
    "#\n",
    "#Forward Step-Wise Selection with Mean Absolute Error\n",
    "#\n",
    "def fss_mae( x , y , xtest, ytest, names_x, k = 10000):\n",
    "   p = x.shape[1] - 1\n",
    "   k = min(p,k)\n",
    "   names_x = np.array(names_x)\n",
    "   remaining = range(1,p+1)\n",
    "   training_error = []\n",
    "   test_error = []\n",
    "   selected = [0]\n",
    "   current_score = 0.0\n",
    "   best_new_score = 0.0\n",
    "   fss_mae = [] \n",
    "\n",
    "   while remaining and len(selected) <= k :\n",
    "      score_candidates = []\n",
    "      for candidate in remaining:\n",
    "         model = lm.LinearRegression(fit_intercept = False) \n",
    "         indexes = selected + [candidate]\n",
    "         x_train = x[:,indexes]\n",
    "         x_test = xtest[:,indexes]\n",
    "\n",
    "         predictions_train = model.fit(x_train,y).predict(x_train)\n",
    "         residuals_train = np.fabs(predictions_train - y)\n",
    "\n",
    "         predictions_test = model.fit(x_train,y).predict(x_test)\n",
    "         residuals_test = np.fabs(predictions_test - ytest)\n",
    "\n",
    "         mae_training_candidate = np.mean(residuals_train)\n",
    "         mae_test_candidate = np.mean(residuals_test)\n",
    "         score_candidates.append((mae_training_candidate,mae_test_candidate , candidate))\n",
    "\n",
    "      score_candidates.sort()\n",
    "      score_candidates[:] = score_candidates[::-1]\n",
    "      best_new_score , test_score ,best_candidate = score_candidates.pop()\n",
    "      training_error.append(best_new_score)\n",
    "      test_error.append(test_score)\n",
    "      remaining.remove(best_candidate)\n",
    "      selected.append(best_candidate)\n",
    "      print  \"selected = %s ...\" %names_x[best_candidate-1]\n",
    "      fss_mae.append(best_new_score)\n",
    "      print  \"totalvars = %d, mse = %f \" %(len(indexes), best_new_score)\n",
    "   #print fss_mae\n",
    "   return selected , training_error, test_error\n",
    "#\n",
    "#Forward Step-Wise Selection with Z-score\n",
    "#\n",
    "def fss_zscore( x , y , xtest, ytest, names_x, k = 10000):\n",
    "   p = x.shape[1] - 1\n",
    "   k = min(p,k)\n",
    "   names_x = np.array(names_x)\n",
    "   remaining = range(1,p+1)\n",
    "   selected = [0]\n",
    "   training_error = []\n",
    "   test_error = []\n",
    "   current_score = 0.0\n",
    "   best_new_score = 0.0\n",
    "\n",
    "   while remaining and len(selected) <= k :\n",
    "      score_candidates = []\n",
    "      for candidate in remaining:\n",
    "         model = lm.LinearRegression(fit_intercept = False)\n",
    "         indexes = selected + [candidate]\n",
    "         \n",
    "         x_train = x[:,indexes]\n",
    "         x_test = xtest[:,indexes]\n",
    "         \n",
    "         linreg = model.fit(x_train,y)\n",
    "         std_reg = getStandardRegressionError(linreg, x_train , y )\n",
    "         \n",
    "         zscore_candidate = abs(getZscore(linreg,std_reg,len(selected)+1)[-1])\n",
    "\n",
    "         predictions_train = model.fit(x_train,y).predict(x_train)\n",
    "         residuals_train = predictions_train - y\n",
    "\n",
    "         predictions_test = model.fit(x_train,y).predict(x_test)\n",
    "         residuals_test = predictions_test - ytest\n",
    "\n",
    "         zscore_train_residual = np.mean(np.power(residuals_train,2))\n",
    "         zscore_test_residual = np.mean(np.power(residuals_test,2))\n",
    "   \n",
    "         score_candidates.append((zscore_candidate,zscore_train_residual,zscore_test_residual ,candidate))\n",
    "\n",
    "      score_candidates.sort()\n",
    "      #print score_candidates[-1]\n",
    "      best_new_score , train_residual, test_residual, best_candidate = score_candidates.pop()\n",
    "      #print best_new_score\n",
    "      training_error.append(train_residual)\n",
    "      test_error.append(test_residual)\n",
    "      remaining.remove(best_candidate)\n",
    "\n",
    "      selected.append(best_candidate)\n",
    "      print  \"selected = %s ...\" %names_x[best_candidate-1]\n",
    "      print  \"totalvars = %d, zscore = %f \" %(len(indexes), best_new_score)\n",
    "   return selected , training_error, test_error\n",
    "\n",
    "def plotFSS(train_error,test_error, method):\n",
    "    p = range(1,18)\n",
    "    plt.plot(p,train_error, color=\"green\", linewidth=3, label = \"Training Set\")\n",
    "    plt.plot(p,test_error, color=\"red\",linewidth=3, label = \"Testing set\")\n",
    "    plt.legend()\n",
    "    axes = plt.gca()\n",
    "    if method == \"mse\":\n",
    "        plt.xlabel('Numero de variables')\n",
    "        plt.ylabel('Error MSE')\n",
    "        plt.title('FFS MSE ')\n",
    "        \n",
    "    \n",
    "    if method == \"mae\":\n",
    "        plt.xlabel('Numero de variables')\n",
    "        plt.ylabel('Error MAE')\n",
    "        plt.title('FFS MAE')\n",
    "        \n",
    "        \n",
    "    if method == \"zscore\":\n",
    "        plt.xlabel('Numero de variables')\n",
    "        plt.ylabel('Error Z-score')\n",
    "        plt.title('FFS Zscore')\n",
    "        \n",
    "    plt.show()\n",
    "\n",
    "selected_mse , train_error_mse , test_error_mse  = fss_mse( Xtrain.as_matrix() ,ytrain.as_matrix() , Xtest.as_matrix() ,ytest.as_matrix() ,names_regressors )\n",
    "\n",
    "selected_mae , train_error_mae, test_error_mae = fss_mae( Xtrain.as_matrix() ,ytrain.as_matrix() , Xtest.as_matrix() ,ytest.as_matrix() ,names_regressors )\n",
    "\n",
    "selected_z , train_error_z, test_error_z = fss_zscore( Xtrain.as_matrix() ,ytrain.as_matrix() , Xtest.as_matrix() ,ytest.as_matrix() ,names_regressors )\n",
    "\n",
    "plotFSS(train_error_mse , test_error_mse, \"mse\")\n",
    "plotFSS(train_error_mae , test_error_mae, \"mae\")\n",
    "plotFSS(train_error_z , test_error_z, \"zscore\")"
   ]
  },
  {
   "cell_type": "markdown",
   "metadata": {},
   "source": [
    "En base a los gráficos anteriores, se puede visualizar que a medida que se van añadiendo variables al modelo, el error tiende a disminuir. Cabe destacar, que entre los rangos de 2 a 6 variables, de forma leve el error de entrenamiento es más alto que el error de prueba."
   ]
  },
  {
   "cell_type": "markdown",
   "metadata": {},
   "source": [
    "<table style=\"width:100%\">\n",
    "    <tr>\n",
    "        <th>Selección</th>\n",
    "        <th>fss_mse</th>\n",
    "        <th>mse</th>\n",
    "        <th>fss_mae</th>\n",
    "        <th>mae</th>\n",
    "        <th>fss_zscore</th>\n",
    "        <th>zscore</th>\n",
    "    <tr><td>1</td><td>intercept</td><td>0.24468</td><td>intercept</td><td>0.39386</td><td>intercept</td><td>2095.77748</td></tr>\n",
    "<tr><td>2</td><td>grade</td><td>0.14069</td><td>grade</td><td>0.29948</td><td>long</td><td>0.0</td></tr>\n",
    "<tr><td>3</td><td>lat</td><td>0.09976</td><td>lat</td><td>0.24507</td><td>yr_built</td><td>71.68538</td></tr>\n",
    "<tr><td>4</td><td>sqft_living</td><td>0.08488</td><td>sqft_living</td><td>0.22543</td><td>condition</td><td>61.57327</td></tr>\n",
    "<tr><td>5</td><td>yr_built</td><td>0.0754</td><td>yr_built</td><td>0.2116</td><td>sqft_lot15</td><td>57.02571</td></tr>\n",
    "<tr><td>6</td><td>view</td><td>0.07178</td><td>view</td><td>0.20692</td><td>sqft_lot</td><td>37.58094</td></tr>\n",
    "<tr><td>7</td><td>sqft_living15</td><td>0.06998</td><td>bathrooms</td><td>0.20398</td><td>yr_renovated</td><td>41.0767</td></tr>\n",
    "<tr><td>8</td><td>bathrooms</td><td>0.06817</td><td>sqft_living15</td><td>0.20175</td><td>waterfront</td><td>17.0613</td></tr>\n",
    "<tr><td>9</td><td>condition</td><td>0.06675</td><td>condition</td><td>0.20002</td><td>view</td><td>0.0</td></tr>\n",
    "<tr><td>10</td><td>waterfront</td><td>0.06576</td><td>floors</td><td>0.1984</td><td>sqft_basement</td><td>0.0</td></tr>\n",
    "<tr><td>11</td><td>floors</td><td>0.06505</td><td>waterfront</td><td>0.19723</td><td>bedrooms</td><td>12.40043</td></tr>\n",
    "<tr><td>12</td><td>sqft_lot</td><td>0.06478</td><td>sqft_lot</td><td>0.19681</td><td>floors</td><td>9.0825</td></tr>\n",
    "<tr><td>13</td><td>yr_renovated</td><td>0.06458</td><td>bedrooms</td><td>0.19663</td><td>bathrooms</td><td>7.96331</td></tr>\n",
    "<tr><td>14</td><td>bedrooms</td><td>0.06455</td><td>yr_renovated</td><td>0.19647</td><td>sqft_living</td><td>6.6508</td></tr>\n",
    "<tr><td>15</td><td>sqft_basement</td><td>0.06453</td><td>sqft_basement</td><td>0.19646</td><td>sqft_above</td><td>5.72903910048e+14</td></tr>\n",
    "<tr><td>16</td><td>sqft_lot15</td><td>0.06452</td><td>sqft_lot15</td><td>0.19647</td><td>sqft_living15</td><td>2.68489</td></tr>\n",
    "<tr><td>17</td><td>long</td><td>0.06452</td><td>sqft_above</td><td>0.19657</td><td>grade</td><td>2.47045</td></tr>\n",
    "<tr><td>18</td><td>sqft_above</td><td>0.06451</td><td>long</td><td>0.19657</td><td>lat</td><td> 2.47044</td></tr>\n",
    "\n",
    "    \n",
    "</table>"
   ]
  },
  {
   "cell_type": "markdown",
   "metadata": {},
   "source": [
    "De esta tabla se puede apreciar que las variables importantes que se habían deducido anteriormente aparecen en el mismo orden o tienen un patrón de entrada al modelo en el sentido de que siempre ingresa el año de construcción(*yr_built*), luego la condición de la casa (*condition*) y finalmente los pisos(*floor*). También es posible notar que una de las variables que se repite de las cuales tienen menos efecto en el modelo es *sqft_above*. \n",
    "\n",
    "Los criterios de error cuadratico medio y error absoluto medio se comportan de forma muy similar, de hecho son muy perceptibles a la sensibilidad de cada valor ya que un mínimo cambio(0,00001) puede hacer cambiar el orden de la selección."
   ]
  },
  {
   "cell_type": "markdown",
   "metadata": {},
   "source": [
    "# Parte 3"
   ]
  },
  {
   "cell_type": "markdown",
   "metadata": {},
   "source": [
    "### a) Ridge Regression\n",
    "A continuación se realiza un ajuste con un regularizador de norma $l_2$, como lo es Ridge Regression \n",
    ". Esta regularización se realiza con un parámetro de regularización $\\lambda$ en el intervalo $[10^7,10^1]$.\n"
   ]
  },
  {
   "cell_type": "code",
   "execution_count": 128,
   "metadata": {},
   "outputs": [
    {
     "data": {
      "image/png": "[encoded data removed]",
      "text/plain": [
       "<matplotlib.figure.Figure at 0xf44de80>"
      ]
     },
     "metadata": {},
     "output_type": "display_data"
    }
   ],
   "source": [
    "from sklearn.linear_model import Ridge\n",
    "import matplotlib.pylab as plt\n",
    "X2 = X.drop('intercept', axis=1,inplace=False)\n",
    "Xtrain = X2[istrain]\n",
    "ytrain = y[istrain]\n",
    "names_regressors = X2.columns\n",
    "alphas_ = np.logspace(7,-7,base=10)\n",
    "coefs = []\n",
    "model = Ridge(fit_intercept=True,solver='svd')\n",
    "for a in alphas_:\n",
    "    model.set_params(alpha=a)\n",
    "    model.fit(Xtrain, ytrain)\n",
    "    coefs.append(model.coef_)\n",
    "    ax = plt.gca()\n",
    "for y_arr, label in zip(np.squeeze(coefs).T, names_regressors):\n",
    "    plt.plot(alphas_, y_arr, label=label)\n",
    "plt.legend()\n",
    "ax.set_xscale('log')\n",
    "ax.set_xlim(ax.get_xlim()[::-1]) # reverse axis\n",
    "plt.title('Regularization Path RIDGE')\n",
    "plt.axis('tight')\n",
    "plt.legend(loc=2)\n",
    "plt.show()"
   ]
  },
  {
   "cell_type": "markdown",
   "metadata": {},
   "source": [
    "Ridge Regression reduce los coeficientes de regresión con una variable $\\lambda$, imponiendo una penalización al valor de cada coeficiente, mientras mas grande sea $\\lambda$ , mayor será la reducción, por lo que hay buscar un valor de $\\lambda$ eficiente, dado que si $\\lambda$ es muy grande, el modelo puede sufrir <strong>underfitting</strong> o un bias elevado, mientras que un $\\lambda$ demasiado bajo, puede no afectar al modelo en absoluto y no observar cambios en el <strong>overffiting</strong>.\n",
    "<br>\n",
    "<br>\n",
    "Para aplicar Ridge Regressión es necesario que los datos estén estandarizados y eliminar el intercepto en la penalización, dado que si se penaliza el intercepto, se generará un procedimiento dependiente del origen del eje $Y$\n",
    "\n",
    "De la implementación anterior, es importante destacar que en las líneas 3 y 9 no consideran el intercepto. En la línea 3, se elimina del dataframe, mientas que en la línea 9, se indica que se debe calcular el intercepto en el modelo de Ridge. \n",
    "Del gráfico se puede observar que a medida que aumenta el $\\lambda$ los coeficientes tienden a concentrarse en un pequeño rango entre -0,05 y 0.05. Con un valor relativamente pequeño para $\\lambda$ la penalización que se realiza va afectando cada vez menos a los coeficientes de los atributos tal como se vió en  1 f)."
   ]
  },
  {
   "cell_type": "markdown",
   "metadata": {},
   "source": [
    "### b)  Lasso "
   ]
  },
  {
   "cell_type": "markdown",
   "metadata": {},
   "source": [
    "A continuación se realiza un ajuste con un regularizador de norma *l1*, como lo es Lasso. Esta regularización se realiza con un parámetro de regularización $\\lambda$ en el intervalo $[10^0,10^{-3}]$.\n",
    "Cabe destacar que para esta implementación tampoco se toma en cuenta el intercepto original."
   ]
  },
  {
   "cell_type": "code",
   "execution_count": 131,
   "metadata": {},
   "outputs": [
    {
     "data": {
      "image/png": "[encoded data removed]",
      "text/plain": [
       "<matplotlib.figure.Figure at 0x8cefc50>"
      ]
     },
     "metadata": {},
     "output_type": "display_data"
    }
   ],
   "source": [
    "from sklearn.linear_model import Lasso\n",
    "import matplotlib.pylab as plt\n",
    "X2 = X.drop('intercept', axis=1,inplace=False)\n",
    "Xtrain = X2[istrain]\n",
    "ytrain = y[istrain]\n",
    "names_regressors = X2.columns\n",
    "alphas_ = np.logspace(0,-3,base=10)\n",
    "coefs = []\n",
    "model = Lasso(fit_intercept=True)\n",
    "for a in alphas_:\n",
    "    model.set_params(alpha=a)\n",
    "    model.fit(Xtrain, ytrain)\n",
    "    coefs.append(model.coef_)\n",
    "    ax = plt.gca()\n",
    "for y_arr, label in zip(np.squeeze(coefs).T, names_regressors):\n",
    "    plt.plot(alphas_, y_arr,label=label)\n",
    "plt.legend()\n",
    "ax.set_xscale('log')\n",
    "ax.set_xlim(ax.get_xlim()[::-1]) # reverse axis\n",
    "plt.title('Regularization Path LASSO')\n",
    "plt.axis('tight')\n",
    "plt.legend(loc=2)\n",
    "plt.show()"
   ]
  },
  {
   "cell_type": "markdown",
   "metadata": {},
   "source": [
    "Del gráfico podemos observar que el  $\\lambda$ es mas sensible en comparación con Ridge, dado que con un  $\\lambda = 1 $ lleva  los coeficientes de todas las variables a 0, mientras que Ridge mientras esta misma condición el efecto es casi nulo respecto al valor original de los coeficientes. Se aprecia además, como los coeficientes son llevados directamente a 0 mediante este método a diferencia donde los coeficientes de Ridge pueden llegar muy cercano a 0 pero no son nulos. Lo anterior se visualiza a través de las 2 gráficas dado que para Ridge la curva de cada predictor es suave, mientras en Lasso la curva de nacimiento de un predictor es brusca.\n",
    "\n",
    "En cierta medida Lasso es más efectivo en la elección de atributos dado que para cierto $\\lambda$ indica que atributos son los que no hay que seleccionar ya que se trunca directamente a 0, mientras que Ridge en estas mismas condiciones nos indica los coeficientes de los predictores que menos afectan pero el analista de estos datos es el que debe determinar desde que valor no seleccionar estos atributos."
   ]
  },
  {
   "cell_type": "markdown",
   "metadata": {},
   "source": [
    "### c) Error de entrenamiento vs error de prueba en Ridge\n"
   ]
  },
  {
   "cell_type": "code",
   "execution_count": null,
   "metadata": {
    "collapsed": true
   },
   "outputs": [],
   "source": [
    "Vamos a escoger Ridge dado que este método se recomienda cuando los atributos poseen baja dimensionalidad,"
   ]
  },
  {
   "cell_type": "code",
   "execution_count": 133,
   "metadata": {},
   "outputs": [
    {
     "data": {
      "image/png": "[encoded data removed]",
      "text/plain": [
       "<matplotlib.figure.Figure at 0xbc9ce48>"
      ]
     },
     "metadata": {},
     "output_type": "display_data"
    },
    {
     "data": {
      "image/png": "[encoded data removed]",
      "text/plain": [
       "<matplotlib.figure.Figure at 0xef51668>"
      ]
     },
     "metadata": {},
     "output_type": "display_data"
    }
   ],
   "source": [
    "Xtest = X2[np.logical_not(istrain)]\n",
    "ytest = y[np.logical_not(istrain)]\n",
    "alphas_ = np.logspace(7,1,base=10)\n",
    "coefs = []\n",
    "model = Ridge(fit_intercept=True,solver='svd')\n",
    "mse_test = []\n",
    "mse_train = []\n",
    "for a in alphas_:\n",
    "    model.set_params(alpha=a)\n",
    "    model.fit(Xtrain, ytrain)\n",
    "    yhat_train = model.predict(Xtrain)\n",
    "    yhat_test = model.predict(Xtest)\n",
    "    mse_train.append(np.mean(np.power(yhat_train - ytrain, 2)))\n",
    "    mse_test.append(np.mean(np.power(yhat_test - ytest, 2)))\n",
    "ax = plt.gca()\n",
    "ax.plot(alphas_,mse_train,label='train error ridge')\n",
    "ax.plot(alphas_,mse_test,label='test error ridge')\n",
    "plt.legend(loc=1)\n",
    "plt.title('Regularization Path RIDGE')\n",
    "ax.set_xscale('log')\n",
    "ax.set_xlim(ax.get_xlim()[::-1])\n",
    "plt.show()\n",
    "\n",
    "\n",
    "# LASSO\n",
    "Xtest = X2[np.logical_not(istrain)]\n",
    "ytest = y[np.logical_not(istrain)]\n",
    "alphas_ = np.logspace(0,-3,base=10)\n",
    "coefs = []\n",
    "model = Lasso(fit_intercept=True)\n",
    "mse_test = []\n",
    "mse_train = []\n",
    "for a in alphas_:\n",
    "    model.set_params(alpha=a)\n",
    "    model.fit(Xtrain, ytrain)\n",
    "    yhat_train = model.predict(Xtrain)\n",
    "    yhat_test = model.predict(Xtest)\n",
    "    mse_train.append(np.mean(np.power(yhat_train - ytrain, 2)))\n",
    "    mse_test.append(np.mean(np.power(yhat_test - ytest, 2)))\n",
    "ax = plt.gca()\n",
    "ax.plot(alphas_,mse_train,label='train error lasso')\n",
    "ax.plot(alphas_,mse_test,label='test error lasso')\n",
    "plt.legend(loc=1)\n",
    "plt.title('Regularization Path LASSO')\n",
    "ax.set_xscale('log')\n",
    "ax.set_xlim(ax.get_xlim()[::-1])\n",
    "plt.show()\n"
   ]
  },
  {
   "cell_type": "markdown",
   "metadata": {},
   "source": [
    "### d) Estimación parámetro de regularización"
   ]
  },
  {
   "cell_type": "code",
   "execution_count": 134,
   "metadata": {},
   "outputs": [
    {
     "name": "stdout",
     "output_type": "stream",
     "text": [
      "BEST PARAMETER=30.888436, MSE(CV)=0.064682\n"
     ]
    }
   ],
   "source": [
    "def MSE(y,yhat): return np.mean(np.power(y-yhat,2))\n",
    "Xm = Xtrain.as_matrix()\n",
    "ym = ytrain.as_matrix()\n",
    "from sklearn.model_selection import KFold\n",
    "kf = KFold(n_splits=10)\n",
    "best_cv_mse = float(\"inf\")\n",
    "model = Ridge(fit_intercept=True,solver='svd')\n",
    "alphas_ = np.logspace(7,1,base=10)\n",
    "#print(largo)\n",
    "#print(alphas_)\n",
    "for a in alphas_:\n",
    "    model.set_params(alpha=a)\n",
    "    mse_list_k10 = [MSE(model.fit(Xm[train], ym[train]).predict(Xm[val]), ym[val]) \\\n",
    "        for train, val in kf.split(Xm)]\n",
    "    if np.mean(mse_list_k10) < best_cv_mse:\n",
    "        best_cv_mse = np.mean(mse_list_k10)\n",
    "        best_alpha = a\n",
    "\n",
    "print \"BEST PARAMETER=%f, MSE(CV)=%f\"%(best_alpha,best_cv_mse)"
   ]
  },
  {
   "cell_type": "markdown",
   "metadata": {},
   "source": []
  },
  {
   "cell_type": "markdown",
   "metadata": {},
   "source": [
    "# Parte 4"
   ]
  },
  {
   "cell_type": "markdown",
   "metadata": {},
   "source": [
    "Se genera una pequeña muestra A, la cual es extraída directamente de los datos actuales y una muestra B estratificada, esto es, generada con el propósito de que en cada intervalo del rango de valores haya aproximadamente la misma cantidad de datos."
   ]
  },
  {
   "cell_type": "code",
   "execution_count": 137,
   "metadata": {
    "collapsed": true
   },
   "outputs": [],
   "source": [
    "df_A = df_scaled.sample(1000,random_state=11)\n",
    "frames = []\n",
    "valor = df_scaled.price\n",
    "length = 0.3\n",
    "for z in np.arange(int(np.min(valor)),int(np.max(valor))+1,length):\n",
    "    #un maximo de 100 datos por intervalo\n",
    "    aux = df_scaled[(df_scaled.price >= z) & (df_scaled.price < z+length)].head(100)\n",
    "    frames.append(aux)\n",
    "df_B = pd.concat(frames).sample(1000,random_state=11) #crea el dataframe"
   ]
  },
  {
   "cell_type": "markdown",
   "metadata": {},
   "source": [
    "## a)  Hold out validation"
   ]
  },
  {
   "cell_type": "markdown",
   "metadata": {},
   "source": [
    "A continuación se procede a la creación de conjuntos con una proporción de 70% para entrenamiento y 30% para test."
   ]
  },
  {
   "cell_type": "code",
   "execution_count": 140,
   "metadata": {},
   "outputs": [],
   "source": [
    "X_A = df_A.iloc[:,1:].values\n",
    "y_A = df_A.price\n",
    "X_B = df_B.iloc[:,1:].values\n",
    "y_B = df_B.price\n",
    "from sklearn.model_selection import train_test_split\n",
    "Xtrain_A,Xval_A,ytrain_A,yval_A = train_test_split(X_A, y_A, test_size=0.3, random_state=42)\n",
    "Xtrain_B,Xval_B,ytrain_B,yval_B = train_test_split(X_B, y_B, test_size=0.3, random_state=42)"
   ]
  },
  {
   "cell_type": "markdown",
   "metadata": {},
   "source": [
    "Se trabajará cada muestra mediante la técnica *hold out validation* la cual es la versión simplificado de K cross validation  ya que se basa en una sola validación."
   ]
  },
  {
   "cell_type": "markdown",
   "metadata": {},
   "source": [
    "## b) Regresión lineal en muestra A y B."
   ]
  },
  {
   "cell_type": "markdown",
   "metadata": {},
   "source": [
    "Eval\u0013ue los dos modelo de regresi\u0013on lineal que se generan al entrenar con cada muestra. Mida el error\n",
    "de cada modelo sobre ambos conjuntos de validaci\u0013on (A y B). Explique lo que observa."
   ]
  },
  {
   "cell_type": "code",
   "execution_count": 141,
   "metadata": {},
   "outputs": [
    {
     "name": "stdout",
     "output_type": "stream",
     "text": [
      "Error de validación conjunto A: 0.0716060037342\n",
      "Error de validación conjunto B: 0.119065298409\n"
     ]
    }
   ],
   "source": [
    "linreg = lm.LinearRegression(fit_intercept = True)\n",
    "\n",
    "modelo_A = linreg.fit(Xtrain_A, ytrain_A)\n",
    "yhat_val = linreg.predict(Xval_A)\n",
    "val_errorA = np.mean(np.power(yhat_val - yval_A, 2))\n",
    "print \"Error de validación conjunto A:\",val_errorA\n",
    "\n",
    "modelo_B = linreg.fit(Xtrain_B, ytrain_B)\n",
    "yhat_val = linreg.predict(Xval_B)\n",
    "val_errorB = np.mean(np.power(yhat_val - yval_B, 2))\n",
    "print \"Error de validación conjunto B:\",val_errorB\n"
   ]
  },
  {
   "cell_type": "markdown",
   "metadata": {},
   "source": [
    "Observando los errores para los modelos A y B sobre los respectivos conjuntos de validación, se puede dar cuenta de que el conjunto A obtiene un menor error de validación de 5% con respecto al conjunto B, lo que implica  a nueva data, la predicción del modelo A será más cercana que la del modelo B."
   ]
  },
  {
   "cell_type": "markdown",
   "metadata": {},
   "source": [
    "## c) Elección de modelo"
   ]
  },
  {
   "cell_type": "markdown",
   "metadata": {},
   "source": [
    "El comportamiento de los errores puede ser atribuible a la distribución que tiene cada muestra ya que la muestra A la cual tiene un menor error tiene una distribución normal mientras que la muestra B tiene una distribución uniforme, así al llegar un nuevo dato es más probable que se comporte de una forma normal a de una manera estratificada."
   ]
  }
 ],
 "metadata": {
  "kernelspec": {
   "display_name": "Python 2",
   "language": "python",
   "name": "python2"
  },
  "language_info": {
   "codemirror_mode": {
    "name": "ipython",
    "version": 2
   },
   "file_extension": ".py",
   "mimetype": "text/x-python",
   "name": "python",
   "nbconvert_exporter": "python",
   "pygments_lexer": "ipython2",
   "version": "2.7.13"
  }
 },
 "nbformat": 4,
 "nbformat_minor": 2
}
